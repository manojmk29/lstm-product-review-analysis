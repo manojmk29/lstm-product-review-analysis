{
 "cells": [
  {
   "cell_type": "code",
   "execution_count": 1,
   "metadata": {},
   "outputs": [],
   "source": [
    "import pandas as pd\n",
    "import numpy as np\n",
    "import matplotlib.pyplot as plt\n",
    "import seaborn as sns"
   ]
  },
  {
   "cell_type": "code",
   "execution_count": 2,
   "metadata": {},
   "outputs": [],
   "source": [
    "import tensorflow as tf\n",
    "from tensorflow import keras"
   ]
  },
  {
   "cell_type": "code",
   "execution_count": 3,
   "metadata": {},
   "outputs": [],
   "source": [
    "import re\n",
    "from nltk.corpus import stopwords\n",
    "from nltk.stem.porter import PorterStemmer\n"
   ]
  },
  {
   "cell_type": "code",
   "execution_count": 4,
   "metadata": {},
   "outputs": [],
   "source": [
    "data=pd.read_csv('C:/Users/Asus/Downloads/Datafiniti_Amazon_Consumer_Reviews_of_Amazon/Datafiniti_Amazon_Consumer_Reviews_of_Amazon_Products_May19.csv')"
   ]
  },
  {
   "cell_type": "code",
   "execution_count": 5,
   "metadata": {},
   "outputs": [
    {
     "data": {
      "text/html": [
       "<div>\n",
       "<style scoped>\n",
       "    .dataframe tbody tr th:only-of-type {\n",
       "        vertical-align: middle;\n",
       "    }\n",
       "\n",
       "    .dataframe tbody tr th {\n",
       "        vertical-align: top;\n",
       "    }\n",
       "\n",
       "    .dataframe thead th {\n",
       "        text-align: right;\n",
       "    }\n",
       "</style>\n",
       "<table border=\"1\" class=\"dataframe\">\n",
       "  <thead>\n",
       "    <tr style=\"text-align: right;\">\n",
       "      <th></th>\n",
       "      <th>id</th>\n",
       "      <th>dateAdded</th>\n",
       "      <th>dateUpdated</th>\n",
       "      <th>name</th>\n",
       "      <th>asins</th>\n",
       "      <th>brand</th>\n",
       "      <th>categories</th>\n",
       "      <th>primaryCategories</th>\n",
       "      <th>imageURLs</th>\n",
       "      <th>keys</th>\n",
       "      <th>...</th>\n",
       "      <th>reviews.didPurchase</th>\n",
       "      <th>reviews.doRecommend</th>\n",
       "      <th>reviews.id</th>\n",
       "      <th>reviews.numHelpful</th>\n",
       "      <th>reviews.rating</th>\n",
       "      <th>reviews.sourceURLs</th>\n",
       "      <th>reviews.text</th>\n",
       "      <th>reviews.title</th>\n",
       "      <th>reviews.username</th>\n",
       "      <th>sourceURLs</th>\n",
       "    </tr>\n",
       "  </thead>\n",
       "  <tbody>\n",
       "    <tr>\n",
       "      <th>0</th>\n",
       "      <td>AVpgNzjwLJeJML43Kpxn</td>\n",
       "      <td>2015-10-30T08:59:32Z</td>\n",
       "      <td>2019-04-25T09:08:16Z</td>\n",
       "      <td>AmazonBasics AAA Performance Alkaline Batterie...</td>\n",
       "      <td>B00QWO9P0O,B00LH3DMUO</td>\n",
       "      <td>Amazonbasics</td>\n",
       "      <td>AA,AAA,Health,Electronics,Health &amp; Household,C...</td>\n",
       "      <td>Health &amp; Beauty</td>\n",
       "      <td>https://images-na.ssl-images-amazon.com/images...</td>\n",
       "      <td>amazonbasics/hl002619,amazonbasicsaaaperforman...</td>\n",
       "      <td>...</td>\n",
       "      <td>NaN</td>\n",
       "      <td>NaN</td>\n",
       "      <td>NaN</td>\n",
       "      <td>NaN</td>\n",
       "      <td>3</td>\n",
       "      <td>https://www.amazon.com/product-reviews/B00QWO9...</td>\n",
       "      <td>I order 3 of them and one of the item is bad q...</td>\n",
       "      <td>... 3 of them and one of the item is bad quali...</td>\n",
       "      <td>Byger yang</td>\n",
       "      <td>https://www.barcodable.com/upc/841710106442,ht...</td>\n",
       "    </tr>\n",
       "    <tr>\n",
       "      <th>1</th>\n",
       "      <td>AVpgNzjwLJeJML43Kpxn</td>\n",
       "      <td>2015-10-30T08:59:32Z</td>\n",
       "      <td>2019-04-25T09:08:16Z</td>\n",
       "      <td>AmazonBasics AAA Performance Alkaline Batterie...</td>\n",
       "      <td>B00QWO9P0O,B00LH3DMUO</td>\n",
       "      <td>Amazonbasics</td>\n",
       "      <td>AA,AAA,Health,Electronics,Health &amp; Household,C...</td>\n",
       "      <td>Health &amp; Beauty</td>\n",
       "      <td>https://images-na.ssl-images-amazon.com/images...</td>\n",
       "      <td>amazonbasics/hl002619,amazonbasicsaaaperforman...</td>\n",
       "      <td>...</td>\n",
       "      <td>NaN</td>\n",
       "      <td>NaN</td>\n",
       "      <td>NaN</td>\n",
       "      <td>NaN</td>\n",
       "      <td>4</td>\n",
       "      <td>https://www.amazon.com/product-reviews/B00QWO9...</td>\n",
       "      <td>Bulk is always the less expensive way to go fo...</td>\n",
       "      <td>... always the less expensive way to go for pr...</td>\n",
       "      <td>ByMG</td>\n",
       "      <td>https://www.barcodable.com/upc/841710106442,ht...</td>\n",
       "    </tr>\n",
       "    <tr>\n",
       "      <th>2</th>\n",
       "      <td>AVpgNzjwLJeJML43Kpxn</td>\n",
       "      <td>2015-10-30T08:59:32Z</td>\n",
       "      <td>2019-04-25T09:08:16Z</td>\n",
       "      <td>AmazonBasics AAA Performance Alkaline Batterie...</td>\n",
       "      <td>B00QWO9P0O,B00LH3DMUO</td>\n",
       "      <td>Amazonbasics</td>\n",
       "      <td>AA,AAA,Health,Electronics,Health &amp; Household,C...</td>\n",
       "      <td>Health &amp; Beauty</td>\n",
       "      <td>https://images-na.ssl-images-amazon.com/images...</td>\n",
       "      <td>amazonbasics/hl002619,amazonbasicsaaaperforman...</td>\n",
       "      <td>...</td>\n",
       "      <td>NaN</td>\n",
       "      <td>NaN</td>\n",
       "      <td>NaN</td>\n",
       "      <td>NaN</td>\n",
       "      <td>5</td>\n",
       "      <td>https://www.amazon.com/product-reviews/B00QWO9...</td>\n",
       "      <td>Well they are not Duracell but for the price i...</td>\n",
       "      <td>... are not Duracell but for the price i am ha...</td>\n",
       "      <td>BySharon Lambert</td>\n",
       "      <td>https://www.barcodable.com/upc/841710106442,ht...</td>\n",
       "    </tr>\n",
       "    <tr>\n",
       "      <th>3</th>\n",
       "      <td>AVpgNzjwLJeJML43Kpxn</td>\n",
       "      <td>2015-10-30T08:59:32Z</td>\n",
       "      <td>2019-04-25T09:08:16Z</td>\n",
       "      <td>AmazonBasics AAA Performance Alkaline Batterie...</td>\n",
       "      <td>B00QWO9P0O,B00LH3DMUO</td>\n",
       "      <td>Amazonbasics</td>\n",
       "      <td>AA,AAA,Health,Electronics,Health &amp; Household,C...</td>\n",
       "      <td>Health &amp; Beauty</td>\n",
       "      <td>https://images-na.ssl-images-amazon.com/images...</td>\n",
       "      <td>amazonbasics/hl002619,amazonbasicsaaaperforman...</td>\n",
       "      <td>...</td>\n",
       "      <td>NaN</td>\n",
       "      <td>NaN</td>\n",
       "      <td>NaN</td>\n",
       "      <td>NaN</td>\n",
       "      <td>5</td>\n",
       "      <td>https://www.amazon.com/product-reviews/B00QWO9...</td>\n",
       "      <td>Seem to work as well as name brand batteries a...</td>\n",
       "      <td>... as well as name brand batteries at a much ...</td>\n",
       "      <td>Bymark sexson</td>\n",
       "      <td>https://www.barcodable.com/upc/841710106442,ht...</td>\n",
       "    </tr>\n",
       "    <tr>\n",
       "      <th>4</th>\n",
       "      <td>AVpgNzjwLJeJML43Kpxn</td>\n",
       "      <td>2015-10-30T08:59:32Z</td>\n",
       "      <td>2019-04-25T09:08:16Z</td>\n",
       "      <td>AmazonBasics AAA Performance Alkaline Batterie...</td>\n",
       "      <td>B00QWO9P0O,B00LH3DMUO</td>\n",
       "      <td>Amazonbasics</td>\n",
       "      <td>AA,AAA,Health,Electronics,Health &amp; Household,C...</td>\n",
       "      <td>Health &amp; Beauty</td>\n",
       "      <td>https://images-na.ssl-images-amazon.com/images...</td>\n",
       "      <td>amazonbasics/hl002619,amazonbasicsaaaperforman...</td>\n",
       "      <td>...</td>\n",
       "      <td>NaN</td>\n",
       "      <td>NaN</td>\n",
       "      <td>NaN</td>\n",
       "      <td>NaN</td>\n",
       "      <td>5</td>\n",
       "      <td>https://www.amazon.com/product-reviews/B00QWO9...</td>\n",
       "      <td>These batteries are very long lasting the pric...</td>\n",
       "      <td>... batteries are very long lasting the price ...</td>\n",
       "      <td>Bylinda</td>\n",
       "      <td>https://www.barcodable.com/upc/841710106442,ht...</td>\n",
       "    </tr>\n",
       "  </tbody>\n",
       "</table>\n",
       "<p>5 rows × 24 columns</p>\n",
       "</div>"
      ],
      "text/plain": [
       "                     id             dateAdded           dateUpdated  \\\n",
       "0  AVpgNzjwLJeJML43Kpxn  2015-10-30T08:59:32Z  2019-04-25T09:08:16Z   \n",
       "1  AVpgNzjwLJeJML43Kpxn  2015-10-30T08:59:32Z  2019-04-25T09:08:16Z   \n",
       "2  AVpgNzjwLJeJML43Kpxn  2015-10-30T08:59:32Z  2019-04-25T09:08:16Z   \n",
       "3  AVpgNzjwLJeJML43Kpxn  2015-10-30T08:59:32Z  2019-04-25T09:08:16Z   \n",
       "4  AVpgNzjwLJeJML43Kpxn  2015-10-30T08:59:32Z  2019-04-25T09:08:16Z   \n",
       "\n",
       "                                                name                  asins  \\\n",
       "0  AmazonBasics AAA Performance Alkaline Batterie...  B00QWO9P0O,B00LH3DMUO   \n",
       "1  AmazonBasics AAA Performance Alkaline Batterie...  B00QWO9P0O,B00LH3DMUO   \n",
       "2  AmazonBasics AAA Performance Alkaline Batterie...  B00QWO9P0O,B00LH3DMUO   \n",
       "3  AmazonBasics AAA Performance Alkaline Batterie...  B00QWO9P0O,B00LH3DMUO   \n",
       "4  AmazonBasics AAA Performance Alkaline Batterie...  B00QWO9P0O,B00LH3DMUO   \n",
       "\n",
       "          brand                                         categories  \\\n",
       "0  Amazonbasics  AA,AAA,Health,Electronics,Health & Household,C...   \n",
       "1  Amazonbasics  AA,AAA,Health,Electronics,Health & Household,C...   \n",
       "2  Amazonbasics  AA,AAA,Health,Electronics,Health & Household,C...   \n",
       "3  Amazonbasics  AA,AAA,Health,Electronics,Health & Household,C...   \n",
       "4  Amazonbasics  AA,AAA,Health,Electronics,Health & Household,C...   \n",
       "\n",
       "  primaryCategories                                          imageURLs  \\\n",
       "0   Health & Beauty  https://images-na.ssl-images-amazon.com/images...   \n",
       "1   Health & Beauty  https://images-na.ssl-images-amazon.com/images...   \n",
       "2   Health & Beauty  https://images-na.ssl-images-amazon.com/images...   \n",
       "3   Health & Beauty  https://images-na.ssl-images-amazon.com/images...   \n",
       "4   Health & Beauty  https://images-na.ssl-images-amazon.com/images...   \n",
       "\n",
       "                                                keys  ... reviews.didPurchase  \\\n",
       "0  amazonbasics/hl002619,amazonbasicsaaaperforman...  ...                 NaN   \n",
       "1  amazonbasics/hl002619,amazonbasicsaaaperforman...  ...                 NaN   \n",
       "2  amazonbasics/hl002619,amazonbasicsaaaperforman...  ...                 NaN   \n",
       "3  amazonbasics/hl002619,amazonbasicsaaaperforman...  ...                 NaN   \n",
       "4  amazonbasics/hl002619,amazonbasicsaaaperforman...  ...                 NaN   \n",
       "\n",
       "  reviews.doRecommend reviews.id reviews.numHelpful reviews.rating  \\\n",
       "0                 NaN        NaN                NaN              3   \n",
       "1                 NaN        NaN                NaN              4   \n",
       "2                 NaN        NaN                NaN              5   \n",
       "3                 NaN        NaN                NaN              5   \n",
       "4                 NaN        NaN                NaN              5   \n",
       "\n",
       "                                  reviews.sourceURLs  \\\n",
       "0  https://www.amazon.com/product-reviews/B00QWO9...   \n",
       "1  https://www.amazon.com/product-reviews/B00QWO9...   \n",
       "2  https://www.amazon.com/product-reviews/B00QWO9...   \n",
       "3  https://www.amazon.com/product-reviews/B00QWO9...   \n",
       "4  https://www.amazon.com/product-reviews/B00QWO9...   \n",
       "\n",
       "                                        reviews.text  \\\n",
       "0  I order 3 of them and one of the item is bad q...   \n",
       "1  Bulk is always the less expensive way to go fo...   \n",
       "2  Well they are not Duracell but for the price i...   \n",
       "3  Seem to work as well as name brand batteries a...   \n",
       "4  These batteries are very long lasting the pric...   \n",
       "\n",
       "                                       reviews.title  reviews.username  \\\n",
       "0  ... 3 of them and one of the item is bad quali...        Byger yang   \n",
       "1  ... always the less expensive way to go for pr...              ByMG   \n",
       "2  ... are not Duracell but for the price i am ha...  BySharon Lambert   \n",
       "3  ... as well as name brand batteries at a much ...     Bymark sexson   \n",
       "4  ... batteries are very long lasting the price ...           Bylinda   \n",
       "\n",
       "                                          sourceURLs  \n",
       "0  https://www.barcodable.com/upc/841710106442,ht...  \n",
       "1  https://www.barcodable.com/upc/841710106442,ht...  \n",
       "2  https://www.barcodable.com/upc/841710106442,ht...  \n",
       "3  https://www.barcodable.com/upc/841710106442,ht...  \n",
       "4  https://www.barcodable.com/upc/841710106442,ht...  \n",
       "\n",
       "[5 rows x 24 columns]"
      ]
     },
     "execution_count": 5,
     "metadata": {},
     "output_type": "execute_result"
    }
   ],
   "source": [
    "data.head()"
   ]
  },
  {
   "cell_type": "code",
   "execution_count": 6,
   "metadata": {},
   "outputs": [
    {
     "data": {
      "text/plain": [
       "Index(['id', 'dateAdded', 'dateUpdated', 'name', 'asins', 'brand',\n",
       "       'categories', 'primaryCategories', 'imageURLs', 'keys', 'manufacturer',\n",
       "       'manufacturerNumber', 'reviews.date', 'reviews.dateSeen',\n",
       "       'reviews.didPurchase', 'reviews.doRecommend', 'reviews.id',\n",
       "       'reviews.numHelpful', 'reviews.rating', 'reviews.sourceURLs',\n",
       "       'reviews.text', 'reviews.title', 'reviews.username', 'sourceURLs'],\n",
       "      dtype='object')"
      ]
     },
     "execution_count": 6,
     "metadata": {},
     "output_type": "execute_result"
    }
   ],
   "source": [
    "data.columns"
   ]
  },
  {
   "cell_type": "code",
   "execution_count": 7,
   "metadata": {},
   "outputs": [
    {
     "data": {
      "text/html": [
       "<div>\n",
       "<style scoped>\n",
       "    .dataframe tbody tr th:only-of-type {\n",
       "        vertical-align: middle;\n",
       "    }\n",
       "\n",
       "    .dataframe tbody tr th {\n",
       "        vertical-align: top;\n",
       "    }\n",
       "\n",
       "    .dataframe thead th {\n",
       "        text-align: right;\n",
       "    }\n",
       "</style>\n",
       "<table border=\"1\" class=\"dataframe\">\n",
       "  <thead>\n",
       "    <tr style=\"text-align: right;\">\n",
       "      <th></th>\n",
       "      <th>reviews.rating</th>\n",
       "      <th>reviews.text</th>\n",
       "    </tr>\n",
       "  </thead>\n",
       "  <tbody>\n",
       "    <tr>\n",
       "      <th>0</th>\n",
       "      <td>3</td>\n",
       "      <td>I order 3 of them and one of the item is bad q...</td>\n",
       "    </tr>\n",
       "    <tr>\n",
       "      <th>1</th>\n",
       "      <td>4</td>\n",
       "      <td>Bulk is always the less expensive way to go fo...</td>\n",
       "    </tr>\n",
       "    <tr>\n",
       "      <th>2</th>\n",
       "      <td>5</td>\n",
       "      <td>Well they are not Duracell but for the price i...</td>\n",
       "    </tr>\n",
       "    <tr>\n",
       "      <th>3</th>\n",
       "      <td>5</td>\n",
       "      <td>Seem to work as well as name brand batteries a...</td>\n",
       "    </tr>\n",
       "    <tr>\n",
       "      <th>4</th>\n",
       "      <td>5</td>\n",
       "      <td>These batteries are very long lasting the pric...</td>\n",
       "    </tr>\n",
       "  </tbody>\n",
       "</table>\n",
       "</div>"
      ],
      "text/plain": [
       "   reviews.rating                                       reviews.text\n",
       "0               3  I order 3 of them and one of the item is bad q...\n",
       "1               4  Bulk is always the less expensive way to go fo...\n",
       "2               5  Well they are not Duracell but for the price i...\n",
       "3               5  Seem to work as well as name brand batteries a...\n",
       "4               5  These batteries are very long lasting the pric..."
      ]
     },
     "execution_count": 7,
     "metadata": {},
     "output_type": "execute_result"
    }
   ],
   "source": [
    "data = data[['reviews.rating' , 'reviews.text']]\n",
    "data=data.dropna()\n",
    "data.head()"
   ]
  },
  {
   "cell_type": "code",
   "execution_count": 8,
   "metadata": {},
   "outputs": [],
   "source": [
    "df=data.copy()"
   ]
  },
  {
   "cell_type": "code",
   "execution_count": 9,
   "metadata": {},
   "outputs": [
    {
     "data": {
      "image/png": "[encoded data removed]",
      "text/plain": [
       "<Figure size 432x288 with 1 Axes>"
      ]
     },
     "metadata": {
      "needs_background": "light"
     },
     "output_type": "display_data"
    }
   ],
   "source": [
    "counts = data['reviews.rating'].value_counts()\n",
    "plt.bar(counts.index, counts.values)\n",
    "plt.show()"
   ]
  },
  {
   "cell_type": "code",
   "execution_count": 10,
   "metadata": {},
   "outputs": [],
   "source": [
    "sentiment = {1: 0,2: 0,3: 0,4: 1,5: 1}\n",
    "\n",
    "df[\"sentiment\"] = df[\"reviews.rating\"].map(sentiment)\n",
    "\n",
    "#print(df[df[\"sentiment\"].isnull()])\n",
    "df[\"sentiment\"] = pd.to_numeric(df[\"sentiment\"], errors='coerce')                                    \n",
    "df = df.dropna(subset=[\"sentiment\"])\n",
    "df[\"sentiment\"]  = df[\"sentiment\"] .astype(int)"
   ]
  },
  {
   "cell_type": "code",
   "execution_count": 11,
   "metadata": {},
   "outputs": [
    {
     "data": {
      "text/html": [
       "<div>\n",
       "<style scoped>\n",
       "    .dataframe tbody tr th:only-of-type {\n",
       "        vertical-align: middle;\n",
       "    }\n",
       "\n",
       "    .dataframe tbody tr th {\n",
       "        vertical-align: top;\n",
       "    }\n",
       "\n",
       "    .dataframe thead th {\n",
       "        text-align: right;\n",
       "    }\n",
       "</style>\n",
       "<table border=\"1\" class=\"dataframe\">\n",
       "  <thead>\n",
       "    <tr style=\"text-align: right;\">\n",
       "      <th></th>\n",
       "      <th>reviews.rating</th>\n",
       "      <th>reviews.text</th>\n",
       "      <th>sentiment</th>\n",
       "    </tr>\n",
       "  </thead>\n",
       "  <tbody>\n",
       "    <tr>\n",
       "      <th>0</th>\n",
       "      <td>3</td>\n",
       "      <td>I order 3 of them and one of the item is bad q...</td>\n",
       "      <td>0</td>\n",
       "    </tr>\n",
       "    <tr>\n",
       "      <th>1</th>\n",
       "      <td>4</td>\n",
       "      <td>Bulk is always the less expensive way to go fo...</td>\n",
       "      <td>1</td>\n",
       "    </tr>\n",
       "    <tr>\n",
       "      <th>2</th>\n",
       "      <td>5</td>\n",
       "      <td>Well they are not Duracell but for the price i...</td>\n",
       "      <td>1</td>\n",
       "    </tr>\n",
       "    <tr>\n",
       "      <th>3</th>\n",
       "      <td>5</td>\n",
       "      <td>Seem to work as well as name brand batteries a...</td>\n",
       "      <td>1</td>\n",
       "    </tr>\n",
       "    <tr>\n",
       "      <th>4</th>\n",
       "      <td>5</td>\n",
       "      <td>These batteries are very long lasting the pric...</td>\n",
       "      <td>1</td>\n",
       "    </tr>\n",
       "    <tr>\n",
       "      <th>...</th>\n",
       "      <td>...</td>\n",
       "      <td>...</td>\n",
       "      <td>...</td>\n",
       "    </tr>\n",
       "    <tr>\n",
       "      <th>28327</th>\n",
       "      <td>5</td>\n",
       "      <td>I got 2 of these for my 8 yr old twins. My 11 ...</td>\n",
       "      <td>1</td>\n",
       "    </tr>\n",
       "    <tr>\n",
       "      <th>28328</th>\n",
       "      <td>4</td>\n",
       "      <td>I bought this for my niece for a Christmas gif...</td>\n",
       "      <td>1</td>\n",
       "    </tr>\n",
       "    <tr>\n",
       "      <th>28329</th>\n",
       "      <td>5</td>\n",
       "      <td>Very nice for light internet browsing, keeping...</td>\n",
       "      <td>1</td>\n",
       "    </tr>\n",
       "    <tr>\n",
       "      <th>28330</th>\n",
       "      <td>5</td>\n",
       "      <td>This Tablet does absolutely everything I want!...</td>\n",
       "      <td>1</td>\n",
       "    </tr>\n",
       "    <tr>\n",
       "      <th>28331</th>\n",
       "      <td>4</td>\n",
       "      <td>At ninety dollars, the expectionations are low...</td>\n",
       "      <td>1</td>\n",
       "    </tr>\n",
       "  </tbody>\n",
       "</table>\n",
       "<p>28332 rows × 3 columns</p>\n",
       "</div>"
      ],
      "text/plain": [
       "       reviews.rating                                       reviews.text  \\\n",
       "0                   3  I order 3 of them and one of the item is bad q...   \n",
       "1                   4  Bulk is always the less expensive way to go fo...   \n",
       "2                   5  Well they are not Duracell but for the price i...   \n",
       "3                   5  Seem to work as well as name brand batteries a...   \n",
       "4                   5  These batteries are very long lasting the pric...   \n",
       "...               ...                                                ...   \n",
       "28327               5  I got 2 of these for my 8 yr old twins. My 11 ...   \n",
       "28328               4  I bought this for my niece for a Christmas gif...   \n",
       "28329               5  Very nice for light internet browsing, keeping...   \n",
       "28330               5  This Tablet does absolutely everything I want!...   \n",
       "28331               4  At ninety dollars, the expectionations are low...   \n",
       "\n",
       "       sentiment  \n",
       "0              0  \n",
       "1              1  \n",
       "2              1  \n",
       "3              1  \n",
       "4              1  \n",
       "...          ...  \n",
       "28327          1  \n",
       "28328          1  \n",
       "28329          1  \n",
       "28330          1  \n",
       "28331          1  \n",
       "\n",
       "[28332 rows x 3 columns]"
      ]
     },
     "execution_count": 11,
     "metadata": {},
     "output_type": "execute_result"
    }
   ],
   "source": [
    "df"
   ]
  },
  {
   "cell_type": "code",
   "execution_count": 12,
   "metadata": {},
   "outputs": [
    {
     "data": {
      "image/png": "[encoded data removed]",
      "text/plain": [
       "<Figure size 432x288 with 1 Axes>"
      ]
     },
     "metadata": {
      "needs_background": "light"
     },
     "output_type": "display_data"
    }
   ],
   "source": [
    "counts = df['sentiment'].value_counts()\n",
    "plt.bar(counts.index, counts.values)\n",
    "plt.show()"
   ]
  },
  {
   "cell_type": "code",
   "execution_count": 13,
   "metadata": {},
   "outputs": [],
   "source": [
    "\n",
    "#cleaning the reviews and \n",
    "df[\"reviews.text\"]=df[\"reviews.text\"].apply(lambda elem: re.sub(\"[^a-zA-Z]\", \" \", str(elem)))\n",
    "df[\"reviews.text\"]=df[\"reviews.text\"].str.lower()\n",
    "\n",
    "\n",
    "\n"
   ]
  },
  {
   "cell_type": "code",
   "execution_count": 14,
   "metadata": {},
   "outputs": [
    {
     "name": "stderr",
     "output_type": "stream",
     "text": [
      "[nltk_data] Downloading package stopwords to\n",
      "[nltk_data]     C:\\Users\\Asus\\AppData\\Roaming\\nltk_data...\n",
      "[nltk_data]   Package stopwords is already up-to-date!\n",
      "[nltk_data] Downloading package wordnet to\n",
      "[nltk_data]     C:\\Users\\Asus\\AppData\\Roaming\\nltk_data...\n",
      "[nltk_data]   Package wordnet is already up-to-date!\n"
     ]
    }
   ],
   "source": [
    "import nltk\n",
    "from nltk.corpus import stopwords\n",
    "from nltk.corpus import wordnet\n",
    "nltk.download('stopwords')\n",
    "stopword_list = stopwords.words('english')\n",
    "negation=['no','not','none','nobody','nothing']\n",
    "nltk.download('wordnet')\n",
    "\n",
    "\n",
    "nstopword_list = list(set(stopword_list)^set(negation))\n",
    "\n"
   ]
  },
  {
   "cell_type": "code",
   "execution_count": 16,
   "metadata": {},
   "outputs": [],
   "source": [
    "\n",
    "ps = PorterStemmer()\n",
    "\n",
    "def clean_text(sentence):\n",
    "    rw=[word for word in sentence.split(' ') if not word in nstopword_list]\n",
    "    #rw2=[ps.stem(word) for word in rw]\n",
    "    result= ' '.join(rw)\n",
    "    return result\n",
    "    \n",
    "    sentence =result\n",
    "    \n",
    "    words = nltk.word_tokenize(sentence)\n",
    "    new_words = []\n",
    "    temp_word = ''\n",
    "    for word in words:\n",
    "        antonyms = []\n",
    "        if word == 'not':\n",
    "            temp_word = 'not_'\n",
    "        elif temp_word == 'not_':\n",
    "            for syn in wordnet.synsets(word):\n",
    "                for s in syn.lemmas():\n",
    "                    for a in s.antonyms():\n",
    "                        antonyms.append(a.name())\n",
    "            if len(antonyms) >= 1:\n",
    "                word = antonyms[0]\n",
    "            else:\n",
    "                word = temp_word + word # when antonym is not found, it will\n",
    "                                        # remain not_happy\n",
    "            temp_word = ''\n",
    "        if word != 'not':\n",
    "            new_words.append(word)\n",
    "\n",
    "    sentence = ' '.join(new_words)\n",
    "    return sentence\n"
   ]
  },
  {
   "cell_type": "markdown",
   "metadata": {},
   "source": [
    "clean_text('it is really not happy')"
   ]
  },
  {
   "cell_type": "code",
   "execution_count": 17,
   "metadata": {},
   "outputs": [],
   "source": [
    "df[\"reviews.text\"]=df[\"reviews.text\"].apply(lambda row: clean_text(str(row)))"
   ]
  },
  {
   "cell_type": "code",
   "execution_count": 18,
   "metadata": {},
   "outputs": [
    {
     "data": {
      "text/plain": [
       "<AxesSubplot:>"
      ]
     },
     "execution_count": 18,
     "metadata": {},
     "output_type": "execute_result"
    },
    {
     "data": {
      "image/png": "[encoded data removed]",
      "text/plain": [
       "<Figure size 432x288 with 1 Axes>"
      ]
     },
     "metadata": {
      "needs_background": "light"
     },
     "output_type": "display_data"
    }
   ],
   "source": [
    "df[\"reviews.text\"].str.len().plot()"
   ]
  },
  {
   "cell_type": "code",
   "execution_count": 19,
   "metadata": {},
   "outputs": [
    {
     "name": "stdout",
     "output_type": "stream",
     "text": [
      "Counter({'great': 9464, 'batteries': 8148, 'tablet': 6686, 'good': 5906, 'price': 5221, 'use': 4484, 'not': 4374, 'amazon': 3918, 'love': 3551, 'bought': 3186, 'easy': 2954, 'kindle': 2891, 'one': 2823, 'long': 2514, 'kids': 2510, 'like': 2503, 'well': 2464, 'work': 2370, 'last': 2335, 'buy': 2276, 'fire': 2217, 'loves': 2211, 'old': 2136, 'battery': 2132, 'time': 2099, 'would': 2088, 'product': 2081, 'get': 1830, 'year': 1803, 'apps': 1789, 'no': 1710, 'games': 1710, 'much': 1635, 'screen': 1545, 'works': 1517, 'better': 1442, 'books': 1440, 'really': 1421, 'quality': 1384, 'best': 1383, 'purchased': 1361, 'brand': 1341, 'also': 1289, 'got': 1257, 'far': 1248, 'nice': 1213, 'name': 1188, 'play': 1173, 'reading': 1173, 'read': 1172, 'used': 1154, 'perfect': 1133, 'value': 1130, 'recommend': 1110, 'gift': 1061, 'device': 1033, 'store': 1009, 'life': 1004, 'son': 983, 'little': 981, 'size': 976, 'new': 974, 'daughter': 956, 'purchase': 952, 'lot': 949, 'need': 936, 'brands': 913, 'using': 909, 'christmas': 907, 'go': 906, 'seem': 901, 'deal': 899, 'happy': 827, 'set': 820, 'case': 819, 'many': 790, 'still': 766, 'even': 762, 'ipad': 760, 'first': 757, 'money': 752, 'excellent': 739, 'tablets': 725, 'light': 715, 'fast': 693, 'two': 677, 'hd': 676, 'everything': 669, 'duracell': 647, 'could': 645, 'movies': 632, 'free': 629, 'way': 626, 'cheap': 586, 'want': 573, 'able': 573, 'awesome': 569, 'put': 559, 'charge': 557, 'fine': 556, 'always': 550, 'since': 546, 'years': 543, 'pretty': 542, 'every': 541, 'things': 536, 'features': 533, 'wanted': 523, 'buying': 522, 'enough': 522, 'never': 522, 'say': 517, 'without': 517, 'app': 517, 'big': 515, 'watch': 514, 'aa': 513, 'right': 503, 'kid': 501, 'music': 500, 'grandson': 499, 'reader': 499, 'box': 494, 'back': 494, 'small': 493, 'expensive': 488, 'definitely': 488, 'child': 487, 'needed': 485, 'around': 485, 'internet': 485, 'less': 481, 'worth': 479, 'prime': 477, 'download': 476, 'beat': 471, 'google': 471, 'seems': 470, 'day': 469, 'longer': 465, 'keep': 453, 'cheaper': 452, 'take': 451, 'think': 446, 'see': 445, 'thing': 444, 'wife': 443, 'children': 441, 'learning': 439, 'cost': 438, 'find': 437, 'looking': 436, 'know': 436, 'videos': 436, 'make': 432, 'another': 419, 'sure': 418, 'going': 418, 'something': 418, 'access': 417, 'getting': 414, 'friendly': 412, 'granddaughter': 410, 'item': 408, 'sound': 408, 'parental': 408, 'toys': 407, 'performance': 405, 'loved': 398, 'ones': 394, 'needs': 392, 'camera': 392, 'makes': 392, 'expected': 388, 'aaa': 385, 'uses': 382, 'working': 380, 'made': 379, 'low': 379, 'pack': 377, 'power': 375, 'storage': 375, 'times': 374, 'found': 374, 'come': 374, 'issues': 372, 'etc': 372, 'lasting': 371, 'amazing': 370, 'playing': 370, 'worked': 368, 'overall': 367, 'several': 366, 'ever': 366, 'lots': 365, 'controls': 363, 'highly': 359, 'enjoy': 356, 'months': 355, 'hours': 355, 'alexa': 353, 'durable': 352, 'book': 352, 'hold': 351, 'replace': 350, 'products': 348, 'user': 346, 'came': 343, 'available': 342, 'energizer': 338, 'comes': 338, 'quickly': 335, 'basic': 333, 'different': 333, 'devices': 333, 'yet': 332, 'days': 331, 'yr': 331, 'ok': 330, 'e': 330, 'problem': 329, 'order': 327, 'remote': 326, 'already': 320, 'memory': 320, 'amazonbasics': 319, 'however': 317, 'home': 316, 'phone': 316, 'though': 310, 'easier': 308, 'bit': 308, 'lasted': 305, 'pay': 305, 'basics': 304, 'thought': 303, 'version': 303, 'anything': 303, 'run': 299, 'high': 298, 'tap': 298, 'problems': 295, 'pleased': 293, 'warranty': 293, 'older': 292, 'card': 291, 'android': 289, 'echo': 288, 'decent': 285, 'web': 284, 'give': 283, 'gb': 283, 'black': 281, 'plus': 280, 'bad': 279, 'especially': 279, 'fun': 278, 'wish': 278, 'absolutely': 277, 'tv': 276, 'wifi': 276, 'top': 275, 'watching': 275, 'difference': 274, 'simple': 274, 'netflix': 274, 'house': 273, 'control': 271, 'second': 270, 'compared': 269, 'clear': 268, 'hard': 267, 'mom': 266, 'easily': 265, 'tried': 264, 'packaging': 261, 'navigate': 261, 'look': 260, 'super': 260, 'hand': 259, 'decided': 257, 'sale': 257, 'keeps': 257, 'color': 255, 'slow': 255, 'family': 253, 'speaker': 252, 'amount': 250, 'reviews': 250, 'quite': 249, 'job': 249, 'almost': 248, 'faster': 248, 'charging': 245, 'cover': 244, 'items': 243, 'thanks': 240, 'educational': 240, 'others': 239, 'affordable': 237, 'remotes': 236, 'age': 235, 'account': 233, 'content': 233, 'month': 232, 'voyage': 232, 'inexpensive': 231, 'picture': 230, 'may': 229, 'alkaline': 229, 'went': 229, 'anyone': 229, 'laptop': 229, 'week': 228, 'tell': 227, 'video': 227, 'game': 225, 'online': 225, 'else': 225, 'turn': 225, 'extra': 224, 'portable': 222, 'shows': 222, 'display': 219, 'weeks': 217, 'model': 216, 'feel': 215, 'try': 215, 'glad': 215, 'said': 214, 'stuff': 212, 'upgrade': 212, 'page': 212, 'disappointed': 211, 'point': 211, 'wrong': 209, 'fact': 209, 'birthday': 209, 'favorite': 209, 'friday': 209, 'actually': 208, 'replacement': 206, 'change': 205, 'gave': 203, 'computer': 203, 'took': 201, 'lasts': 201, 'couple': 200, 'previous': 200, 'takes': 200, 'us': 199, 'carry': 199, 'done': 198, 'half': 195, 'ordered': 194, 'three': 194, 'weight': 194, 'add': 194, 'cannot': 193, 'kindles': 193, 'satisfied': 191, 'full': 190, 'instead': 190, 'resolution': 190, 'feature': 190, 'probably': 188, 'help': 188, 'experience': 187, 'complaints': 187, 'dead': 187, 'package': 185, 'mouse': 184, 'charger': 184, 'bigger': 184, 'space': 184, 'larger': 184, 'likes': 184, 'mother': 183, 'paperwhite': 183, 'replaced': 182, 'grandkids': 182, 'exactly': 181, 'thank': 181, 'issue': 181, 'arrived': 179, 'ease': 179, 'apple': 179, 'quick': 178, 'wireless': 178, 'xbox': 177, 'perfectly': 177, 'lights': 177, 'reason': 177, 'wonderful': 176, 'convenient': 175, 'side': 175, 'school': 175, 'downloaded': 175, 'stars': 174, 'learn': 174, 'plenty': 173, 'regular': 173, 'service': 173, 'email': 173, 'sd': 173, 'niece': 173, 'next': 172, 'purchasing': 171, 'young': 171, 'keyboard': 170, 'gets': 170, 'travel': 170, 'touch': 169, 'save': 169, 'youtube': 169, 'option': 168, 'husband': 168, 'ago': 167, 'plays': 167, 'large': 166, 'maybe': 165, 'night': 165, 'smaller': 165, 'packaged': 165, 'expect': 164, 'grand': 163, 'bulk': 162, 'original': 162, 'present': 162, 'library': 162, 'enjoys': 162, 'described': 161, 'sometimes': 161, 'anywhere': 160, 'button': 160, 'spend': 159, 'open': 159, 'speed': 159, 'options': 158, 'liked': 157, 'end': 157, 'received': 156, 'load': 156, 'review': 155, 'check': 155, 'unit': 155, 'priced': 154, 'ability': 154, 'extremely': 153, 'started': 152, 'often': 152, 'fantastic': 152, 'advertised': 152, 'allows': 152, 'dropped': 152, 'short': 151, 'must': 151, 'four': 151, 'hands': 151, 'lightweight': 151, 'system': 150, 'nephew': 150, 'ads': 150, 'samsung': 150, 'fit': 149, 'shipping': 148, 'away': 148, 'choice': 148, 'fits': 148, 'controllers': 147, 'pictures': 147, 'trying': 145, 'impressed': 145, 'mostly': 145, 'enjoying': 145, 'electronics': 144, 'either': 144, 'inch': 144, 'worry': 143, 'people': 143, 'oasis': 143, 'update': 141, 'might': 140, 'recommended': 140, 'bluetooth': 140, 'real': 139, 'installed': 139, 'limited': 139, 'reasonable': 138, 'least': 138, 'charged': 138, 'surprised': 137, 'toddler': 137, 'setup': 137, 'let': 136, 'daily': 136, 'break': 136, 'browsing': 135, 'believe': 134, 'strong': 134, 'member': 134, 'eyes': 132, 'mine': 131, 'edition': 131, 'surfing': 131, 'wants': 131, 'taking': 130, 'rechargeable': 129, 'start': 129, 'buttons': 129, 'running': 128, 'flashlights': 128, 'someone': 128, 'facebook': 128, 'car': 127, 'major': 127, 'plastic': 126, 'handy': 126, 'returned': 126, 'return': 125, 'appropriate': 125, 'mini': 125, 'protective': 124, 'everyday': 123, 'listen': 123, 'usually': 122, 'enjoyed': 122, 'past': 121, 'minutes': 121, 'within': 120, 'line': 120, 'future': 119, 'friend': 119, 'yes': 119, 'paid': 119, 'making': 119, 'huge': 119, 'bright': 118, 'broke': 118, 'third': 117, 'ask': 117, 'parents': 117, 'tech': 117, 'reliable': 116, 'safe': 116, 'die': 116, 'looks': 116, 'noticed': 115, 'built': 115, 'generation': 115, 'tool': 115, 'entertained': 114, 'although': 113, 'mainly': 113, 'place': 112, 'continue': 112, 'market': 112, 'th': 112, 'higher': 111, 'finally': 111, 'install': 111, 'per': 110, 'show': 110, 'goes': 110, 'sturdy': 110, 'led': 109, 'candles': 109, 'room': 109, 'purpose': 109, 'settings': 109, 'speakers': 109, 'adults': 109, 'usage': 108, 'tested': 108, 'comparable': 108, 'fraction': 108, 'solid': 108, 'due': 108, 'added': 108, 'tab': 108, 'test': 107, 'part': 107, 'useful': 107, 'wait': 107, 'figure': 107, 'colors': 107, 'mode': 107, 'stock': 106, 'rather': 106, 'along': 106, 'perform': 106, 'photos': 106, 'dollar': 105, 'included': 105, 'shopping': 105, 'limit': 105, 'downloading': 105, 'holds': 104, 'operate': 104, 'nook': 104, 'packs': 103, 'table': 103, 'everyone': 103, 'white': 103, 'friends': 102, 'cant': 102, 'entertainment': 102, 'kind': 101, 'normal': 101, 'bargain': 100, 'dont': 100, 'soon': 100, 'close': 100, 'limits': 100, 'fully': 99, 'multiple': 99, 'left': 99, 'compact': 99, 'person': 99, 'adult': 99, 'choose': 99, 'media': 99, 'compare': 98, 'customer': 98, 'sister': 98, 'gifts': 97, 'helpful': 97, 'connect': 97, 'trips': 97, 'delivery': 96, 'runs': 96, 'lower': 96, 'design': 96, 'port': 96, 'fan': 95, 'annoying': 95, 'connection': 95, 'setting': 95, 'streaming': 95, 'ebooks': 95, 'ordering': 94, 'profile': 94, 'gaming': 94, 'heavy': 94, 'complaint': 94, 'plug': 94, 'drops': 94, 'blue': 94, 'toy': 93, 'controller': 93, 'tons': 93, 'died': 93, 'understand': 93, 'everywhere': 93, 'ages': 93, 'traveling': 93, 'upgraded': 93, 'os': 93, 'shelf': 92, 'offers': 92, 'voice': 92, 'alternative': 91, 'wrapped': 91, 'cool': 91, 'special': 91, 'drain': 91, 'difficult': 91, 'kept': 91, 'outside': 91, 'loaded': 91, 'plan': 90, 'graphics': 90, 'local': 90, 'simply': 90, 'comfortable': 90, 'handle': 90, 'owned': 90, 'star': 89, 'subscription': 89, 'costco': 89, 'prices': 89, 'trip': 89, 'questions': 89, 'protection': 89, 'hour': 88, 'holding': 88, 'allow': 88, 'front': 88, 'waste': 87, 'opened': 87, 'listening': 87, 'law': 87, 'cardboard': 86, 'alot': 86, 'parent': 86, 'gives': 86, 'lighter': 86, 'ereader': 86, 'purse': 85, 'pad': 85, 'stores': 84, 'based': 84, 'turned': 84, 'recently': 84, 'otherwise': 84, 'purchases': 83, 'hit': 83, 'level': 83, 'pre': 83, 'drop': 83, 'appear': 82, 'quantity': 82, 'standard': 82, 'pages': 82, 'whole': 82, 'delivered': 82, 'emails': 82, 'looked': 81, 'cable': 81, 'constantly': 81, 'paper': 81, 'functions': 81, 'viewing': 81, 'non': 80, 'previously': 80, 'duracells': 80, 'ton': 80, 'expectations': 80, 'dollars': 80, 'similar': 80, 'lock': 80, 'feels': 80, 'movie': 80, 'opinion': 79, 'capacity': 79, 'nicely': 79, 'guess': 79, 'later': 79, 'brought': 79, 'micro': 79, 'stream': 79, 'stand': 79, 'freetime': 79, 'sizes': 78, 'dad': 78, 'addition': 78, 'seen': 78, 'idea': 78, 'technology': 78, 'surf': 78, 'nearly': 77, 'five': 77, 'hope': 77, 'normally': 77, 'twice': 77, 'giving': 77, 'helps': 77, 'busy': 77, 'thinking': 77, 'switch': 76, 'cameras': 76, 'okay': 76, 'leak': 76, 'budget': 76, 'text': 76, 'ipads': 76, 'programs': 76, 'held': 75, 'number': 75, 'poor': 75, 'nd': 75, 'unlimited': 75, 'readers': 75, 'lol': 74, 'told': 74, 'bumper': 74, 'crazy': 73, 'date': 73, 'electronic': 73, 'inside': 73, 'applications': 73, 'stick': 73, 'primarily': 73, 'require': 73, 'powerful': 73, 'mind': 73, 'excited': 73, 'ready': 73, 'worst': 73, 'picked': 73, 'responsive': 73, 'additional': 72, 'operated': 72, 'office': 72, 'sharp': 72, 'powered': 71, 'prefer': 71, 'complain': 71, 'given': 71, 'usb': 71, 'unless': 71, 'main': 71, 'pro': 71, 'turning': 71, 'audio': 71, 'users': 71, 'ended': 70, 'news': 70, 'expandable': 70, 'search': 69, 'batch': 69, 'leaked': 69, 'terrible': 69, 'subscribe': 69, 'stop': 69, 'brother': 69, 'models': 69, 'grandchildren': 69, 'clarity': 69, 'seemed': 68, 'digital': 68, 'knew': 68, 'certain': 68, 'totally': 68, 'stopped': 68, 'says': 68, 'saw': 68, 'loving': 68, 'functionality': 68, 'supposed': 67, 'figured': 67, 'course': 67, 'various': 67, 'keeping': 67, 'weather': 67, 'g': 67, 'road': 67, 'sales': 67, 'software': 67, 'interface': 67, 'cell': 66, 'except': 66, 'pick': 66, 'world': 66, 'bottom': 66, 'designed': 66, 'average': 65, 'spent': 65, 'function': 65, 'downloads': 65, 'considering': 64, 'rd': 64, 'gotten': 64, 'move': 64, 'smart': 64, 'functional': 64, 'completely': 64, 'learned': 64, 'reads': 64, 'cord': 64, 'browser': 64, 'beginner': 64, 'view': 64, 'flashlight': 63, 'charges': 63, 'immediately': 63, 'piece': 63, 'brightness': 63, 'father': 63, 'damage': 63, 'pink': 63, 'galaxy': 63, 'processor': 63, 'bag': 62, 'today': 62, 'u': 62, 'fairly': 62, 'pros': 62, 'replacing': 62, 'instructions': 62, 'support': 62, 'connected': 62, 'crisp': 62, 'magazines': 62, 'offer': 61, 'type': 61, 'including': 61, 'loose': 61, 'negative': 61, 'stay': 61, 'remove': 61, 'step': 61, 'dot': 61, 'selection': 61, 'clock': 60, 'buck': 60, 'bunch': 60, 'longevity': 60, 'boys': 60, 'beautiful': 60, 'basically': 60, 'versions': 60, 'variety': 60, 'improvement': 60, 'portability': 60, 'starter': 60, 'pair': 59, 'remember': 59, 'volume': 59, 'drive': 59, 'avid': 59, 'rayovac': 58, 'household': 58, 'general': 58, 'convenience': 58, 'asked': 58, 'waiting': 58, 'outstanding': 58, 'services': 58, 'operating': 58, 'junk': 57, 'results': 57, 'trouble': 57, 'leaking': 57, 'bed': 57, 'radio': 57, 'broken': 57, 'sons': 56, 'bang': 56, 'shipped': 56, 'expecting': 56, 'anymore': 56, 'baby': 56, 'lighting': 56, 'personal': 56, 'c': 55, 'ran': 55, 'checking': 55, 'shop': 55, 'changed': 55, 'information': 55, 'daughters': 55, 'flash': 55, 'program': 55, 'members': 55, 'latest': 55, 'newer': 55, 'thus': 54, 'names': 54, 'putting': 54, 'provide': 54, 'hoping': 54, 'live': 54, 'please': 54, 'returning': 54, 'proof': 54, 'lost': 54, 'provides': 54, 'data': 53, 'six': 53, 'vs': 53, 'phones': 53, 'social': 53, 'onto': 52, 'generic': 52, 'durability': 52, 'single': 52, 'awhile': 52, 'press': 52, 'iphone': 52, 'earlier': 51, 'rate': 51, 'trust': 51, 'important': 51, 'whatever': 51, 'care': 51, 'energizers': 51, 'investment': 51, 'v': 51, 'leave': 51, 'forward': 51, 'sold': 51, 'slot': 51, 'capabilities': 51, 'dark': 51, 'protected': 51, 'geek': 51, 'x': 50, 'rest': 50, 'gone': 50, 'biggest': 50, 'cons': 50, 'younger': 50, 'girl': 50, 'automatically': 50, 'profiles': 50, 'means': 49, 'saying': 49, 'copper': 49, 'double': 49, 'alone': 49, 'downside': 49, 'tough': 49, 'happier': 49, 'bucks': 49, 'xmas': 49, 'accidentally': 49, 'activities': 49, 'branded': 48, 'coming': 48, 'con': 48, 'heard': 48, 'rough': 48, 'fix': 48, 'toddlers': 48, 'win': 48, 'loading': 48, 'build': 48, 'savvy': 48, 'door': 47, 'reasonably': 47, 'sell': 47, 'clocks': 47, 'prior': 47, 'upon': 47, 'numerous': 47, 'recharge': 47, 'unfortunately': 47, 'rating': 47, 'area': 47, 'matter': 47, 'range': 47, 'b': 47, 'serves': 47, 'packages': 46, 'knowing': 46, 'wont': 46, 'comparison': 46, 'currently': 46, 'hate': 46, 'talk': 46, 'unlike': 46, 'pass': 46, 'asking': 46, 'equipment': 45, 'holidays': 45, 'receive': 45, 'helped': 45, 'fresh': 45, 'slightly': 45, 'wi': 45, 'backpack': 45, 'backlight': 45, 'popular': 44, 'mail': 44, 'pocket': 44, 'forever': 44, 'business': 44, 'ad': 44, 'honestly': 44, 'groups': 44, 'research': 44, 'timer': 44, 'loud': 44, 'finding': 44, 'yo': 44, 'improved': 44, 'adjust': 44, 'audible': 44, 'near': 43, 'packed': 43, 'fair': 43, 'sense': 43, 'sent': 43, 'disappointing': 43, 'spending': 43, 'miss': 43, 'acid': 43, 'notice': 43, 'wall': 43, 'oh': 43, 'together': 43, 'college': 43, 'lets': 43, 'performs': 43, 'thrilled': 43, 'updated': 43, 'nabi': 43, 'beginners': 43, 'im': 42, 'selling': 42, 'energy': 42, 'typical': 42, 'browse': 42, 'sets': 42, 'early': 42, 'thru': 42, 'played': 42, 'interested': 42, 'boy': 42, 'met': 42, 'bonus': 42, 'photo': 42, 'rubber': 42, 'st': 42, 'squad': 42, 'chance': 41, 'sitting': 41, 'certainly': 41, 'class': 41, 'opening': 41, 'shrink': 41, 'become': 41, 'brainer': 41, 'turns': 41, 'known': 41, 'offered': 41, 'sounds': 41, 'note': 41, 'constant': 41, 'grandchild': 41, 'monitor': 41, 'chose': 41, 'lag': 41, 'preloaded': 41, 'horrible': 40, 'kirkland': 40, 'tired': 40, 'didnt': 40, 'paying': 40, 'true': 40, 'fancy': 40, 'frequently': 40, 'supply': 40, 'span': 40, 'material': 40, 'smooth': 40, 'specs': 40, 'frustrating': 40, 'lack': 40, 'via': 40, 'hdx': 40, 'fi': 40, 'cracked': 40, 'ram': 40, 'company': 39, 'list': 39, 'felt': 39, 'middle': 39, 'adds': 39, 'economical': 39, 'meets': 39, 'entire': 39, 'send': 39, 'efficient': 39, 'separate': 39, 'com': 39, 'protect': 39, 'accounts': 39, 'ive': 38, 'purposes': 38, 'specifically': 38, 'lives': 38, 'throw': 38, 'headphones': 38, 'properly': 38, 'promised': 38, 'hear': 38, 'required': 38, 'plugged': 38, 'credit': 38, 'worse': 38, 'relatively': 38, 'appears': 38, 'intended': 38, 'rides': 38, 'occupied': 38, 'share': 37, 'performed': 37, 'hrs': 37, 'premium': 37, 'consider': 37, 'leading': 37, 'needing': 37, 'truly': 37, 'originally': 37, 'click': 37, 'total': 37, 'beats': 37, 'decision': 37, 'guarantee': 37, 'external': 37, 'happened': 37, 'noticeable': 37, 'lit': 37, 'network': 37, 'base': 37, 'stays': 37, 'hulu': 37, 'words': 37, 'wanting': 37, 'menu': 37, 'sunlight': 37, 'font': 37, 'homework': 37, 'current': 36, 'possible': 36, 'despite': 36, 'face': 36, 'gadgets': 36, 'appreciate': 36, 'effective': 36, 'hundreds': 36, 'sleeve': 36, 'wrap': 36, 'saver': 36, 'saved': 36, 'failed': 36, 'wow': 36, 'actual': 36, 'anyway': 36, 'changing': 36, 'across': 36, 'info': 36, 'factor': 36, 'till': 36, 'grandsons': 36, 'lose': 36, 'youngest': 36, 'glare': 36, 'missing': 35, 'weak': 35, 'switched': 35, 'likely': 35, 'barely': 35, 'par': 35, 'steal': 35, 'length': 35, 'discount': 35, 'skeptical': 35, 'seeing': 35, 'yrs': 35, 'carrying': 35, 'thin': 35, 'auto': 35, 'screens': 35, 'versatile': 35, 'entertaining': 35, 'format': 35, 'magazine': 35, 'tube': 35, 'conditions': 34, 'testing': 34, 'cases': 34, 'experienced': 34, 'personally': 34, 'literally': 34, 'obviously': 34, 'ahead': 34, 'bother': 34, 'penny': 34, 'rear': 34, 'intuitive': 34, 'commands': 34, 'locked': 34, 'plane': 34, 'watches': 34, 'juice': 33, 'application': 33, 'internal': 33, 'wise': 33, 'source': 33, 'happen': 33, 'guy': 33, 'tag': 33, 'regret': 33, 'flawlessly': 33, 'r': 33, 'checked': 33, 'shorter': 33, 'greatest': 33, 'installing': 33, 'perhaps': 33, 'moving': 33, 'wear': 33, 'impossible': 33, 'word': 33, 'loads': 33, 'bestbuy': 33, 'connectivity': 33, 'silk': 33, 'backup': 32, 'advantage': 32, 'party': 32, 'clean': 32, 'bring': 32, 'adequate': 32, 'typically': 32, 'cells': 32, 'avoid': 32, 'doubt': 32, 'surprisingly': 32, 'breaks': 32, 'dim': 32, 'changes': 32, 'luck': 32, 'called': 32, 'response': 32, 'defective': 32, 'necessary': 32, 'membership': 32, 'site': 32, 'n': 32, 'tabs': 32, 'lacks': 32, 'enjoyable': 32, 'capability': 32, 'cause': 31, 'pricing': 31, 'drawer': 31, 'sorry': 31, 'air': 31, 'deals': 31, 'smoke': 31, 'manufacturer': 31, 'surprise': 31, 'voltage': 31, 'discovered': 31, 'regularly': 31, 'searching': 31, 'pleasure': 31, 'behind': 31, 'print': 31, 'allowed': 31, 'exceeded': 31, 'generally': 31, 'reset': 31, 'shut': 31, 'gig': 31, 'choices': 31, 'ebook': 31, 'swipe': 31, 'freezes': 31, 'ecosystem': 31, 'ship': 30, 'hopefully': 30, 'candle': 30, 'bunny': 30, 'extended': 30, 'advertising': 30, 'machine': 30, 'post': 30, 'savings': 30, 'knows': 30, 'honest': 30, 'rechargeables': 30, 'overpriced': 30, 'water': 30, 'speak': 30, 'pop': 30, 'brighter': 30, 'ways': 30, 'self': 30, 'breaking': 30, 'ray': 30, 'damaged': 30, 'aware': 30, 'pics': 30, 'protector': 30, 'tasks': 30, 'fires': 30, 'drawback': 30, 'sites': 30, 'password': 30, 'nexus': 30, 'sooner': 29, 'terms': 29, 'example': 29, 'living': 29, 'whether': 29, 'mess': 29, 'taken': 29, 'cents': 29, 'process': 29, 'aas': 29, 'question': 29, 'cut': 29, 'pleasantly': 29, 'rely': 29, 'amazed': 29, 'quicker': 29, 'showed': 29, 'mobile': 29, 'player': 29, 'boxes': 29, 'key': 29, 'expand': 29, 'cartoons': 29, 'answer': 29, 'starting': 29, 'increase': 29, 'exchange': 29, 'olds': 29, 'cloud': 29, 'protects': 29, 'downfall': 29, 'trail': 28, 'window': 28, 'cheapest': 28, 'discharge': 28, 'mah': 28, 'form': 28, 'realized': 28, 'thoroughly': 28, 'saving': 28, 'entry': 28, 'tend': 28, 'longest': 28, 'requires': 28, 'typing': 28, 'terrific': 28, 'head': 28, 'initially': 28, 'usual': 28, 'unable': 28, 'minimal': 28, 'unbelievable': 28, 'updates': 28, 'restrictions': 28, 'bulky': 28, 'pockets': 28, 'background': 28, 'vacation': 28, 'create': 28, 'beach': 28, 'granddaughters': 28, 'grow': 28, 'maneuver': 28, 'processing': 28, 'underground': 28, 'expiration': 27, 'seller': 27, 'linked': 27, 'realize': 27, 'worried': 27, 'therefore': 27, 'disappoint': 27, 'amazons': 27, 'unbeatable': 27, 'quit': 27, 'tester': 27, 'moment': 27, 'national': 27, 'write': 27, 'forget': 27, 'wii': 27, 'whenever': 27, 'zero': 27, 'removed': 27, 'basis': 27, 'stated': 27, 'shape': 27, 'apart': 27, 'incredible': 27, 'hooked': 27, 'letters': 27, 'places': 27, 'net': 27, 'smartphone': 27, 'surface': 27, 'falls': 27, 'restart': 27, 'slower': 27, 'notes': 27, 'associate': 27, 'chrome': 27, 'equal': 26, 'spot': 26, 'significantly': 26, 'lifespan': 26, 'individual': 26, 'ten': 26, 'fall': 26, 'holiday': 26, 'rated': 26, 'count': 26, 'fail': 26, 'complete': 26, 'link': 26, 'hassle': 26, 'hey': 26, 'bc': 26, 'sit': 26, 'leakage': 26, 'motion': 26, 'hot': 26, 'starts': 26, 'elsewhere': 26, 'ideal': 26, 'stuck': 26, 'sufficient': 26, 'talking': 26, 'directly': 26, 'pricey': 26, 'security': 26, 'mention': 26, 'helping': 26, 'links': 26, 'red': 26, 'nicer': 26, 'concern': 26, 'rugged': 26, 'adapter': 26, 'recipient': 26, 'recent': 25, 'push': 25, 'duds': 25, 'delivers': 25, 'sleep': 25, 'performing': 25, 'fell': 25, 'include': 25, 'imagine': 25, 'flat': 25, 'beyond': 25, 'wore': 25, 'storing': 25, 'green': 25, 'alarm': 25, 'mean': 25, 'station': 25, 'sized': 25, 'volts': 25, 'speedy': 25, 'useless': 25, 'bill': 25, 'nieces': 25, 'gen': 25, 'padded': 25, 'stereo': 25, 'connects': 25, 'transfer': 25, 'puzzles': 25, 'advertisements': 25, 'microsd': 25, 'em': 24, 'duracel': 24, 'stored': 24, 'call': 24, 'eat': 24, 'lithium': 24, 'term': 24, 'named': 24, 'seriously': 24, 'image': 24, 'trick': 24, 'careful': 24, 'begin': 24, 'sort': 24, 'hardware': 24, 'positive': 24, 'anytime': 24, 'doesnt': 24, 'pressure': 24, 'meet': 24, 'suggest': 24, 'straight': 24, 'shown': 24, 'finger': 24, 'floor': 24, 'eventually': 24, 'reasons': 24, 'dog': 24, 'seconds': 24, 'shuts': 24, 'opens': 24, 'follow': 24, 'rid': 24, 'platform': 24, 'confusing': 24, 'thick': 24, 'couch': 24, 'log': 24, 'soft': 24, 'activate': 24, 'compatible': 24, 'strain': 24, 'expansion': 24, 'sensitive': 24, 'appstore': 24, 'keyboards': 23, 'fault': 23, 'acdelco': 23, 'thats': 23, 'sealed': 23, 'superb': 23, 'stocked': 23, 'triple': 23, 'costs': 23, 'kinds': 23, 'lanterns': 23, 'frustration': 23, 'freeze': 23, 'pull': 23, 'sleek': 23, 'style': 23, 'teens': 23, 'feeling': 23, 'related': 23, 'fixed': 23, 'teenage': 23, 'throughout': 23, 'grip': 23, 'complicated': 23, 'benefits': 23, 'calls': 23, 'breeze': 23, 'files': 23, 'grandma': 23, 'superior': 22, 'comment': 22, 'cold': 22, 'types': 22, 'procell': 22, 'reviewed': 22, 'rayovacs': 22, 'cars': 22, 'ruined': 22, 'afford': 22, 'specific': 22, 'refund': 22, 'consumer': 22, 'numbers': 22, 'worries': 22, 'grocery': 22, 'season': 22, 'suppose': 22, 'attention': 22, 'mice': 22, 'eye': 22, 'late': 22, 'train': 22, 'physical': 22, 'automatic': 22, 'exception': 22, 'match': 22, 'girlfriend': 22, 'extensive': 22, 'snap': 22, 'tho': 22, 'directions': 22, 'meant': 22, 'foam': 22, 'wherever': 22, 'lap': 22, 'improvements': 22, 'respond': 22, 'playstore': 22, 'grandaughter': 22, 'offline': 22, 'tests': 21, 'preferred': 21, 'walmart': 21, 'website': 21, 'placed': 21, 'particularly': 21, 'television': 21, 'tiny': 21, 'batts': 21, 'kinda': 21, 'kitchen': 21, 'mid': 21, 'happens': 21, 'yay': 21, 'awful': 21, 'mac': 21, 'aside': 21, 'detectors': 21, 'period': 21, 'computers': 21, 'effort': 21, 'morning': 21, 'group': 21, 'delighted': 21, 'activated': 21, 'god': 21, 'edit': 21, 'warning': 21, 'benefit': 21, 'fingers': 21, 'sign': 21, 'paired': 21, 'nephews': 21, 'windows': 21, 'adjustment': 21, 'upgrading': 21, 'thousands': 21, 'louder': 21, 'crystal': 21, 'sun': 21, 'knowledgeable': 21, 'transferred': 21, 'skype': 21, 'wrapping': 20, 'pump': 20, 'receiving': 20, 'printed': 20, 'environment': 20, 'timers': 20, 'hardly': 20, 'impressive': 20, 'hesitant': 20, 'reorder': 20, 'reviewers': 20, 'yesterday': 20, 'moved': 20, 'decide': 20, 'concerned': 20, 'common': 20, 'scale': 20, 'grab': 20, 'flight': 20, 'draw': 20, 'tools': 20, 'possibly': 20, 'policy': 20, 'dependable': 20, 'guys': 20, 'became': 20, 'compartment': 20, 'besides': 20, 'periods': 20, 'separately': 20, 'secure': 20, 'gadget': 20, 'afraid': 20, 'safety': 20, 'sides': 20, 'instantly': 20, 'unlock': 20, 'areas': 20, 'travels': 20, 'logic': 20, 'difficulty': 20, 'occasional': 20, 'integration': 20, 'casual': 20, 'lacking': 19, 'edge': 19, 'attached': 19, 'somewhat': 19, 'winner': 19, 'garbage': 19, 'pc': 19, 'cute': 19, 'electric': 19, 'opportunity': 19, 'particular': 19, 'equivalent': 19, 'greatly': 19, 'plain': 19, 'disappointment': 19, 'spare': 19, 'tight': 19, 'multi': 19, 'aspect': 19, 'thrown': 19, 'shot': 19, 'absolute': 19, 'darn': 19, 'technical': 19, 'girls': 19, 'feedback': 19, 'catch': 19, 'isnt': 19, 'slim': 19, 'provided': 19, 'seven': 19, 'wide': 19, 'locks': 19, 'covers': 19, 'songs': 19, 'block': 19, 'skills': 19, 'pandora': 19, 'navigation': 19, 'voyager': 19, 'owning': 19, 'flights': 19, 'inappropriate': 19, 'education': 19, 'lowest': 18, 'recharging': 18, 'saves': 18, 'bank': 18, 'outdoor': 18, 'serious': 18, 'w': 18, 'contacted': 18, 'familiar': 18, 'crap': 18, 'board': 18, 'mistake': 18, 'heat': 18, 'leaks': 18, 'dies': 18, 'strength': 18, 'lighted': 18, 'mirror': 18, 'pain': 18, 'contact': 18, 'correctly': 18, 'includes': 18, 'exclusively': 18, 'exceptional': 18, 'worthwhile': 18, 'glass': 18, 'solution': 18, 'presents': 18, 'target': 18, 'corrosion': 18, 'randomly': 18, 'falling': 18, 'pin': 18, 'beating': 18, 'employees': 18, 'mic': 18, 'shade': 18, 'position': 18, 'command': 18, 'bb': 18, 'documents': 18, 'bezel': 18, 'touchscreen': 18, 'oldest': 18, 'clearer': 18, 'geared': 18, 'leather': 18, 'disney': 18, 'aunt': 18, 'engaged': 18, 'audiobooks': 18, 'teach': 18, 'teaching': 18, 'indestructible': 18, 'handed': 18, 'arrive': 17, 'microphone': 17, 'images': 17, 'maxell': 17, 'medium': 17, 'approximately': 17, 'matters': 17, 'charm': 17, 'man': 17, 'tooth': 17, 'vac': 17, 'camping': 17, 'thermostat': 17, 'writing': 17, 'lately': 17, 'deliver': 17, 'apparently': 17, 'april': 17, 'threw': 17, 'drained': 17, 'club': 17, 'silver': 17, 'killer': 17, 'interest': 17, 'cables': 17, 'showing': 17, 'wonderfully': 17, 'k': 17, 'student': 17, 'cards': 17, 'planning': 17, 'switching': 17, 'systems': 17, 'hang': 17, 'guns': 17, 'hoped': 17, 'upgrades': 17, 'newest': 17, 'interesting': 17, 'pool': 17, 'exchanged': 17, 'utilize': 17, 'quiet': 17, 'finds': 17, 'leaves': 17, 'series': 17, 'kiddos': 17, 'messages': 17, 'spotify': 17, 'public': 17, 'interactive': 17, 'advanced': 17, 'assistance': 17, 'grandmother': 17, 'fighting': 17, 'throws': 17, 'filter': 17, 'snappy': 17, 'upload': 17, 'rooting': 17, 'chromecast': 17, 'freezing': 17, 'square': 17, 'wallpaper': 17, 'consistent': 16, 'alkalines': 16, 'clearly': 16, 'brown': 16, 'emergency': 16, 'disposable': 16, 'container': 16, 'competition': 16, 'notch': 16, 'competitors': 16, 'sad': 16, 'minute': 16, 'arrival': 16, 'trash': 16, 'traditional': 16, 'owner': 16, 'capable': 16, 'neither': 16, 'missed': 16, 'gonna': 16, 'drains': 16, 'fluid': 16, 'tip': 16, 'coppertops': 16, 'register': 16, 'tree': 16, 'customers': 16, 'ups': 16, 'regarding': 16, 'curious': 16, 'bundle': 16, 'consistently': 16, 'tops': 16, 'readable': 16, 'occasionally': 16, 'bass': 16, 'neatly': 16, 'standards': 16, 'manage': 16, 'grown': 16, 'twin': 16, 'complained': 16, 'track': 16, 'claim': 16, 'staff': 16, 'bugs': 16, 'spends': 16, 'attractive': 16, 'satisfactory': 16, 'filled': 16, 'waterproof': 16, 'prevent': 16, 'ipod': 16, 'travelling': 16, 'adding': 16, 'programming': 16, 'invested': 16, 'deck': 16, 'connecting': 16, 'supports': 16, 'responds': 16, 'abc': 16, 'abuse': 16, 'unwanted': 16, 'goals': 16, 'visuals': 16, 'exposed': 15, 'yeah': 15, 'exact': 15, 'among': 15, 'popped': 15, 'thumbs': 15, 'frequent': 15, 'alright': 15, 'lucky': 15, 'units': 15, 'flashes': 15, 'desk': 15, 'october': 15, 'allowing': 15, 'reached': 15, 'bose': 15, 'suggested': 15, 'garage': 15, 'washington': 15, 'desired': 15, 'waited': 15, 'powering': 15, 'enabled': 15, 'indonesia': 15, 'minor': 15, 'candy': 15, 'convinced': 15, 'def': 15, 'sweet': 15, 'operation': 15, 'neat': 15, 'thinks': 15, 'thoughts': 15, 'ensure': 15, 'chair': 15, 'throwing': 15, 'measured': 15, 'sensor': 15, 'direct': 15, 'pen': 15, 'borrow': 15, 'state': 15, 'challenge': 15, 'odd': 15, 'materials': 15, 'robust': 15, 'ultra': 15, 'registered': 15, 'manually': 15, 'release': 15, 'teenager': 15, 'folder': 15, 'points': 15, 'versatility': 15, 'backlit': 15, 'dropping': 15, 'fastest': 15, 'fingertips': 15, 'icons': 15, 'touching': 15, 'vibrant': 15, 'clicking': 15, 'classes': 15, 'fee': 15, 'siblings': 15, 'clumsy': 15, 'buffering': 15, 'spring': 14, 'rock': 14, 'usable': 14, 'magic': 14, 'forth': 14, 'flameless': 14, 'story': 14, 'consumption': 14, 'competitive': 14, 'initial': 14, 'santa': 14, 'obvious': 14, 'string': 14, 'determine': 14, 'significant': 14, 'decorations': 14, 'expanded': 14, 'functioning': 14, 'grade': 14, 'signal': 14, 'noise': 14, 'eats': 14, 'prompt': 14, 'burning': 14, 'luckily': 14, 'modern': 14, 'wouldnt': 14, 'caught': 14, 'factory': 14, 'output': 14, 'buyer': 14, 'duty': 14, 'versus': 14, 'serve': 14, 'costly': 14, 'lite': 14, 'sat': 14, 'relative': 14, 'l': 14, 'individually': 14, 'companies': 14, 'instruction': 14, 'portion': 14, 'beginning': 14, 'brings': 14, 'puts': 14, 'weird': 14, 'accessible': 14, 'substitute': 14, 'fourth': 14, 'potential': 14, 'adjustable': 14, 'textbooks': 14, 'flimsy': 14, 'direction': 14, 'knowledge': 14, 'sync': 14, 'airplane': 14, 'disable': 14, 'senior': 14, 'glitch': 14, 'savy': 14, 'searches': 14, 'restricted': 14, 'autism': 14, 'graphic': 14, 'fianc': 14, 'meaning': 13, 'hundred': 13, 'trusted': 13, 'shoot': 13, 'amazonbasic': 13, 'installation': 13, 'began': 13, 'brick': 13, 'curve': 13, 'brain': 13, 'roku': 13, 'dying': 13, 'wrapper': 13, 'f': 13, 'eveready': 13, 'boyfriend': 13, 'sharing': 13, 'shortly': 13, 'sorts': 13, 'accessories': 13, 'controlled': 13, 'duration': 13, 'kit': 13, 'causing': 13, 'researched': 13, 'meter': 13, 'marked': 13, 'shame': 13, 'alarms': 13, 'fill': 13, 'leaving': 13, 'professional': 13, 'band': 13, 'country': 13, 'annoyed': 13, 'event': 13, 'town': 13, 'prevents': 13, 'heck': 13, 'metal': 13, 'messing': 13, 'demand': 13, 'upset': 13, 'logo': 13, 'select': 13, 'proved': 13, 'field': 13, 'greater': 13, 'leds': 13, 'practical': 13, 'minecraft': 13, 'enable': 13, 'wake': 13, 'worthless': 13, 'scientific': 13, 'advance': 13, 'compete': 13, 'lines': 13, 'growing': 13, 'flip': 13, 'sucks': 13, 'thinner': 13, 'binder': 13, 'workers': 13, 'sounding': 13, 'slip': 13, 'uncomfortable': 13, 'outlet': 13, 'lil': 13, 'primary': 13, 'flaw': 13, 'adjusting': 13, 'paperback': 13, 'origami': 13, 'flush': 13, 'manual': 13, 'accidental': 13, 'watched': 13, 'explain': 13, 'comfortably': 13, 'contents': 13, 'menus': 13, 'enjoyment': 13, 'tank': 12, 'condition': 12, 'december': 12, 'report': 12, 'tied': 12, 'coppertop': 12, 'rc': 12, 'volt': 12, 'locally': 12, 'boot': 12, 'manufacturers': 12, 'depending': 12, 'label': 12, 'gold': 12, 'rocks': 12, 'eight': 12, 'timely': 12, 'theses': 12, 'explode': 12, 'encourage': 12, 'hurricane': 12, 'reports': 12, 'extras': 12, 'fabulous': 12, 'reduced': 12, 'november': 12, 'organized': 12, 'halloween': 12, 'orders': 12, 'providing': 12, 'handheld': 12, 'worn': 12, 'justify': 12, 'shipment': 12, 'monthly': 12, 'separated': 12, 'picking': 12, 'burned': 12, 'arms': 12, 'rolling': 12, 'detector': 12, 'ridiculous': 12, 'everybody': 12, 'retail': 12, 'assuming': 12, 'coffee': 12, 'radios': 12, 'active': 12, 'suspect': 12, 'error': 12, 'tad': 12, 'bedroom': 12, 'draining': 12, 'accidently': 12, 'sub': 12, 'gps': 12, 'unsure': 12, 'covered': 12, 'handles': 12, 'students': 12, 'aging': 12, 'p': 12, 'lunch': 12, 'overseas': 12, 'closes': 12, 'miles': 12, 'anybody': 12, 'shoulder': 12, 'angle': 12, 'keys': 12, 'resistant': 12, 'slide': 12, 'plugs': 12, 'assistant': 12, 'fills': 12, 'playback': 12, 'adjusts': 12, 'limitations': 12, 'released': 12, 'replaces': 12, 'adaptive': 12, 'aspects': 12, 'refurbished': 12, 'delete': 12, 'bells': 12, 'whistles': 12, 'definite': 12, 'cpu': 12, 'productivity': 12, 'proprietary': 12, 'customizable': 12, 'locate': 12, 'explored': 12, 'bedtime': 12, 'crush': 12, 'navigating': 12, 'salesman': 12, 'kiddo': 12, 'websites': 12, 'reboot': 12, 'tables': 12, 'doctor': 12, 'newstand': 12, 'twins': 12, 'blown': 11, 'method': 11, 'indoor': 11, 'describe': 11, 'competitor': 11, 'expectancy': 11, 'nervous': 11, 'solar': 11, 'admit': 11, 'owns': 11, 'constructed': 11, 'yup': 11, 'shiny': 11, 'closet': 11, 'tear': 11, 'basement': 11, 'sisters': 11, 'noticeably': 11, 'toss': 11, 'depends': 11, 'sony': 11, 'anyways': 11, 'aged': 11, 'created': 11, 'lists': 11, 'february': 11, 'private': 11, 'hi': 11, 'ac': 11, 'monitoring': 11, 'jumped': 11, 'lived': 11, 'somewhere': 11, 'excelent': 11, 'mp': 11, 'acceptable': 11, 'requirements': 11, 'marketing': 11, 'advertisement': 11, 'department': 11, 'balance': 11, 'ish': 11, 'spectacular': 11, 'quantities': 11, 'husbands': 11, 'detailed': 11, 'extreme': 11, 'parts': 11, 'comparing': 11, 'lamp': 11, 'reccomend': 11, 'willing': 11, 'assume': 11, 'location': 11, 'inconvenient': 11, 'final': 11, 'receiver': 11, 'unnecessary': 11, 'failure': 11, 'instance': 11, 'reputable': 11, 'suitable': 11, 'highest': 11, 'remaining': 11, 'universal': 11, 'destroyed': 11, 'mentioned': 11, 'lg': 11, 'inches': 11, 'nowhere': 11, 'losing': 11, 'cartoon': 11, 'fly': 11, 'incredibly': 11, 'updating': 11, 'resource': 11, 'regrets': 11, 'compartments': 11, 'instant': 11, 'fight': 11, 'gripe': 11, 'verizon': 11, 'ports': 11, 'bubble': 11, 'continues': 11, 'steps': 11, 'joy': 11, 'letting': 11, 'worrying': 11, 'adjusted': 11, 'dual': 11, 'dots': 11, 'development': 11, 'calling': 11, 'existing': 11, 'pushing': 11, 'companion': 11, 'explore': 11, 'impulse': 11, 'language': 11, 'reach': 11, 'debated': 11, 'bored': 11, 'trial': 11, 'flexibility': 11, 'connector': 11, 'ink': 11, 'pdf': 11, 'weighs': 11, 'ergonomic': 11, 'asleep': 11, 'grader': 11, 'mails': 11, 'entertain': 11, 'deleted': 11, 'challenged': 11, 'instagram': 11, 'al': 11, 'surgery': 11, 'activity': 11, 'articles': 11, 'section': 11, 'sensitivity': 11, 'customization': 11, 'located': 11, 'enlarge': 11, 'facing': 11, 'hes': 11, 'exploded': 10, 'ea': 10, 'dud': 10, 'counting': 10, 'birthdays': 10, 'amounts': 10, 'claims': 10, 'details': 10, 'proven': 10, 'knock': 10, 'somehow': 10, 'inserted': 10, 'corner': 10, 'ill': 10, 'assured': 10, 'brush': 10, 'cash': 10, 'repurchase': 10, 'searched': 10, 'indeed': 10, 'wedding': 10, 'everready': 10, 'happening': 10, 'round': 10, 'coat': 10, 'china': 10, 'split': 10, 'buys': 10, 'sick': 10, 'recommendation': 10, 'goodness': 10, 'twenty': 10, 'competing': 10, 'burn': 10, 'nope': 10, 'laser': 10, 'tells': 10, 'grabbed': 10, 'mad': 10, 'recycling': 10, 'suck': 10, 'steady': 10, 'minimum': 10, 'firestick': 10, 'min': 10, 'overnight': 10, 'march': 10, 'gear': 10, 'pads': 10, 'importantly': 10, 'dates': 10, 'hdmi': 10, 'phenomenal': 10, 'levels': 10, 'gotta': 10, 'fuss': 10, 'seemingly': 10, 'earned': 10, 'batterys': 10, 'harder': 10, 'situation': 10, 'promptly': 10, 'closed': 10, 'truck': 10, 'force': 10, 'headlamps': 10, 'offering': 10, 'arm': 10, 'haha': 10, 'welcome': 10, 'laying': 10, 'dish': 10, 'gladly': 10, 'sticky': 10, 'managed': 10, 'electrical': 10, 'damages': 10, 'increased': 10, 'skin': 10, 'brilliant': 10, 'slight': 10, 'lightning': 10, 'request': 10, 'toothbrushes': 10, 'displays': 10, 'accessing': 10, 'thirty': 10, 'resolved': 10, 'dislike': 10, 'commercials': 10, 'sluggish': 10, 'guard': 10, 'techie': 10, 'introduced': 10, 'blank': 10, 'ample': 10, 'streams': 10, 'endless': 10, 'listens': 10, 'hook': 10, 'hotspot': 10, 'requests': 10, 'rooms': 10, 'lags': 10, 'punch': 10, 'wished': 10, 'operates': 10, 'frustrated': 10, 'iphones': 10, 'backlighting': 10, 'distracting': 10, 'prefers': 10, 'teen': 10, 'swiping': 10, 'progress': 10, 'customize': 10, 'challenging': 10, 'transition': 10, 'goodreads': 10, 'tailored': 10, 'smoothly': 10, 'restrict': 10, 'resist': 10, 'alphabet': 10, 'jealous': 10, 'magenta': 10, 'purple': 10, 'slows': 10, 'elderly': 10, 'responsibility': 10, 'approved': 10, 'login': 10, 'employee': 10, 'solitaire': 10, 'shapes': 10, 'study': 10, 'limiting': 10, 'newspaper': 10, 'core': 10, 'fb': 10, 'mb': 10, 'webroot': 10, 'merlot': 10, 'depend': 9, 'max': 9, 'achieve': 9, 'repeat': 9, 'practically': 9, 'refused': 9, 'gas': 9, 'hesitate': 9, 'commercial': 9, 'toothbrush': 9, 'damn': 9, 'produce': 9, 'safely': 9, 'families': 9, 'ratio': 9, 'transmitter': 9, 'manner': 9, 'dozen': 9, 'compares': 9, 'differently': 9, 'cheapo': 9, 'outlasted': 9, 'stocking': 9, 'identical': 9, 'drug': 9, 'staple': 9, 'beware': 9, 'folks': 9, 'bike': 9, 'gamer': 9, 'wasnt': 9, 'regardless': 9, 'vary': 9, 'boxed': 9, 'favorites': 9, 'frills': 9, 'yep': 9, 'hair': 9, 'heart': 9, 'fans': 9, 'yellow': 9, 'stupid': 9, 'cheaply': 9, 'usa': 9, 'collection': 9, 'zone': 9, 'roll': 9, 'june': 9, 'august': 9, 'microphones': 9, 'church': 9, 'sadly': 9, 'visiting': 9, 'indicator': 9, 'deadbolt': 9, 'pairs': 9, 'invest': 9, 'freight': 9, 'shell': 9, 'description': 9, 'accurate': 9, 'chargers': 9, 'channels': 9, 'ya': 9, 'matthew': 9, 'sam': 9, 'entirely': 9, 'jack': 9, 'recommending': 9, 'smile': 9, 'packing': 9, 'suits': 9, 'quarter': 9, 'havent': 9, 'outer': 9, 'gifted': 9, 'upper': 9, 'tends': 9, 'nights': 9, 'caveat': 9, 'alternatives': 9, 'becoming': 9, 'sells': 9, 'strongly': 9, 'appreciated': 9, 'colored': 9, 'rarely': 9, 'decently': 9, 'stations': 9, 'vehicle': 9, 'babies': 9, 'pic': 9, 'choosing': 9, 'glove': 9, 'wallet': 9, 'imo': 9, 'effect': 9, 'heavier': 9, 'snug': 9, 'theyre': 9, 'warm': 9, 'contrast': 9, 'hence': 9, 'microsoft': 9, 'carried': 9, 'handled': 9, 'nine': 9, 'substantial': 9, 'traded': 9, 'evening': 9, 'vision': 9, 'guide': 9, 'addicted': 9, 'acts': 9, 'accident': 9, 'mm': 9, 'thousand': 9, 'angry': 9, 'ignore': 9, 'visit': 9, 'zippers': 9, 'rain': 9, 'rep': 9, 'solve': 9, 'birds': 9, 'activation': 9, 'lug': 9, 'seamless': 9, 'chat': 9, 'exploring': 9, 'improve': 9, 'native': 9, 'readability': 9, 'pw': 9, 'slimmer': 9, 'devise': 9, 'lastly': 9, 'magnetic': 9, 'responsiveness': 9, 'researching': 9, 'catching': 9, 'borrowed': 9, 'preinstalled': 9, 'grandparents': 9, 'modified': 9, 'androids': 9, 'fir': 9, 'desire': 9, 'raffle': 9, 'curfew': 9, 'supported': 9, 'stopping': 9, 'quirks': 9, 'glued': 9, 'occupy': 9, 'downloadable': 9, 'task': 9, 'gmail': 9, 'operations': 9, 'hoops': 9, 'vudu': 9, 'grows': 9, 'manga': 9, 'dauther': 9, 'following': 9, 'nvidia': 9, 'quad': 9, 'insurance': 9, 'mines': 9, 'mixed': 8, 'north': 8, 'powers': 8, 'simplicity': 8, 'slots': 8, 'runtime': 8, 'resistance': 8, 'reduces': 8, 'category': 8, 'poorly': 8, 'posted': 8, 'happily': 8, 'bothered': 8, 'bundled': 8, 'requiring': 8, 'converted': 8, 'prize': 8, 'aaas': 8, 'prepared': 8, 'beautifully': 8, 'differences': 8, 'blow': 8, 'assumed': 8, 'btw': 8, 'lantern': 8, 'contacts': 8, 'summer': 8, 'upcoming': 8, 'math': 8, 'recharged': 8, 'cancelling': 8, 'hubby': 8, 'ha': 8, 'joke': 8, 'needless': 8, 'solved': 8, 'weigh': 8, 'situations': 8, 'nose': 8, 'thomas': 8, 'recycle': 8, 'periodically': 8, 'cats': 8, 'chinese': 8, 'legs': 8, 'caused': 8, 'weekly': 8, 'keypad': 8, 'cabinet': 8, 'doa': 8, 'flashing': 8, 'corroded': 8, 'ruin': 8, 'input': 8, 'leap': 8, 'warehouse': 8, 'availability': 8, 'costing': 8, 'endurance': 8, 'retailers': 8, 'shared': 8, 'prefect': 8, 'jacket': 8, 'temperature': 8, 'sensors': 8, 'bummer': 8, 'fifty': 8, 'consume': 8, 'abilities': 8, 'reluctant': 8, 'natural': 8, 'lifetime': 8, 'correct': 8, 'depot': 8, 'cake': 8, 'ridiculously': 8, 'pricy': 8, 'ultimately': 8, 'yahoo': 8, 'tomorrow': 8, 'discounted': 8, 'suited': 8, 'tendency': 8, 'overly': 8, 'eco': 8, 'bout': 8, 'cast': 8, 'suit': 8, 'wasting': 8, 'ultimate': 8, 'lesser': 8, 'informed': 8, 'success': 8, 'shocked': 8, 'walk': 8, 'verify': 8, 'random': 8, 'nest': 8, 'theres': 8, 'gigs': 8, 'code': 8, 'creating': 8, 'whatsoever': 8, 'bummed': 8, 'ride': 8, 'ruining': 8, 'essential': 8, 'bar': 8, 'events': 8, 'telling': 8, 'regards': 8, 'appearance': 8, 'served': 8, 'ends': 8, 'https': 8, 'www': 8, 'discover': 8, 'spots': 8, 'title': 8, 'sometime': 8, 'combined': 8, 'amazingly': 8, 'awkward': 8, 'crack': 8, 'silly': 8, 'citizen': 8, 'recognize': 8, 'connectors': 8, 'mommy': 8, 'laptops': 8, 'sits': 8, 'mesh': 8, 'secondary': 8, 'macbook': 8, 'blocks': 8, 'patience': 8, 'adapters': 8, 'informative': 8, 'answers': 8, 'networks': 8, 'pressing': 8, 'itunes': 8, 'learns': 8, 'integrated': 8, 'ios': 8, 'cellular': 8, 'ghz': 8, 'hearing': 8, 'sports': 8, 'pleasant': 8, 'syncs': 8, 'smarter': 8, 'improves': 8, 'dictionary': 8, 'fonts': 8, 'management': 8, 'peace': 8, 'jump': 8, 'dedicated': 8, 'paperweight': 8, 'uniform': 8, 'stylus': 8, 'east': 8, 'gym': 8, 'awsome': 8, 'towards': 8, 'survived': 8, 'mickey': 8, 'clubhouse': 8, 'vivid': 8, 'relaxing': 8, 'exit': 8, 'layout': 8, 'everytime': 8, 'bills': 8, 'shes': 8, 'godson': 8, 'carousel': 8, 'ur': 8, 'characters': 8, 'atleast': 8, 'completed': 8, 'copies': 8, 'bonuses': 8, 'novels': 8, 'autistic': 8, 'partly': 8, 'explained': 8, 'convert': 8, 'cumbersome': 8, 'associates': 8, 'preschool': 8, 'struggling': 8, 'daugther': 8, 'barnes': 8, 'luv': 8, 'boost': 8, 'lightest': 8, 'prizes': 8, 'quest': 7, 'bt': 7, 'blister': 7, 'food': 7, 'agree': 7, 'commodity': 7, 'advice': 7, 'stumbled': 7, 'riding': 7, 'replacements': 7, 'internally': 7, 'rechargable': 7, 'dirt': 7, 'tier': 7, 'comforting': 7, 'maintain': 7, 'comfort': 7, 'backing': 7, 'appliances': 7, 'subscribed': 7, 'tremendous': 7, 'wizard': 7, 'considerably': 7, 'labeled': 7, 'walkie': 7, 'hurry': 7, 'arrives': 7, 'hits': 7, 'resting': 7, 'cellophane': 7, 'shots': 7, 'photography': 7, 'badly': 7, 'cleaning': 7, 'insulin': 7, 'omg': 7, 'knife': 7, 'expert': 7, 'slowly': 7, 'bathroom': 7, 'trimmer': 7, 'appliance': 7, 'motor': 7, 'unused': 7, 'score': 7, 'kidding': 7, 'dispose': 7, 'prepare': 7, 'neck': 7, 'recieved': 7, 'blood': 7, 'construction': 7, 'ground': 7, 'logitech': 7, 'harbor': 7, 'cd': 7, 'wonder': 7, 'sooo': 7, 'understatement': 7, 'channel': 7, 'produces': 7, 'complains': 7, 'ez': 7, 'amd': 7, 'stash': 7, 'faulty': 7, 'fresher': 7, 'team': 7, 'advertise': 7, 'highlight': 7, 'hanging': 7, 'rule': 7, 'statement': 7, 'trusty': 7, 'hardcore': 7, 'insane': 7, 'tonight': 7, 'stood': 7, 'rescue': 7, 'repeatedly': 7, 'leg': 7, 'headlamp': 7, 'panasonic': 7, 'message': 7, 'carefully': 7, 'ti': 7, 'chances': 7, 'organize': 7, 'layer': 7, 'result': 7, 'yard': 7, 'soap': 7, 'schedule': 7, 'loss': 7, 'wire': 7, 'talked': 7, 'backwards': 7, 'dvd': 7, 'displayed': 7, 'orange': 7, 'dependent': 7, 'conveniently': 7, 'desktop': 7, 'compromise': 7, 'pace': 7, 'yearly': 7, 'thanksgiving': 7, 'visual': 7, 'dust': 7, 'heavily': 7, 'ol': 7, 'unique': 7, 'apparent': 7, 'cds': 7, 'echos': 7, 'freedom': 7, 'written': 7, 'dream': 7, 'sleeping': 7, 'carries': 7, 'blows': 7, 'tote': 7, 'necessarily': 7, 'patio': 7, 'rapid': 7, 'angles': 7, 'stops': 7, 'cooler': 7, 'nylon': 7, 'padding': 7, 'letter': 7, 'sleeker': 7, 'florida': 7, 'document': 7, 'disabled': 7, 'describing': 7, 'song': 7, 'vocabulary': 7, 'recognition': 7, 'upstairs': 7, 'headphone': 7, 'understands': 7, 'siri': 7, 'calendar': 7, 'selections': 7, 'effortlessly': 7, 'flawless': 7, 'tries': 7, 'dirty': 7, 'outdoors': 7, 'debating': 7, 'promotion': 7, 'finish': 7, 'coverage': 7, 'sharper': 7, 'worthy': 7, 'dpi': 7, 'definition': 7, 'exceeds': 7, 'hindsight': 7, 'sunny': 7, 'distracted': 7, 'travelers': 7, 'addict': 7, 'environments': 7, 'flaws': 7, 'retired': 7, 'dinner': 7, 'engage': 7, 'clunky': 7, 'primetime': 7, 'navigates': 7, 'gigabytes': 7, 'vlc': 7, 'seamlessly': 7, 'appointments': 7, 'rotating': 7, 'rotate': 7, 'moms': 7, 'wonders': 7, 'meetings': 7, 'approve': 7, 'fireos': 7, 'slippery': 7, 'puzzle': 7, 'editing': 7, 'intermediate': 7, 'crashed': 7, 'ticking': 7, 'bath': 7, 'neice': 7, 'permission': 7, 'stepdaughter': 7, 'accessed': 7, 'combine': 7, 'shield': 7, 'stories': 7, 'inability': 7, 'fees': 7, 'unfortunate': 7, 'repairs': 7, 'aggravating': 7, 'router': 7, 'prob': 7, 'overdrive': 7, 'asus': 7, 'horizontal': 7, 'seat': 7, 'scrolling': 7, 'sim': 7, 'occasions': 7, 'disch': 6, 'rt': 6, 'staying': 6, 'teacher': 6, 'confirmed': 6, 'pulled': 6, 'surprising': 6, 'restock': 6, 'wal': 6, 'mart': 6, 'performer': 6, 'namebrand': 6, 'returns': 6, 'elaborate': 6, 'console': 6, 'sending': 6, 'rip': 6, 'cheep': 6, 'mortar': 6, 'outperformed': 6, 'procells': 6, 'production': 6, 'buzzing': 6, 'crappy': 6, 'retailer': 6, 'bundles': 6, 'tightly': 6, 'dig': 6, 'nowadays': 6, 'mics': 6, 'continuous': 6, 'cleaned': 6, 'winter': 6, 'carrier': 6, 'lying': 6, 'english': 6, 'counter': 6, 'whose': 6, 'fortune': 6, 'liquid': 6, 'scared': 6, 'dry': 6, 'razor': 6, 'continued': 6, 'recurring': 6, 'monday': 6, 'dads': 6, 'confidence': 6, 'woman': 6, 'labels': 6, 'esp': 6, 'lovely': 6, 'hurt': 6, 'wasted': 6, 'stayed': 6, 'strap': 6, 'electricity': 6, 'manufacturing': 6, 'pictured': 6, 'satisfaction': 6, 'japan': 6, 'promises': 6, 'batters': 6, 'insert': 6, 'reordering': 6, 'posts': 6, 'concerns': 6, 'ie': 6, 'opinions': 6, 'contemplating': 6, 'stack': 6, 'ebay': 6, 'thicker': 6, 'calculators': 6, 'elements': 6, 'tax': 6, 'maps': 6, 'simpler': 6, 'secret': 6, 'remains': 6, 'beaten': 6, 'matched': 6, 'considered': 6, 'decoration': 6, 'defiantly': 6, 'recorder': 6, 'liking': 6, 'reviewing': 6, 'hide': 6, 'imagined': 6, 'opposed': 6, 'cent': 6, 'dozens': 6, 'ds': 6, 'reordered': 6, 'expense': 6, 'closely': 6, 'booklet': 6, 'drove': 6, 'density': 6, 'unhappy': 6, 'driving': 6, 'hp': 6, 'drawers': 6, 'army': 6, 'cancel': 6, 'indicated': 6, 'reputation': 6, 'handful': 6, 'struggle': 6, 'dispenser': 6, 'branding': 6, 'certified': 6, 'measure': 6, 'mile': 6, 'tips': 6, 'taste': 6, 'unacceptable': 6, 'sanity': 6, 'energenizer': 6, 'payment': 6, 'suddenly': 6, 'handling': 6, 'lackluster': 6, 'ninja': 6, 'mwh': 6, 'july': 6, 'destroy': 6, 'frozen': 6, 'eating': 6, 'additionally': 6, 'foot': 6, 'astonishing': 6, 'anti': 6, 'tivo': 6, 'weighing': 6, 'nature': 6, 'nonstop': 6, 'dp': 6, 'satisfying': 6, 'philosophy': 6, 'experiences': 6, 'south': 6, 'usefulness': 6, 'utility': 6, 'effectively': 6, 'potato': 6, 'raise': 6, 'strings': 6, 'reduction': 6, 'intention': 6, 'compatibility': 6, 'screws': 6, 'american': 6, 'extend': 6, 'virus': 6, 'frame': 6, 'recognized': 6, 'unusable': 6, 'ty': 6, 'cruise': 6, 'praise': 6, 'reception': 6, 'wanna': 6, 'training': 6, 'pieces': 6, 'sudden': 6, 'satisfy': 6, 'practice': 6, 'drives': 6, 'alleviate': 6, 'breakage': 6, 'featured': 6, 'grey': 6, 'straps': 6, 'shaped': 6, 'els': 6, 'neoprene': 6, 'educated': 6, 'glasses': 6, 'preference': 6, 'resolve': 6, 'tapping': 6, 'answered': 6, 'mobility': 6, 'hue': 6, 'disadvantage': 6, 'whim': 6, 'episode': 6, 'connections': 6, 'aps': 6, 'pulling': 6, 'synced': 6, 'valuable': 6, 'figuring': 6, 'glitches': 6, 'alternate': 6, 'amps': 6, 'understanding': 6, 'foreign': 6, 'scroll': 6, 'la': 6, 'focus': 6, 'copy': 6, 'becomes': 6, 'ambient': 6, 'lovers': 6, 'sunshine': 6, 'spoiled': 6, 'misses': 6, 'beauty': 6, 'spouse': 6, 'suggestions': 6, 'adore': 6, 'optional': 6, 'cousin': 6, 'launcher': 6, 'bf': 6, 'laggy': 6, 'insisted': 6, 'icon': 6, 'jr': 6, 'entertains': 6, 'airport': 6, 'disability': 6, 'limitation': 6, 'googleplay': 6, 'mothers': 6, 'childproof': 6, 'brothers': 6, 'dosent': 6, 'cracks': 6, 'preschooler': 6, 'salesperson': 6, 'dropbox': 6, 'throughly': 6, 'beneficial': 6, 'component': 6, 'insignia': 6, 'withstand': 6, 'achievements': 6, 'smoother': 6, 'driver': 6, 'tutorial': 6, 'weekend': 6, 'preschoolers': 6, 'modest': 6, 'introducing': 6, 'eliminates': 6, 'syndrome': 6, 'outdated': 6, 'semester': 6, 'reward': 6, 'aswell': 6, 'requirement': 6, 'dispute': 6, 'tutorials': 6, 'enter': 6, 'spoke': 6, 'summary': 6, 'visits': 6, 'drag': 6, 'gorgeous': 6, 'equipped': 6, 'aimed': 6, 'restricts': 6, 'airline': 6, 'elementary': 6, 'att': 6, 'sturdier': 6, 'utube': 6, 'crisper': 6, 'banking': 6, 'asks': 6, 'spreadsheets': 6, 'safeguard': 6, 'circadian': 6, 'rhythm': 6, 'baught': 6, 'registering': 6, 'grandpa': 6, 'grandfather': 6, 'stepkids': 6, 'clash': 6, 'illumination': 6, 'instructed': 6, 'quirk': 6, 'iceland': 6, 'pintrest': 6, 'earbuds': 6, 'steelbook': 6, 'casing': 6, 'pcs': 5, 'inconsistent': 5, 'fish': 5, 'thankful': 5, 'respectable': 5, 'rates': 5, 'motorized': 5, 'blew': 5, 'combination': 5, 'exciting': 5, 'shopper': 5, 'reviewer': 5, 'claimed': 5, 'fake': 5, 'bravo': 5, 'rival': 5, 'mediocre': 5, 'mercury': 5, 'closer': 5, 'scales': 5, 'varieties': 5, 'laugh': 5, 'mainstream': 5, 'stronger': 5, 'fewer': 5, 'income': 5, 'fool': 5, 'equivalents': 5, 'countless': 5, 'indicate': 5, 'inferior': 5, 'drinks': 5, 'hunting': 5, 'lay': 5, 'el': 5, 'fluke': 5, 'variation': 5, 'attempted': 5, 'annoyance': 5, 'confirm': 5, 'confident': 5, 'feb': 5, 'bomb': 5, 'mon': 5, 'wrist': 5, 'physically': 5, 'sunday': 5, 'trains': 5, 'emergencies': 5, 'eneloop': 5, 'famous': 5, 'sacrifice': 5, 'performers': 5, 'contain': 5, 'prepaid': 5, 'project': 5, 'ceiling': 5, 'deserves': 5, 'responding': 5, 'essentially': 5, 'earth': 5, 'distractions': 5, 'recieve': 5, 'walked': 5, 'ikea': 5, 'experiment': 5, 'burnt': 5, 'terribly': 5, 'sams': 5, 'circuit': 5, 'guaranteed': 5, 'scissors': 5, 'lid': 5, 'environmentally': 5, 'dated': 5, 'mark': 5, 'drugstore': 5, 'thermometers': 5, 'sticking': 5, 'boat': 5, 'file': 5, 'batery': 5, 'lo': 5, 'giant': 5, 'seal': 5, 'generics': 5, 'dough': 5, 'goo': 5, 'juju': 5, 'cams': 5, 'massive': 5, 'listed': 5, 'wasteful': 5, 'bear': 5, 'calculator': 5, 'qc': 5, 'selecting': 5, 'supplier': 5, 'rechargables': 5, 'mag': 5, 'freshness': 5, 'loosing': 5, 'bye': 5, 'negatives': 5, 'weaker': 5, 'cousins': 5, 'twist': 5, 'prove': 5, 'anticipated': 5, 'vacs': 5, 'lowes': 5, 'players': 5, 'placing': 5, 'insanely': 5, 'organizer': 5, 'teenagers': 5, 'rich': 5, 'spares': 5, 'arranged': 5, 'transport': 5, 'dimmer': 5, 'id': 5, 'slick': 5, 'smallest': 5, 'examples': 5, 'lightening': 5, 'talkies': 5, 'woo': 5, 'attempts': 5, 'produced': 5, 'states': 5, 'proudly': 5, 'stairs': 5, 'hopes': 5, 'thermometer': 5, 'supplies': 5, 'remarkably': 5, 'stable': 5, 'economy': 5, 'relief': 5, 'suprised': 5, 'firetv': 5, 'chocolate': 5, 'gun': 5, 'noticing': 5, 'shall': 5, 'ratings': 5, 'bet': 5, 'roughly': 5, 'switches': 5, 'continuously': 5, 'generous': 5, 'medical': 5, 'doctors': 5, 'weekends': 5, 'patient': 5, 'truth': 5, 'sources': 5, 'recharges': 5, 'whoever': 5, 'fabric': 5, 'estimate': 5, 'edges': 5, 'messes': 5, 'complaining': 5, 'dump': 5, 'forgotten': 5, 'equally': 5, 'lie': 5, 'center': 5, 'act': 5, 'fare': 5, 'fat': 5, 'accepted': 5, 'burns': 5, 'batterie': 5, 'licensing': 5, 'plans': 5, 'spelling': 5, 'resale': 5, 'habit': 5, 'remembers': 5, 'science': 5, 'meh': 5, 'ate': 5, 'individuals': 5, 'stink': 5, 'concept': 5, 'filtered': 5, 'killing': 5, 'goodies': 5, 'lazy': 5, 'culprit': 5, 'nonetheless': 5, 'sends': 5, 'tall': 5, 'passed': 5, 'clients': 5, 'spine': 5, 'unplugged': 5, 'alexia': 5, 'expired': 5, 'sessions': 5, 'mix': 5, 'repair': 5, 'foray': 5, 'clip': 5, 'remembered': 5, 'rocket': 5, 'binge': 5, 'girlfriends': 5, 'sliding': 5, 'uploads': 5, 'minimally': 5, 'stylish': 5, 'distraction': 5, 'canvas': 5, 'briefcase': 5, 'usability': 5, 'nomad': 5, 'kindal': 5, 'procedure': 5, 'hotels': 5, 'cooking': 5, 'communications': 5, 'dock': 5, 'answering': 5, 'texas': 5, 'bringing': 5, 'unexpected': 5, 'tinny': 5, 'cradle': 5, 'nursing': 5, 'degrees': 5, 'audiophile': 5, 'hype': 5, 'bothering': 5, 'obsessed': 5, 'controlling': 5, 'lugging': 5, 'extent': 5, 'pet': 5, 'chip': 5, 'bible': 5, 'backward': 5, 'translations': 5, 'ereaders': 5, 'kobo': 5, 'york': 5, 'evenly': 5, 'nearest': 5, 'refresh': 5, 'lcd': 5, 'mastered': 5, 'pickup': 5, 'canceled': 5, 'palm': 5, 'reference': 5, 'goal': 5, 'address': 5, 'awake': 5, 'wakes': 5, 'wider': 5, 'slides': 5, 'refer': 5, 'pure': 5, 'waking': 5, 'viber': 5, 'grt': 5, 'immensely': 5, 'kickstand': 5, 'standing': 5, 'gpu': 5, 'hogging': 5, 'casually': 5, 'restriction': 5, 'rights': 5, 'onother': 5, 'repossess': 5, 'clearing': 5, 'cache': 5, 'stating': 5, 'upgradable': 5, 'supporting': 5, 'novice': 5, 'booting': 5, 'certificate': 5, 'stone': 5, 'root': 5, 'paw': 5, 'surprises': 5, 'lover': 5, 'tvs': 5, 'hurts': 5, 'wears': 5, 'slowing': 5, 'refined': 5, 'interests': 5, 'descent': 5, 'screed': 5, 'structure': 5, 'implemented': 5, 'grandbaby': 5, 'personnel': 5, 'outperforms': 5, 'supervise': 5, 'babysitter': 5, 'bloatware': 5, 'pixels': 5, 'magnets': 5, 'specially': 5, 'mins': 5, 'scratches': 5, 'nursery': 5, 'rhymes': 5, 'hospital': 5, 'silicon': 5, 'backlights': 5, 'pdfs': 5, 'amazone': 5, 'twitter': 5, 'manageable': 5, 'subscriptions': 5, 'subscribing': 5, 'unconditional': 5, 'withstands': 5, 'disabilities': 5, 'languages': 5, 'breakable': 5, 'episodes': 5, 'destructive': 5, 'subsidize': 5, 'freebies': 5, 'comics': 5, 'ui': 5, 'centered': 5, 'wondering': 5, 'popping': 5, 'sesame': 5, 'street': 5, 'noble': 5, 'curved': 5, 'lte': 5, 'processes': 5, 'permanently': 5, 'clutter': 5, 'horsepower': 5, 'representative': 5, 'clans': 5, 'therapy': 5, 'assists': 5, 'youth': 5, 'excuse': 5, 'deducted': 5, 'pleasurable': 5, 'fatigue': 5, 'worm': 5, 'hbo': 5, 'maximum': 5, 'unaware': 5, 'removes': 5, 'assignments': 5, 'reduce': 5, 'misleading': 5, 'crossword': 5, 'touches': 5, 'kindel': 5, 'aluminum': 4, 'leader': 4, 'sample': 4, 'gigantic': 4, 'purchaser': 4, 'headset': 4, 'heads': 4, 'measures': 4, 'mower': 4, 'excellant': 4, 'outage': 4, 'dissatisfied': 4, 'reflects': 4, 'beet': 4, 'industry': 4, 'coin': 4, 'corroding': 4, 'excelente': 4, 'rivals': 4, 'carton': 4, 'aok': 4, 'theater': 4, 'record': 4, 'immediate': 4, 'kick': 4, 'retain': 4, 'woods': 4, 'boom': 4, 'lacka': 4, 'duh': 4, 'multimeter': 4, 'cordless': 4, 'mas': 4, 'canon': 4, 'exposure': 4, 'ear': 4, 'downstairs': 4, 'vote': 4, 'pays': 4, 'temperatures': 4, 'holder': 4, 'proper': 4, 'unreal': 4, 'impatient': 4, 'thankfully': 4, 'longtime': 4, 'adv': 4, 'pressed': 4, 'disappear': 4, 'co': 4, 'groupon': 4, 'breast': 4, 'encountered': 4, 'death': 4, 'row': 4, 'gizmos': 4, 'pointer': 4, 'pinch': 4, 'proud': 4, 'manufactured': 4, 'sunbeam': 4, 'stats': 4, 'bags': 4, 'wearing': 4, 'bats': 4, 'brief': 4, 'corners': 4, 'expansive': 4, 'shack': 4, 'freaking': 4, 'kill': 4, 'earthquake': 4, 'critical': 4, 'mos': 4, 'ripoff': 4, 'official': 4, 'failing': 4, 'backs': 4, 'consumers': 4, 'screwing': 4, 'eyesight': 4, 'reserve': 4, 'cvs': 4, 'depth': 4, 'cam': 4, 'rounds': 4, 'surround': 4, 'wine': 4, 'opener': 4, 'characteristics': 4, 'surely': 4, 'loyal': 4, 'feed': 4, 'dc': 4, 'impossibly': 4, 'strike': 4, 'durcell': 4, 'eneloops': 4, 'arises': 4, 'boots': 4, 'solutions': 4, 'indistinguishable': 4, 'clue': 4, 'fo': 4, 'clicker': 4, 'expectation': 4, 'rabbit': 4, 'grate': 4, 'directed': 4, 'allot': 4, 'yea': 4, 'sensing': 4, 'cup': 4, 'amongst': 4, 'torn': 4, 'comparably': 4, 'batter': 4, 'childrens': 4, 'accessibility': 4, 'subjective': 4, 'painful': 4, 'combo': 4, 'deer': 4, 'pantry': 4, 'ugh': 4, 'upside': 4, 'competitively': 4, 'removing': 4, 'majority': 4, 'naturally': 4, 'responsible': 4, 'gamers': 4, 'hopeful': 4, 'pricier': 4, 'hurting': 4, 'mounted': 4, 'apartment': 4, 'hunt': 4, 'fanatic': 4, 'nite': 4, 'million': 4, 'admittedly': 4, 'runner': 4, 'importance': 4, 'exaggerating': 4, 'cluttered': 4, 'darker': 4, 'projects': 4, 'electrons': 4, 'reliably': 4, 'stretch': 4, 'locations': 4, 'lead': 4, 'according': 4, 'xfinity': 4, 'unwrap': 4, 'swap': 4, 'photographer': 4, 'thermostats': 4, 'til': 4, 'twelve': 4, 'trucks': 4, 'camper': 4, 'exceptionally': 4, 'gem': 4, 'deciding': 4, 'commonly': 4, 'backpacks': 4, 'dealing': 4, 'whichever': 4, 'japanese': 4, 'industrial': 4, 'nerf': 4, 'risk': 4, 'fortunately': 4, 'heating': 4, 'village': 4, 'plant': 4, 'iam': 4, 'efficiently': 4, 'obsolete': 4, 'downsides': 4, 'engineering': 4, 'sing': 4, 'lowe': 4, 'dslr': 4, 'toilet': 4, 'drum': 4, 'planned': 4, 'virtually': 4, 'identify': 4, 'spam': 4, 'breaker': 4, 'seeking': 4, 'distinguish': 4, 'fuzzy': 4, 'soi': 4, 'cat': 4, 'wet': 4, 'sauce': 4, 'piano': 4, 'stain': 4, 'focused': 4, 'scope': 4, 'essentials': 4, 'shutting': 4, 'moves': 4, 'shortest': 4, 'replenish': 4, 'eliminate': 4, 'easter': 4, 'opposite': 4, 'ect': 4, 'moderate': 4, 'stress': 4, 'unusual': 4, 'bricks': 4, 'varies': 4, 'manufacture': 4, 'suffice': 4, 'raovac': 4, 'dissapointed': 4, 'shocking': 4, 'reciever': 4, 'comments': 4, 'crying': 4, 'corrected': 4, 'calculations': 4, 'extrapolating': 4, 'shirt': 4, 'forced': 4, 'skip': 4, 'objective': 4, 'blu': 4, 'warnings': 4, 'digging': 4, 'baldwin': 4, 'cylinder': 4, 'fenix': 4, 'hl': 4, 'xp': 4, 'forgot': 4, 'independent': 4, 'decade': 4, 'swapped': 4, 'lesson': 4, 'sophisticated': 4, 'pacific': 4, 'farther': 4, 'pants': 4, 'evens': 4, 'frother': 4, 'encased': 4, 'consideration': 4, 'vibrator': 4, 'typed': 4, 'memberships': 4, 'fyi': 4, 'goog': 4, 'icing': 4, 'cartridge': 4, 'backyard': 4, 'bleed': 4, 'prone': 4, 'spectrum': 4, 'counts': 4, 'pause': 4, 'enables': 4, 'frankly': 4, 'arent': 4, 'guarantees': 4, 'centre': 4, 'binders': 4, 'discs': 4, 'excitement': 4, 'kodi': 4, 'signs': 4, 'sheet': 4, 'stands': 4, 'daylight': 4, 'circle': 4, 'doll': 4, 'drone': 4, 'animals': 4, 'rectangular': 4, 'logs': 4, 'standby': 4, 'taller': 4, 'similarly': 4, 'lieu': 4, 'pens': 4, 'daddy': 4, 'lady': 4, 'preparation': 4, 'guards': 4, 'crinkly': 4, 'belongings': 4, 'sections': 4, 'accordingly': 4, 'pocketed': 4, 'highlights': 4, 'zipper': 4, 'traveled': 4, 'notebook': 4, 'toward': 4, 'fitted': 4, 'wars': 4, 'fashionable': 4, 'slipping': 4, 'expands': 4, 'mailed': 4, 'settle': 4, 'socket': 4, 'privacy': 4, 'accidents': 4, 'facts': 4, 'funny': 4, 'phrase': 4, 'neil': 4, 'wemo': 4, 'transportation': 4, 'recipes': 4, 'wikipedia': 4, 'complants': 4, 'continually': 4, 'accustomed': 4, 'activating': 4, 'jbl': 4, 'listened': 4, 'conversation': 4, 'habe': 4, 'fort': 4, 'requested': 4, 'podcasts': 4, 'filling': 4, 'automated': 4, 'alexis': 4, 'integrate': 4, 'poolside': 4, 'status': 4, 'taps': 4, 'housework': 4, 'downgraded': 4, 'building': 4, 'session': 4, 'volumes': 4, 'doubles': 4, 'notifications': 4, 'syncing': 4, 'hr': 4, 'plated': 4, 'speeds': 4, 'designing': 4, 'irritating': 4, 'gentle': 4, 'distributed': 4, 'dictionaries': 4, 'wonky': 4, 'ounces': 4, 'ppi': 4, 'dims': 4, 'experimental': 4, 'thrones': 4, 'nt': 4, 'ap': 4, 'tweaking': 4, 'viable': 4, 'bothers': 4, 'fingerprints': 4, 'flying': 4, 'turner': 4, 'problematic': 4, 'inadvertently': 4, 'ancient': 4, 'acct': 4, 'aloud': 4, 'zippy': 4, 'attract': 4, 'hefty': 4, 'spendy': 4, 'audiobook': 4, 'haptic': 4, 'healthy': 4, 'hiccups': 4, 'rolled': 4, 'settled': 4, 'graphical': 4, 'worlds': 4, 'chooses': 4, 'scary': 4, 'nails': 4, 'sprout': 4, 'technological': 4, 'nbc': 4, 'jumping': 4, 'disconcerting': 4, 'categories': 4, 'hasmore': 4, 'novices': 4, 'treated': 4, 'colorful': 4, 'intelligent': 4, 'tuck': 4, 'somewhe': 4, 'intimidating': 4, 'mono': 4, 'alight': 4, 'reg': 4, 'kindlefire': 4, 'temporary': 4, 'whilst': 4, 'customized': 4, 'custom': 4, 'estate': 4, 'mindless': 4, 'glitchy': 4, 'insure': 4, 'ties': 4, 'restaurant': 4, 'saavy': 4, 'segment': 4, 'gf': 4, 'defect': 4, 'glossy': 4, 'guides': 4, 'resetting': 4, 'newphew': 4, 'belong': 4, 'tasking': 4, 'dji': 4, 'powerhouse': 4, 'absorbs': 4, 'git': 4, 'possibilities': 4, 'referring': 4, 'portal': 4, 'tricky': 4, 'supervision': 4, 'passes': 4, 'renew': 4, 'nana': 4, 'art': 4, 'impaired': 4, 'bumpers': 4, 'dryer': 4, 'landed': 4, 'dose': 4, 'alittle': 4, 'perks': 4, 'ar': 4, 'straightforward': 4, 'awseome': 4, 'granddaugther': 4, 'sec': 4, 'dreamtab': 4, 'enclosure': 4, 'affected': 4, 'allotted': 4, 'multitasking': 4, 'goggle': 4, 'spin': 4, 'housed': 4, 'slik': 4, 'folders': 4, 'heading': 4, 'despise': 4, 'swyping': 4, 'relying': 4, 'carpal': 4, 'tunnel': 4, 'weaknesses': 4, 'legitimately': 4, 'biting': 4, 'alike': 4, 'hitting': 4, 'homerun': 4, 'washed': 4, 'leaning': 4, 'watcher': 4, 'byod': 4, 'howto': 4, 'fixes': 4, 'opportunities': 4, 'cross': 4, 'fundraiser': 4, 'sega': 4, 'teaches': 4, 'conclusion': 4, 'tweeting': 4, 'curriculums': 4, 'acess': 4, 'guppies': 4, 'reported': 4, 'kindled': 4, 'tot': 4, 'toast': 4, 'manager': 4, 'sees': 4, 'bedt': 4, 'sideload': 4, 'wound': 4, 'bloat': 4, 'fed': 4, 'protectors': 4, 'clogs': 4, 'hardwood': 4, 'schooling': 4, 'seventy': 4, 'bent': 4, 'hack': 4, 'presence': 4, 'samsungs': 4, 'playtime': 4, 'exam': 4, 'taught': 4, 'frees': 4, 'schools': 4, 'appreciation': 4, 'voids': 4, 'miniature': 4, 'positives': 4, 'acting': 4, 'spilled': 4, 'bookshelves': 4, 'renting': 4, 'snappier': 4, 'lovin': 4, 'taplet': 4, 'lettering': 4, 'texting': 4, 'rainy': 4, 'political': 4, 'introduction': 4, 'merchandise': 4, 'fiance': 4, 'targeted': 4, 'delicate': 4, 'conceal': 4, 'messed': 4, 'article': 4, 'relax': 4, 'doors': 4, 'getjar': 4, 'restarted': 4, 'bending': 4, 'expressed': 4, 'flag': 4, 'measly': 4, 'variant': 4, 'pixel': 4, 'viewer': 4, 'australia': 4, 'temps': 3, 'dividing': 3, 'comparative': 3, 'organization': 3, 'scenarios': 3, 'gathered': 3, 'indoors': 3, 'primitive': 3, 'improving': 3, 'preform': 3, 'ps': 3, 'infrequently': 3, 'conditioned': 3, 'dan': 3, 'surveillance': 3, 'fellow': 3, 'reusable': 3, 'genuine': 3, 'ordinary': 3, 'troubles': 3, 'kodak': 3, 'floating': 3, 'cylinders': 3, 'effectiveness': 3, 'arthritis': 3, 'fired': 3, 'quantum': 3, 'determined': 3, 'receipt': 3, 'necessities': 3, 'recycled': 3, 'fifth': 3, 'perishable': 3, 'remainder': 3, 'mill': 3, 'voltmeter': 3, 'ripping': 3, 'playstation': 3, 'outlast': 3, 'detail': 3, 'shifts': 3, 'corrugated': 3, 'disposables': 3, 'tolerance': 3, 'dj': 3, 'concert': 3, 'translate': 3, 'hated': 3, 'permanent': 3, 'ending': 3, 'demands': 3, 'nuff': 3, 'um': 3, 'instances': 3, 'polarity': 3, 'partially': 3, 'discharged': 3, 'alive': 3, 'biased': 3, 'french': 3, 'restocked': 3, 'temp': 3, 'swings': 3, 'bouncers': 3, 'functioned': 3, 'deserved': 3, 'suction': 3, 'preformed': 3, 'occurs': 3, 'january': 3, 'evaluating': 3, 'disturbing': 3, 'timed': 3, 'oversized': 3, 'freak': 3, 'vibrating': 3, 'appalled': 3, 'feet': 3, 'attack': 3, 'motors': 3, 'beeps': 3, 'distance': 3, 'cap': 3, 'terminal': 3, 'disposed': 3, 'hazardous': 3, 'projector': 3, 'idk': 3, 'solely': 3, 'uh': 3, 'recharger': 3, 'cabinets': 3, 'spray': 3, 'joule': 3, 'wreaths': 3, 'unimportant': 3, 'photographers': 3, 'discard': 3, 'guessed': 3, 'frameless': 3, 'nizn': 3, 'favor': 3, 'subpar': 3, 'hidden': 3, 'blah': 3, 'vouch': 3, 'dura': 3, 'fresheners': 3, 'lamps': 3, 'realistic': 3, 'ion': 3, 'bottle': 3, 'reservations': 3, 'false': 3, 'bars': 3, 'fashion': 3, 'argue': 3, 'duralast': 3, 'easiest': 3, 'humble': 3, 'scenario': 3, 'shipper': 3, 'thx': 3, 'cheapos': 3, 'battle': 3, 'planet': 3, 'circuits': 3, 'batterize': 3, 'transaction': 3, 'tuff': 3, 'fulfill': 3, 'handing': 3, 'specifications': 3, 'adorable': 3, 'fantastically': 3, 'pile': 3, 'refrigerator': 3, 'pkg': 3, 'imho': 3, 'apiece': 3, 'dent': 3, 'competes': 3, 'unfair': 3, 'honesty': 3, 'beard': 3, 'impression': 3, 'nearby': 3, 'namely': 3, 'hungry': 3, 'exceed': 3, 'shaver': 3, 'military': 3, 'consuming': 3, 'bubbles': 3, 'sellers': 3, 'placement': 3, 'wrappers': 3, 'criteria': 3, 'counterparts': 3, 'moisture': 3, 'jeff': 3, 'marks': 3, 'emptor': 3, 'fancier': 3, 'lifesaver': 3, 'goodbye': 3, 'approx': 3, 'battiers': 3, 'increasingly': 3, 'recomend': 3, 'sore': 3, 'reckless': 3, 'tie': 3, 'shops': 3, 'exp': 3, 'pods': 3, 'glowing': 3, 'ole': 3, 'clamshells': 3, 'granted': 3, 'plow': 3, 'foreseeable': 3, 'burst': 3, 'backups': 3, 'definetly': 3, 'melt': 3, 'enegizer': 3, 'opted': 3, 'associated': 3, 'bay': 3, 'triggers': 3, 'demanding': 3, 'fumbling': 3, 'exercise': 3, 'leary': 3, 'stole': 3, 'route': 3, 'rentals': 3, 'topic': 3, 'jet': 3, 'reliability': 3, 'qty': 3, 'twos': 3, 'chew': 3, 'context': 3, 'mundane': 3, 'patterns': 3, 'destroying': 3, 'suggestion': 3, 'withing': 3, 'september': 3, 'rayovak': 3, 'investing': 3, 'responses': 3, 'dangerous': 3, 'engine': 3, 'baggies': 3, 'sided': 3, 'workout': 3, 'waistband': 3, 'errands': 3, 'warmer': 3, 'maxwell': 3, 'modem': 3, 'horrendous': 3, 'sticker': 3, 'printing': 3, 'rust': 3, 'nevertheless': 3, 'alas': 3, 'screw': 3, 'robot': 3, 'entering': 3, 'beeped': 3, 'signed': 3, 'minus': 3, 'former': 3, 'oily': 3, 'optical': 3, 'soaked': 3, 'beater': 3, 'leaky': 3, 'swapping': 3, 'degrade': 3, 'wee': 3, 'picky': 3, 'monitored': 3, 'body': 3, 'discoloration': 3, 'knocked': 3, 'knockoffs': 3, 'grouped': 3, 'lame': 3, 'steep': 3, 'weekdays': 3, 'decades': 3, 'unsatisfactory': 3, 'shear': 3, 'utterly': 3, 'begining': 3, 'driven': 3, 'sleeves': 3, 'rapidly': 3, 'accomodate': 3, 'readily': 3, 'finished': 3, 'deep': 3, 'iffy': 3, 'xl': 3, 'cycle': 3, 'countries': 3, 'reminds': 3, 'surrounding': 3, 'swear': 3, 'wild': 3, 'sword': 3, 'dice': 3, 'harmful': 3, 'percentage': 3, 'indicates': 3, 'containing': 3, 'conventional': 3, 'measuring': 3, 'lens': 3, 'ticks': 3, 'variable': 3, 'techs': 3, 'menards': 3, 'quirky': 3, 'malfunctions': 3, 'vdc': 3, 'interrupted': 3, 'film': 3, 'verified': 3, 'uncommon': 3, 'degree': 3, 'todays': 3, 'gauge': 3, 'studio': 3, 'seals': 3, 'questionable': 3, 'durecell': 3, 'wishing': 3, 'watering': 3, 'adopted': 3, 'animal': 3, 'convienent': 3, 'ferocious': 3, 'sole': 3, 'grat': 3, 'listing': 3, 'whereas': 3, 'credible': 3, 'titan': 3, 'wave': 3, 'panel': 3, 'qualify': 3, 'sennheiser': 3, 'shooting': 3, 'rare': 3, 'bicycle': 3, 'nikon': 3, 'convince': 3, 'dude': 3, 'tape': 3, 'interior': 3, 'bjs': 3, 'ring': 3, 'horribly': 3, 'hama': 3, 'hung': 3, 'tension': 3, 'whats': 3, 'directtv': 3, 'ethernet': 3, 'pointless': 3, 'compliment': 3, 'disappoints': 3, 'op': 3, 'albeit': 3, 'millions': 3, 'racks': 3, 'survive': 3, 'ny': 3, 'drainage': 3, 'followed': 3, 'mush': 3, 'vehicles': 3, 'dandy': 3, 'glade': 3, 'smells': 3, 'fork': 3, 'attempting': 3, 'refuses': 3, 'heaven': 3, 'uploaded': 3, 'shoes': 3, 'embarrassing': 3, 'relationships': 3, 'unbearably': 3, 'grew': 3, 'clips': 3, 'keeper': 3, 'toshiba': 3, 'vibration': 3, 'suspended': 3, 'modification': 3, 'strips': 3, 'bottoms': 3, 'retrofit': 3, 'interfere': 3, 'accommodate': 3, 'lecture': 3, 'tags': 3, 'pulls': 3, 'chromebook': 3, 'macair': 3, 'snags': 3, 'friction': 3, 'beer': 3, 'cozy': 3, 'koozie': 3, 'slit': 3, 'machinery': 3, 'wandering': 3, 'shoutout': 3, 'classy': 3, 'scene': 3, 'darth': 3, 'vader': 3, 'mask': 3, 'unboxed': 3, 'tee': 3, 'amp': 3, 'dell': 3, 'slips': 3, 'fab': 3, 'passport': 3, 'wd': 3, 'hides': 3, 'litter': 3, 'conversion': 3, 'guest': 3, 'echoes': 3, 'traffic': 3, 'appearing': 3, 'expanding': 3, 'ai': 3, 'unplug': 3, 'adaptable': 3, 'automation': 3, 'inclusion': 3, 'partner': 3, 'host': 3, 'hw': 3, 'gathering': 3, 'bare': 3, 'lows': 3, 'footprint': 3, 'shopped': 3, 'shines': 3, 'understandable': 3, 'wires': 3, 'alex': 3, 'speaking': 3, 'scores': 3, 'advantages': 3, 'unlocking': 3, 'discontinued': 3, 'headline': 3, 'bough': 3, 'stationary': 3, 'scheduled': 3, 'tub': 3, 'dos': 3, 'speech': 3, 'pairing': 3, 'beef': 3, 'onboard': 3, 'maximize': 3, 'closest': 3, 'talks': 3, 'lightweigh': 3, 'knitting': 3, 'clicks': 3, 'commute': 3, 'hub': 3, 'flipping': 3, 'narrow': 3, 'christian': 3, 'bump': 3, 'squeeze': 3, 'yellowish': 3, 'elegant': 3, 'nighttime': 3, 'newspapers': 3, 'join': 3, 'secondly': 3, 'tint': 3, 'visibility': 3, 'glowlight': 3, 'latter': 3, 'misplaced': 3, 'swipes': 3, 'pluses': 3, 'quietly': 3, 'tilted': 3, 'thumb': 3, 'fold': 3, 'intrusive': 3, 'trigger': 3, 'splurge': 3, 'skipping': 3, 'preferences': 3, 'introduce': 3, 'reflective': 3, 'wether': 3, 'unwrapped': 3, 'thorough': 3, 'challenges': 3, 'standpoint': 3, 'treadmill': 3, 'begging': 3, 'restarting': 3, 'unsupervised': 3, 'kicks': 3, 'gigahertz': 3, 'megapixel': 3, 'shoots': 3, 'excitedly': 3, 'stutdy': 3, 'unbox': 3, 'dyslexic': 3, 'ranges': 3, 'adultsa': 3, 'encounter': 3, 'clog': 3, 'tabletthe': 3, 'programmer': 3, 'grandchilds': 3, 'streamlined': 3, 'restrictive': 3, 'hesitation': 3, 'adolescent': 3, 'chronic': 3, 'droid': 3, 'survives': 3, 'majorly': 3, 'guided': 3, 'didon': 3, 'recreational': 3, 'rewards': 3, 'wind': 3, 'observe': 3, 'micky': 3, 'minnie': 3, 'hypersensitive': 3, 'rent': 3, 'studying': 3, 'tween': 3, 'crosswords': 3, 'wifes': 3, 'distribute': 3, 'viewed': 3, 'accomplished': 3, 'panels': 3, 'recommends': 3, 'aka': 3, 'positively': 3, 'entered': 3, 'payed': 3, 'array': 3, 'stepping': 3, 'infant': 3, 'beforehand': 3, 'clerk': 3, 'handlings': 3, 'restricting': 3, 'ireader': 3, 'amaxzon': 3, 'toddlerseasy': 3, 'carryeasy': 3, 'difficulties': 3, 'pushed': 3, 'honeatly': 3, 'grrrrrrreeeeeeeeaaaaaattttttt': 3, 'inconvenience': 3, 'logging': 3, 'shabby': 3, 'usr': 3, 'cushioning': 3, 'geating': 3, 'boredom': 3, 'lick': 3, 'easyer': 3, 'grafics': 3, 'conection': 3, 'fallen': 3, 'downfalls': 3, 'courses': 3, 'blotches': 3, 'anyday': 3, 'farmers': 3, 'almanac': 3, 'patents': 3, 'afternoon': 3, 'tooo': 3, 'bounced': 3, 'bland': 3, 'snuff': 3, 'retina': 3, 'city': 3, 'concrete': 3, 'intact': 3, 'stepped': 3, 'misbehaving': 3, 'toodler': 3, 'enroll': 3, 'conducive': 3, 'mucheveryday': 3, 'gamehis': 3, 'pove': 3, 'refuse': 3, 'parameters': 3, 'prop': 3, 'specials': 3, 'amozon': 3, 'whit': 3, 'surrounds': 3, 'desent': 3, 'glambaby': 3, 'fiddled': 3, 'lifesavers': 3, 'object': 3, 'lifw': 3, 'hs': 3, 'witnessed': 3, 'laminate': 3, 'gaurantee': 3, 'aweosme': 3, 'encouraged': 3, 'dictate': 3, 'kindleized': 3, 'pricegood': 3, 'unrelated': 3, 'goggleplay': 3, 'musicality': 3, 'kidproof': 3, 'action': 3, 'eady': 3, 'certificates': 3, 'buffers': 3, 'assisted': 3, 'grainy': 3, 'fascinated': 3, 'kindergarten': 3, 'gaining': 3, 'experiance': 3, 'figthing': 3, 'catalog': 3, 'exited': 3, 'height': 3, 'golden': 3, 'duarable': 3, 'needespecially': 3, 'jissela': 3, 'quieter': 3, 'instructional': 3, 'nakes': 3, 'shatter': 3, 'gurantee': 3, 'regulate': 3, 'ips': 3, 'chosen': 3, 'expandability': 3, 'purposly': 3, 'curiosity': 3, 'hammer': 3, 'firehd': 3, 'washer': 3, 'recipients': 3, 'quetion': 3, 'warenty': 3, 'incorporate': 3, 'selected': 3, 'investigated': 3, 'headstart': 3, 'kiosk': 3, 'trys': 3, 'menial': 3, 'perspective': 3, 'grouping': 3, 'titles': 3, 'equates': 3, 'nterface': 3, 'interruption': 3, 'unauthorized': 3, 'rethinking': 3, 'bold': 3, 'youngster': 3, 'contorl': 3, 'grands': 3, 'usin': 3, 'grownup': 3, 'durrible': 3, 'cords': 3, 'partial': 3, 'sdmini': 3, 'chtistmas': 3, 'crime': 3, 'farone': 3, 'adhd': 3, 'soooooo': 3, 'sterdy': 3, 'dif': 3, 'differentiate': 3, 'imagination': 3, 'appschild': 3, 'granville': 3, 'wv': 3, 'someday': 3, 'everynight': 3, 'dnt': 3, 'fondly': 3, 'pokemon': 3, 'easiness': 3, 'cooperate': 3, 'antivirus': 3, 'satisfies': 3, 'broadcasting': 3, 'whey': 3, 'wrath': 3, 'prof': 3, 'reboots': 3, 'tablett': 3, 'phooey': 3, 'suggesting': 3, 'assumwd': 3, 'hover': 3, 'daugter': 3, 'kiddy': 3, 'proclaims': 3, 'pausing': 3, 'roaming': 3, 'gamecircle': 3, 'shelves': 3, 'indestructable': 3, 'invention': 3, 'stair': 3, 'velcro': 3, 'sf': 3, 'maui': 3, 'onext': 3, 'abke': 3, 'ranged': 3, 'invasive': 3, 'mgr': 3, 'jerk': 3, 'elite': 3, 'conpaired': 3, 'facets': 3, 'tge': 3, 'incident': 3, 'nobles': 3, 'foldover': 3, 'phablet': 3, 'tying': 3, 'uniformity': 3, 'tosses': 3, 'externally': 3, 'engineered': 3, 'hardback': 3, 'webpage': 3, 'froze': 3, 'undone': 3, 'albums': 3, 'wad': 3, 'interact': 3, 'drawing': 3, 'werent': 3, 'pixelated': 3, 'bascially': 3, 'commuter': 3, 'sleeps': 3, 'endure': 3, 'overloaded': 3, 'managing': 3, 'reactions': 3, 'goodidn': 3, 'sentences': 3, 'sone': 3, 'pumper': 3, 'gripping': 3, 'avoids': 3, 'smartphones': 3, 'lockscreen': 3, 'comfy': 3, 'sounded': 3, 'cautious': 3, 'fiddle': 3, 'configurable': 3, 'babes': 3, 'jeans': 3, 'tinier': 3, 'modify': 3, 'procesor': 3, 'raining': 3, 'differentiator': 3, 'gravity': 3, 'kindels': 3, 'ergonomical': 3, 'ergonomics': 3, 'snaps': 3, 'deliberately': 3, 'align': 3, 'prolongs': 3, 'brainier': 3, 'reappearance': 3, 'vanished': 3, 'pinched': 3, 'shifting': 3, 'positions': 3, 'thinness': 3, 'justification': 3, 'unsnaps': 3, 'wheni': 3, 'refreshes': 3, 'squarish': 3, 'elliptical': 3, 'orientation': 3, 'passages': 3, 'laston': 3, 'occur': 3, 'succeed': 3, 'unprepared': 3, 'ounce': 3, 'designs': 3, 'trace': 3, 'illusion': 3, 'rotates': 3, 'loudly': 3, 'redesign': 3, 'lighweight': 3, 'author': 3, 'promotional': 3, 'misinformed': 3, 'inherited': 3, 'audibles': 3, 'reinstall': 3, 'starbucks': 3, 'messenger': 3, 'tabletsome': 3, 'multiplication': 3, 'division': 3, 'securely': 3, 'musically': 3, 'pocketbook': 3, 'professionals': 3, 'jon': 3, 'tony': 3, 'gbss': 3, 'morn': 3, 'coherent': 3, 'grabs': 3, 'hitch': 3, 'shy': 3, 'shattered': 3, 'existed': 3, 'udated': 3, 'interfacing': 3, 'nices': 3, 'speedcons': 3, 'digitally': 3, 'fortunate': 3, 'conecctions': 3, 'solitare': 3, 'sodoko': 3, 'slr': 3, 'wipe': 3, 'tsa': 3, 'screening': 3, 'circling': 3, 'atlantic': 3, 'bite': 3, 'northern': 3, 'theach': 3, 'looooooong': 3, 'hockey': 3, 'playimg': 3, 'baskey': 3, 'snob': 3, 'mere': 3, 'mathematically': 3, 'equation': 3, 'combining': 3, 'nextbook': 3, 'browses': 3, 'spoiler': 3, 'sport': 3, 'bypassed': 3, 'brightest': 3, 'loudness': 3, 'blazing': 3, 'kidsmode': 3, 'adapt': 3, 'endured': 3, 'begginers': 3, 'reccommend': 3, 'screensaver': 3, 'chipper': 3, 'viewers': 3, 'niche': 3, 'pare': 3, 'oonz': 3, 'texted': 3, 'kurio': 3, 'published': 3, 'messageer': 3, 'annoys': 3, 'angel': 3, 'preteens': 3, 'craft': 3, 'ligher': 3, 'ore': 3, 'giveaways': 3, 'india': 3, 'rightly': 3, 'scanned': 3, 'fought': 3, 'textbook': 3, 'influence': 3, 'readings': 3, 'mtv': 3, 'kicked': 3, 'hugh': 3, 'desciples': 3, 'autofocus': 3, 'qualities': 3, 'tweens': 3, 'displaynice': 3, 'heft': 3, 'marketchild': 3, 'ration': 3, 'johnny': 3, 'visa': 3, 'hay': 3, 'sails': 3, 'insensitive': 3, 'determination': 3, 'tabletyou': 3, 'nnby': 3, 'authors': 3, 'sahre': 3, 'availablesare': 3, 'relevant': 3, 'definate': 3, 'beoke': 3, 'soo': 3, 'llite': 3, 'polarizing': 3, 'kinde': 3, 'firends': 3, 'allots': 3, 'clumsiness': 3, 'knack': 3, 'map': 3, 'deletion': 3, 'approach': 3, 'consice': 3, 'chime': 3, 'trilogies': 3, 'sorcerer': 3, 'magical': 3, 'kiddie': 3, 'safeguards': 3, 'repaved': 3, 'spongy': 3, 'furbished': 3, 'pops': 3, 'dubious': 3, 'interferes': 3, 'graduates': 3, 'compatable': 3, 'acording': 3, 'linsay': 3, 'anticipate': 3, 'screenlike': 3, 'feachers': 3, 'goodexcellent': 3, 'stalls': 3, 'downtime': 3, 'tempered': 3, 'gleeful': 3, 'supportive': 3, 'traditionalist': 3, 'tryed': 3, 'goings': 3, 'ixl': 3, 'flowers': 3, 'miracle': 3, 'faces': 3, 'excellence': 3, 'discussions': 3, 'portrait': 3, 'bypass': 3, 'dashboard': 3, 'strategy': 3, 'distances': 3, 'patrol': 3, 'periodicals': 3, 'hdtv': 3, 'mobi': 3, 'problame': 2, 'guests': 2, 'priceim': 2, 'remain': 2, 'fooling': 2, 'computed': 2, 'graph': 2, 'summarizing': 2, 'dept': 2, 'repeatable': 2, 'precise': 2, 'environmental': 2, 'opus': 2, 'analyzer': 2, 'affects': 2, 'flashlightnote': 2, 'beatable': 2, 'supplied': 2, 'eclipsed': 2, 'hrsas': 2, 'comperable': 2, 'contract': 2, 'noting': 2, 'closable': 2, 'mentions': 2, 'findings': 2, 'hrsmy': 2, 'batteriesduracell': 2, 'mn': 2, 'packduracell': 2, 'bkd': 2, 'batteriesmaxell': 2, 'cellrayovac': 2, 'stockpile': 2, 'drink': 2, 'shelter': 2, 'enginzer': 2, 'transmitters': 2, 'advised': 2, 'defintely': 2, 'namebrands': 2, 'tens': 2, 'machines': 2, 'chain': 2, 'transfers': 2, 'lift': 2, 'empty': 2, 'fone': 2, 'perfarmance': 2, 'agenda': 2, 'discharging': 2, 'grateful': 2, 'abundance': 2, 'iv': 2, 'chaege': 2, 'poorest': 2, 'dang': 2, 'triplets': 2, 'strikes': 2, 'uncertainty': 2, 'supplement': 2, 'dfd': 2, 'specified': 2, 'leery': 2, 'foods': 2, 'consistency': 2, 'acceptably': 2, 'upsized': 2, 'wax': 2, 'effusive': 2, 'poetic': 2, 'handhelds': 2, 'lotta': 2, 'delight': 2, 'hero': 2, 'brandname': 2, 'biodegradable': 2, 'fearful': 2, 'rigorous': 2, 'shacka': 2, 'cr': 2, 'cu': 2, 'weddings': 2, 'wegmans': 2, 'rav': 2, 'refunded': 2, 'fails': 2, 'pm': 2, 'wrecked': 2, 'altogether': 2, 'oxidation': 2, 'knocking': 2, 'paging': 2, 'greatplease': 2, 'sockets': 2, 'cupboard': 2, 'gained': 2, 'furnace': 2, 'replenishment': 2, 'crash': 2, 'decorative': 2, 'sins': 2, 'mar': 2, 'spanish': 2, 'advocate': 2, 'goto': 2, 'operational': 2, 'ventured': 2, 'costo': 2, 'disturb': 2, 'bateries': 2, 'begins': 2, 'skeptic': 2, 'concerning': 2, 'rows': 2, 'duracellslast': 2, 'dormant': 2, 'fixture': 2, 'notably': 2, 'recording': 2, 'surpised': 2, 'noted': 2, 'sligtly': 2, 'faith': 2, 'doubts': 2, 'unexpectedly': 2, 'pencil': 2, 'deplete': 2, 'jury': 2, 'doo': 2, 'equate': 2, 'prematurely': 2, 'gritty': 2, 'diapers': 2, 'capacitancethey': 2, 'mouses': 2, 'checker': 2, 'evaluation': 2, 'lonely': 2, 'rougher': 2, 'hose': 2, 'mechanism': 2, 'holders': 2, 'headsets': 2, 'cosco': 2, 'recyclable': 2, 'postage': 2, 'makeup': 2, 'roof': 2, 'mostof': 2, 'operable': 2, 'skimp': 2, 'beg': 2, 'confirmation': 2, 'cbatteries': 2, 'landfills': 2, 'amazn': 2, 'deterred': 2, 'cuff': 2, 'wired': 2, 'closets': 2, 'docket': 2, 'thief': 2, 'dorky': 2, 'headache': 2, 'conduct': 2, 'hiking': 2, 'tire': 2, 'expends': 2, 'workused': 2, 'hyped': 2, 'plots': 2, 'nov': 2, 'unpack': 2, 'dynamic': 2, 'affordability': 2, 'vey': 2, 'agaun': 2, 'vacuum': 2, 'scanner': 2, 'batteris': 2, 'consequently': 2, 'simultaneously': 2, 'supplying': 2, 'masses': 2, 'vastly': 2, 'amazom': 2, 'reflect': 2, 'trade': 2, 'homes': 2, 'expeted': 2, 'diameter': 2, 'childs': 2, 'jod': 2, 'jobs': 2, 'hight': 2, 'eh': 2, 'batteriess': 2, 'decribed': 2, 'vender': 2, 'goodgood': 2, 'blast': 2, 'notable': 2, 'orderd': 2, 'sucking': 2, 'impress': 2, 'pice': 2, 'cares': 2, 'cuts': 2, 'sourced': 2, 'expectedfit': 2, 'anazon': 2, 'slime': 2, 'outlasting': 2, 'guitar': 2, 'scientist': 2, 'wink': 2, 'values': 2, 'boss': 2, 'definately': 2, 'itemfast': 2, 'shipmenthigh': 2, 'whopping': 2, 'refill': 2, 'coz': 2, 'energetically': 2, 'tact': 2, 'battieries': 2, 'vg': 2, 'sbe': 2, 'evaluates': 2, 'etekcity': 2, 'hat': 2, 'driggs': 2, 'stockpiling': 2, 'pleasing': 2, 'diabetic': 2, 'inner': 2, 'behold': 2, 'teddy': 2, 'proceeded': 2, 'prosgood': 2, 'valueworks': 2, 'expectedappropriate': 2, 'lifeconsnone': 2, 'detecting': 2, 'forming': 2, 'unbiased': 2, 'trackpad': 2, 'race': 2, 'tracks': 2, 'comcast': 2, 'batties': 2, 'assorted': 2, 'relabeled': 2, 'everyready': 2, 'excels': 2, 'shrunk': 2, 'llike': 2, 'enougfh': 2, 'laundry': 2, 'blackjack': 2, 'optimal': 2, 'steer': 2, 'utilitarian': 2, 'bj': 2, 'advisable': 2, 'seeping': 2, 'undamaged': 2, 'conducted': 2, 'gut': 2, 'rayovaks': 2, 'appealing': 2, 'uncertain': 2, 'deliveryl': 2, 'ankles': 2, 'swelling': 2, 'silky': 2, 'dec': 2, 'snag': 2, 'marginal': 2, 'undervoltage': 2, 'wrt': 2, 'satisfactorily': 2, 'junky': 2, 'david': 2, 'undoubtedly': 2, 'gobbles': 2, 'discounts': 2, 'studies': 2, 'contained': 2, 'graphing': 2, 'acme': 2, 'coyote': 2, 'bid': 2, 'disclosure': 2, 'monetary': 2, 'feelings': 2, 'titanium': 2, 'seldom': 2, 'camp': 2, 'evaluator': 2, 'cycles': 2, 'seeming': 2, 'labor': 2, 'meticulously': 2, 'intervalometers': 2, 'uppity': 2, 'jiggy': 2, 'noisemakers': 2, 'exist': 2, 'snmap': 2, 'electroniucs': 2, 'uising': 2, 'durably': 2, 'maisto': 2, 'crawler': 2, 'yucky': 2, 'inclement': 2, 'dogs': 2, 'partway': 2, 'outlasts': 2, 'profitable': 2, 'enuf': 2, 'dressed': 2, 'cancellation': 2, 'marker': 2, 'insider': 2, 'speeding': 2, 'convient': 2, 'mucho': 2, 'grassyass': 2, 'frogs': 2, 'athey': 2, 'heartbeat': 2, 'amazin': 2, 'negligible': 2, 'staples': 2, 'moneys': 2, 'tracking': 2, 'stuffer': 2, 'hoo': 2, 'backed': 2, 'uhhhhh': 2, 'bunnies': 2, 'noteven': 2, 'atany': 2, 'flame': 2, 'hole': 2, 'thieves': 2, 'sept': 2, 'bus': 2, 'vector': 2, 'despicable': 2, 'unworthy': 2, 'fabulously': 2, 'definently': 2, 'advertized': 2, 'puzzled': 2, 'refusing': 2, 'overwhelmingly': 2, 'postive': 2, 'investigation': 2, 'fbi': 2, 'yeari': 2, 'gray': 2, 'zoom': 2, 'wrote': 2, 'plainly': 2, 'someplace': 2, 'forgetting': 2, 'wally': 2, 'amaozon': 2, 'bootie': 2, 'coral': 2, 'wearable': 2, 'peter': 2, 'referred': 2, 'j': 2, 'alt': 2, 'drastically': 2, 'musician': 2, 'shure': 2, 'beta': 2, 'disastrous': 2, 'pity': 2, 'gullible': 2, 'dancing': 2, 'decor': 2, 'seek': 2, 'sawing': 2, 'vital': 2, 'stacked': 2, 'corresponding': 2, 'labeler': 2, 'manufactures': 2, 'draws': 2, 'magnificent': 2, 'deserve': 2, 'rake': 2, 'lazer': 2, 'forking': 2, 'measurements': 2, 'neater': 2, 'debates': 2, 'roomates': 2, 'coud': 2, 'mistaken': 2, 'hiss': 2, 'coughing': 2, 'choking': 2, 'literal': 2, 'puddles': 2, 'peeled': 2, 'overexposure': 2, 'surfaces': 2, 'ineffective': 2, 'unsafe': 2, 'freshener': 2, 'inspection': 2, 'developed': 2, 'paranoia': 2, 'rings': 2, 'puddle': 2, 'upto': 2, 'orangeish': 2, 'loan': 2, 'knob': 2, 'faded': 2, 'agian': 2, 'acive': 2, 'tactical': 2, 'musical': 2, 'xb': 2, 'ranch': 2, 'nit': 2, 'blinked': 2, 'successful': 2, 'divide': 2, 'exorbitant': 2, 'collar': 2, 'sucked': 2, 'newegg': 2, 'trackball': 2, 'proclaimed': 2, 'scaring': 2, 'rite': 2, 'aid': 2, 'qualms': 2, 'rolls': 2, 'lightup': 2, 'dip': 2, 'misc': 2, 'opt': 2, 'defeats': 2, 'motorola': 2, 'walkabouts': 2, 'walkabout': 2, 'noqw': 2, 'depleted': 2, 'dispensers': 2, 'milliamp': 2, 'outputting': 2, 'gradual': 2, 'marginally': 2, 'tune': 2, 'ent': 2, 'brutal': 2, 'ugly': 2, 'baffled': 2, 'tore': 2, 'insta': 2, 'bulb': 2, 'inserting': 2, 'overpaid': 2, 'collectibles': 2, 'pillow': 2, 'freezer': 2, 'survival': 2, 'drying': 2, 'typo': 2, 'refilled': 2, 'predicted': 2, 'beeping': 2, 'milage': 2, 'mare': 2, 'falmeless': 2, 'quilty': 2, 'bagel': 2, 'melted': 2, 'vertically': 2, 'vertical': 2, 'specialty': 2, 'amope': 2, 'headlight': 2, 'lightly': 2, 'gurus': 2, 'outmuch': 2, 'sea': 2, 'colorado': 2, 'rangers': 2, 'visible': 2, 'las': 2, 'promise': 2, 'asian': 2, 'infamous': 2, 'reality': 2, 'asia': 2, 'idle': 2, 'notices': 2, 'bah': 2, 'humbug': 2, 'keyless': 2, 'ucy': 2, 'san': 2, 'francisco': 2, 'sby': 2, 'weakened': 2, 'sh': 2, 'uxy': 2, 'gameboy': 2, 'startled': 2, 'closing': 2, 'conservative': 2, 'tornado': 2, 'disasters': 2, 'screaming': 2, 'cry': 2, 'pets': 2, 'sweat': 2, 'commented': 2, 'substantially': 2, 'hve': 2, 'gameplay': 2, 'downhill': 2, 'war': 2, 'ii': 2, 'elseware': 2, 'russian': 2, 'joint': 2, 'ansered': 2, 'largest': 2, 'leaiagel': 2, 'chips': 2, 'watt': 2, 'dewdrop': 2, 'bargin': 2, 'ex': 2, 'dependability': 2, 'ocd': 2, 'coated': 2, 'milk': 2, 'dimmed': 2, 'hf': 2, 'incrementally': 2, 'goodnight': 2, 'pita': 2, 'ahve': 2, 'outa': 2, 'pir': 2, 'scatter': 2, 'beast': 2, 'infrequent': 2, 'polished': 2, 'marketed': 2, 'destruction': 2, 'choo': 2, 'intending': 2, 'junkie': 2, 'hallmark': 2, 'figurines': 2, 'letchall': 2, 'judge': 2, 'folk': 2, 'bands': 2, 'critique': 2, 'evaluated': 2, 'itd': 2, 'recargable': 2, 'hoard': 2, 'hike': 2, 'neighbor': 2, 'offen': 2, 'unreliable': 2, 'pattern': 2, 'visually': 2, 'inspecting': 2, 'sampling': 2, 'weighed': 2, 'implied': 2, 'le': 2, 'recap': 2, 'surefire': 2, 'youre': 2, 'pk': 2, 'raised': 2, 'imac': 2, 'normalto': 2, 'irrigation': 2, 'drip': 2, 'shrinkwrapped': 2, 'acuity': 2, 'wowing': 2, 'swore': 2, 'sennheisers': 2, 'pronounced': 2, 'barring': 2, 'afresh': 2, 'wast': 2, 'refunds': 2, 'waist': 2, 'weve': 2, 'presume': 2, 'engergizer': 2, 'furby': 2, 'artificial': 2, 'mantelpiece': 2, 'dramatic': 2, 'edited': 2, 'obtain': 2, 'grabbing': 2, 'amizon': 2, 'shelve': 2, 'considerable': 2, 'eg': 2, 'meat': 2, 'fuel': 2, 'butt': 2, 'paint': 2, 'enigizeer': 2, 'popup': 2, 'disbelief': 2, 'believed': 2, 'deter': 2, 'duresall': 2, 'eneagiser': 2, 'underneath': 2, 'decorator': 2, 'stager': 2, 'roommate': 2, 'foil': 2, 'itll': 2, 'mexican': 2, 'perfection': 2, 'engines': 2, 'vice': 2, 'substance': 2, 'disc': 2, 'shares': 2, 'bend': 2, 'displaying': 2, 'steaming': 2, 'tubitv': 2, 'subscriber': 2, 'streamed': 2, 'components': 2, 'fiber': 2, 'vendor': 2, 'sheer': 2, 'dominate': 2, 'mistakenly': 2, 'jesus': 2, 'park': 2, 'fours': 2, 'percent': 2, 'unfriendly': 2, 'discovering': 2, 'outrageous': 2, 'maintains': 2, 'outshines': 2, 'reuse': 2, 'lego': 2, 'faults': 2, 'coupon': 2, 'insures': 2, 'stuffed': 2, 'centerpieces': 2, 'fade': 2, 'conspiracy': 2, 'guzzler': 2, 'donated': 2, 'believer': 2, 'signature': 2, 'guessing': 2, 'wattage': 2, 'dresser': 2, 'altra': 2, 'dances': 2, 'coloring': 2, 'tossed': 2, 'lithiums': 2, 'mouth': 2, 'community': 2, 'slant': 2, 'distinctive': 2, 'papers': 2, 'cellphone': 2, 'suitcase': 2, 'stiff': 2, 'hall': 2, 'surplus': 2, 'ho': 2, 'accompanied': 2, 'belongs': 2, 'buckles': 2, 'accents': 2, 'matching': 2, 'pod': 2, 'flap': 2, 'shock': 2, 'kitty': 2, 'elder': 2, 'explanatory': 2, 'relatives': 2, 'forms': 2, 'nough': 2, 'european': 2, 'outlets': 2, 'funtional': 2, 'international': 2, 'cloth': 2, 'preferable': 2, 'lemon': 2, 'watts': 2, 'hotel': 2, 'bedside': 2, 'fidelity': 2, 'gratifying': 2, 'programmers': 2, 'shuffle': 2, 'thunder': 2, 'involved': 2, 'laws': 2, 'stutters': 2, 'inputs': 2, 'helper': 2, 'aux': 2, 'charts': 2, 'dolby': 2, 'houses': 2, 'alexas': 2, 'complement': 2, 'podcast': 2, 'reminders': 2, 'firmware': 2, 'kinks': 2, 'couldnt': 2, 'conversations': 2, 'avail': 2, 'releasing': 2, 'tunein': 2, 'phillips': 2, 'accent': 2, 'tunes': 2, 'soundlink': 2, 'highs': 2, 'virtual': 2, 'ecobee': 2, 'extension': 2, 'ue': 2, 'reminder': 2, 'steam': 2, 'surrounded': 2, 'thetap': 2, 'shower': 2, 'iheart': 2, 'sling': 2, 'graduation': 2, 'sewing': 2, 'implementation': 2, 'xm': 2, 'harmony': 2, 'enhancements': 2, 'steals': 2, 'procrastinated': 2, 'uploading': 2, 'involve': 2, 'printers': 2, 'caution': 2, 'documentation': 2, 'bandwidth': 2, 'papperwhite': 2, 'perfected': 2, 'bluish': 2, 'surpasses': 2, 'effects': 2, 'nightlight': 2, 'texts': 2, 'agents': 2, 'chapter': 2, 'lending': 2, 'definitions': 2, 'lightens': 2, 'glow': 2, 'leisure': 2, 'scratched': 2, 'textured': 2, 'lacked': 2, 'dx': 2, 'readeri': 2, 'generations': 2, 'increasing': 2, 'truthfully': 2, 'elated': 2, 'noticible': 2, 'recessed': 2, 'intrigued': 2, 'weightless': 2, 'pagepress': 2, 'promotes': 2, 'dimly': 2, 'experts': 2, 'seemless': 2, 'lovethis': 2, 'covering': 2, 'shortcomings': 2, 'finicky': 2, 'notepad': 2, 'tilt': 2, 'abused': 2, 'reconnect': 2, 'granddaugter': 2, 'starfall': 2, 'announcedherself': 2, 'conversing': 2, 'wordless': 2, 'pictorialstart': 2, 'vague': 2, 'thisdevice': 2, 'thatfills': 2, 'protocol': 2, 'encryption': 2, 'toattach': 2, 'asstounding': 2, 'walled': 2, 'garden': 2, 'tethers': 2, 'easyperfect': 2, 'carrasoul': 2, 'loadout': 2, 'unresponsive': 2, 'inaccurate': 2, 'overcome': 2, 'outcome': 2, 'marvel': 2, 'champions': 2, 'ck': 2, 'readout': 2, 'transferring': 2, 'upright': 2, 'rebooting': 2, 'hasslevery': 2, 'diapointed': 2, 'vocal': 2, 'identifying': 2, 'motivation': 2, 'unwilling': 2, 'progressing': 2, 'avi': 2, 'anniversary': 2, 'nextflix': 2, 'facetime': 2, 'fierce': 2, 'convinient': 2, 'disneyland': 2, 'tranquil': 2, 'ecosphere': 2, 'buggy': 2, 'dime': 2, 'smokes': 2, 'iut': 2, 'organ': 2, 'resolutions': 2, 'pirce': 2, 'beginers': 2, 'cal': 2, 'saggy': 2, 'sixth': 2, 'cubby': 2, 'drivers': 2, 'grrat': 2, 'foe': 2, 'preteen': 2, 'ata': 2, 'greatcons': 2, 'telegram': 2, 'hindrance': 2, 'wonderfull': 2, 'godchild': 2, 'builtin': 2, 'youreyes': 2, 'breathe': 2, 'frustrates': 2, 'optimum': 2, 'speakes': 2, 'battert': 2, 'boasting': 2, 'decrease': 2, 'decode': 2, 'hevc': 2, 'televisions': 2, 'stopper': 2, 'billboard': 2, 'upfront': 2, 'subsidized': 2, 'bur': 2, 'repaired': 2, 'floors': 2, 'criticism': 2, 'labtop': 2, 'mexico': 2, 'sorted': 2, 'busted': 2, 'increideble': 2, 'onclude': 2, 'pinsharp': 2, 'souped': 2, 'aplication': 2, 'youand': 2, 'broad': 2, 'offices': 2, 'mechanics': 2, 'awwsome': 2, 'flattered': 2, 'predominately': 2, 'netflixs': 2, 'undesirable': 2, 'disables': 2, 'designated': 2, 'cited': 2, 'silent': 2, 'priceless': 2, 'greatthank': 2, 'motivated': 2, 'germany': 2, 'cc': 2, 'mandated': 2, 'acer': 2, 'eve': 2, 'valuegreat': 2, 'homeschool': 2, 'blackfriday': 2, 'accesses': 2, 'impresses': 2, 'preferring': 2, 'vanilla': 2, 'flagship': 2, 'replacemwnt': 2, 'rhe': 2, 'helpedalways': 2, 'agent': 2, 'worksheets': 2, 'colleagues': 2, 'downer': 2, 'manegement': 2, 'calenders': 2, 'buggers': 2, 'lindle': 2, 'flyer': 2, 'uninterrupted': 2, 'voiding': 2, 'tweaks': 2, 'recommeneded': 2, 'homer': 2, 'vietnam': 2, 'veteran': 2, 'firefox': 2, 'abount': 2, 'sofisticated': 2, 'disspoinment': 2, 'andi': 2, 'teblets': 2, 'proff': 2, 'migration': 2, 'executive': 2, 'multifunction': 2, 'summons': 2, 'mirroring': 2, 'considerarions': 2, 'mint': 2, 'hooking': 2, 'spreadsheet': 2, 'retrieval': 2, 'collect': 2, 'gallery': 2, 'hybrid': 2, 'unread': 2, 'investments': 2, 'prety': 2, 'recovered': 2, 'deeply': 2, 'los': 2, 'possibility': 2, 'permissions': 2, 'strides': 2, 'facebooking': 2, 'shifted': 2, 'laterthis': 2, 'infact': 2, 'futuristic': 2, 'modt': 2, 'yer': 2, 'itshe': 2, 'abcmouse': 2, 'youngsters': 2, 'laughing': 2, 'gre': 2, 'disappeared': 2, 'formatted': 2, 'demensions': 2, 'godsend': 2, 'undergraduate': 2, 'biology': 2, 'stepmom': 2, 'proficient': 2, 'somebody': 2, 'ened': 2, 'encourages': 2, 'weakest': 2, 'hookup': 2, 'reloaded': 2, 'intense': 2, 'litchi': 2, 'mavic': 2, 'doorbuster': 2, 'assign': 2, 'barrows': 2, 'wildlife': 2, 'appt': 2, 'litthe': 2, 'gigabyte': 2, 'ms': 2, 'docx': 2, 'xlsx': 2, 'pptx': 2, 'diversity': 2, 'approached': 2, 'explaining': 2, 'assocate': 2, 'shakey': 2, 'fitness': 2, 'motivates': 2, 'smartwatch': 2, 'ky': 2, 'fews': 2, 'wasd': 2, 'collecting': 2, 'positioned': 2, 'laminated': 2, 'nitpicks': 2, 'punches': 2, 'bullet': 2, 'briefings': 2, 'demon': 2, 'sandisk': 2, 'inlaws': 2, 'uncle': 2, 'useage': 2, 'sneakily': 2, 'assure': 2, 'alterior': 2, 'motive': 2, 'chord': 2, 'positional': 2, 'ereading': 2, 'pixelation': 2, 'heaviness': 2, 'bejeweled': 2, 'blitz': 2, 'slugginess': 2, 'satified': 2, 'incompatibilities': 2, 'eagerness': 2, 'strict': 2, 'gutter': 2, 'bcuz': 2, 'proximity': 2, 'imporoved': 2, 'marriage': 2, 'wotks': 2, 'hearts': 2, 'ed': 2, 'interns': 2, 'azi': 2, 'fre': 2, 'tine': 2, 'fronts': 2, 'espn': 2, 'unschooled': 2, 'theyll': 2, 'jumps': 2, 'spongbob': 2, 'defender': 2, 'booted': 2, 'disallow': 2, 'interpreted': 2, 'dangers': 2, 'calmly': 2, 'chatter': 2, 'kidsit': 2, 'educationali': 2, 'smell': 2, 'offshoot': 2, 'unobtrusive': 2, 'earphone': 2, 'capture': 2, 'retirement': 2, 'everythig': 2, 'figertips': 2, 'intend': 2, 'teething': 2, 'fbs': 2, 'championship': 2, 'bama': 2, 'salesgirl': 2, 'themes': 2, 'signing': 2, 'jostled': 2, 'tiniest': 2, 'charity': 2, 'charitable': 2, 'kaspersky': 2, 'complimentary': 2, 'apponto': 2, 'nookereader': 2, 'voicecast': 2, 'routes': 2, 'reaponse': 2, 'laggs': 2, 'adust': 2, 'collections': 2, 'struggles': 2, 'powerpoints': 2, 'platforms': 2, 'html': 2, 'bookclub': 2, 'spead': 2, 'wishlist': 2, 'rablet': 2, 'husbandand': 2, 'discreet': 2, 'orginal': 2, 'awsomo': 2, 'headlines': 2, 'iwas': 2, 'issued': 2, 'aiming': 2, 'samsug': 2, 'accept': 2, 'asphalt': 2, 'playable': 2, 'dubbles': 2, 'bbuy': 2, 'outsell': 2, 'unavailable': 2, 'recovery': 2, 'tremendously': 2, 'kindlely': 2, 'fiery': 2, 'acces': 2, 'venue': 2, 'picks': 2, 'reconnecting': 2, 'jammed': 2, 'savior': 2, 'freespace': 2, 'independence': 2, 'calmness': 2, 'hire': 2, 'schooled': 2, 'assoc': 2, 'parenting': 2, 'abit': 2, 'relocate': 2, 'tmtis': 2, 'cruzing': 2, 'phantom': 2, 'underpowered': 2, 'mbr': 2, 'duel': 2, 'workable': 2, 'alternatve': 2, 'purcase': 2, 'purchasei': 2, 'contol': 2, 'solicited': 2, 'integrations': 2, 'surfacing': 2, 'detracts': 2, 'expirence': 2, 'remind': 2, 'cheaped': 2, 'appeares': 2, 'tread': 2, 'multifaceted': 2, 'rubs': 2, 'arounds': 2, 'smudges': 2, 'paws': 2, 'ness': 2, 'supportled': 2, 'conflicting': 2, 'isnot': 2, 'contender': 2, 'sorely': 2, 'accedently': 2, 'minuscule': 2, 'stripped': 2, 'inexpeisve': 2, 'pretyy': 2, 'premitive': 2, 'educationally': 2, 'familiarizing': 2, 'eaxh': 2, 'bith': 2, 'geeks': 2, 'downright': 2, 'imaginable': 2, 'grandbabie': 2, 'lunchtime': 2, 'nerve': 2, 'wracking': 2, 'sims': 2, 'bing': 2, 'trending': 2, 'blocked': 2, 'gotchas': 2, 'locking': 2, 'nano': 2, 'pictureshe': 2, 'acquainted': 2, 'hug': 2, 'survey': 2, 'greenish': 2, 'appeared': 2, 'integrates': 2, 'entertainig': 2, 'farms': 2, 'viedos': 2, 'applies': 2, 'reflection': 2, 'authenticated': 2, 'sis': 2, 'pointed': 2, 'triplet': 2, 'ahs': 2, 'cruising': 2, 'biographys': 2, 'plying': 2, 'apts': 2, 'sceen': 2, 'kkep': 2, 'downgrading': 2, 'brenda': 2, 'disrespectful': 2, 'rude': 2, 'representing': 2, 'salary': 2, 'scenes': 2, 'benefiting': 2, 'stalk': 2, 'clones': 2, 'savoy': 2, 'greats': 2, 'unboxing': 2, 'kb': 2, 'atari': 2, 'presets': 2, 'explains': 2, 'elmo': 2, 'temporarily': 2, 'aiden': 2, 'anime': 2, 'edgewise': 2, 'exterior': 2, 'craze': 2, 'deficits': 2, 'passcode': 2, 'lokes': 2, 'supportable': 2, 'canaccess': 2, 'wolf': 2, 'barley': 2, 'fox': 2, 'easyto': 2, 'crafted': 2, 'glue': 2, 'topics': 2, 'bugging': 2, 'passwords': 2, 'chubby': 2, 'stills': 2, 'freetimeunlimited': 2, 'apply': 2, 'biking': 2, 'lastlonger': 2, 'hangs': 2, 'himsince': 2, 'bok': 2, 'assisting': 2, 'warranties': 2, 'overheating': 2, 'nonresponsive': 2, 'midday': 2, 'swype': 2, 'shimmering': 2, 'stomach': 2, 'exclusive': 2, 'kindlle': 2, 'authorized': 2, 'polite': 2, 'wtf': 2, 'aggravation': 2, 'precious': 2, 'thursday': 2, 'checks': 2, 'allthough': 2, 'cutoff': 2, 'toggling': 2, 'underway': 2, 'easel': 2, 'articulating': 2, 'leapfrog': 2, 'fay': 2, 'hds': 2, 'gety': 2, 'minds': 2, 'cramped': 2, 'regretted': 2, 'fridaypros': 2, 'processors': 2, 'soundwell': 2, 'builtcons': 2, 'accomplish': 2, 'storenet': 2, 'wnough': 2, 'warrant': 2, 'poloroid': 2, 'unrivaled': 2, 'pixelating': 2, 'alert': 2, 'ond': 2, 'expectationin': 2, 'solving': 2, 'advertisment': 2, 'stoped': 2, 'movement': 2, 'foor': 2, 'websurfing': 2, 'traveler': 2, 'rood': 2, 'fashioned': 2, 'peppa': 2, 'pig': 2, 'samaumg': 2, 'haircut': 2, 'dentist': 2, 'productively': 2, 'netflick': 2, 'pkus': 2, 'tangerine': 2, 'redbox': 2, 'dull': 2, 'inexplicably': 2, 'chatging': 2, 'formated': 2, 'ntfs': 2, 'xfat': 2, 'aftermarket': 2, 'coc': 2, 'launched': 2, 'wayyyyy': 2, 'hint': 2, 'stinks': 2, 'octane': 2, 'fruit': 2, 'casting': 2, 'frog': 2, 'recomended': 2, 'kidz': 2, 'loooong': 2, 'lenovo': 2, 'rail': 2, 'acc': 2, 'grankids': 2, 'lotmore': 2, 'streamline': 2, 'loathe': 2, 'discontinue': 2, 'unbecoming': 2, 'pronto': 2, 'bogs': 2, 'craig': 2, 'producs': 2, 'functinality': 2, 'exchanges': 2, 'kendal': 2, 'cardscons': 2, 'workaround': 2, 'intrusiveoverall': 2, 'mishandled': 2, 'casei': 2, 'replaceable': 2, 'ager': 2, 'slouch': 2, 'utilizing': 2, 'gardening': 2, 'hints': 2, 'breed': 2, 'alwyas': 2, 'dreamed': 2, 'preordered': 2, 'juggling': 2, 'ubiquitous': 2, 'rcase': 2, 'zinio': 2, 'loosens': 2, 'lib': 2, 'ninety': 2, 'expectionations': 2, 'cabin': 2, 'announced': 2, 'reverses': 2, 'eighth': 2, 'imaging': 2, 'inadequate': 2, 'appts': 2, 'alaska': 2, 'kathleen': 2, 'stroyek': 2, 'dishwashers': 2, 'peaceful': 2, 'techonology': 2, 'finishing': 2, 'dat': 2, 'fitst': 2, 'rehab': 2, 'multiplied': 2, 'tasker': 2, 'protections': 2, 'fifteen': 2, 'hawaii': 2, 'cloths': 2, 'pesky': 2, 'poundage': 2, 'airlines': 2, 'itl': 2, 'pleanty': 2, 'freely': 2, 'fanciest': 2, 'tabelt': 2, 'tabet': 2, 'everday': 2, 'technologically': 2, 'multiuse': 2, 'screamreal': 2, 'profrssional': 2, 'sharpness': 2, 'voracious': 2, 'pff': 2, 'resort': 2, 'enlarged': 2, 'peasy': 2, 'cookbooks': 2, 'handsets': 2, 'netflexs': 2, 'undergrond': 2, 'seams': 2, 'efficiency': 2, 'thr': 2, 'programmable': 2, 'chugs': 2, 'rules': 2, 'wantedbest': 2, 'alsome': 2, 'disconnected': 2, 'difiitioin': 2, 'pounds': 2, 'transactions': 2, 'theatre': 2, 'tix': 2, 'yokod': 2, 'inverted': 2, 'patchy': 2, 'touted': 2, 'thinnest': 2, 'kindly': 2, 'printer': 2, 'remotely': 2, 'moments': 2, 'obtrusive': 2, 'yoru': 2, 'cnn': 2, 'struggleit': 2, 'heed': 2, 'void': 2, 'bumping': 2, 'gosh': 2, 'excel': 2, 'amoled': 2, 'stolen': 2, 'astounding': 2, 'slicone': 2, 'everthing': 2, 'loooks': 2, 'becuase': 2, 'default': 2, 'solitair': 2, 'sodium': 2, 'conv': 2, 'bookstores': 2, 'almighty': 2, 'politics': 2, 'marine': 2, 'flips': 2, 'crate': 2, 'learnered': 2, 'sorting': 2, 'sequencing': 2, 'adh': 2, 'irrelevant': 2, 'fingerprint': 2, 'generationworking': 2, 'immersive': 2, 'fintie': 2, 'headrest': 2, 'cracking': 2, 'hiccup': 2, 'navigated': 2, 'functionalities': 2, 'thw': 2, 'landscape': 2, 'comic': 2, 'earphones': 2, 'supplemental': 2, 'networking': 2, 'delays': 2, 'considers': 2, 'nighty': 2, 'charlie': 2, 'berenstain': 2, 'bears': 2, 'dino': 2, 'selects': 2, 'grandparent': 2, 'xmass': 2, 'convincing': 2, 'foster': 2, 'blocking': 2, 'protecting': 2, 'spill': 2, 'lookin': 2, 'backspace': 2, 'fory': 2, 'artistic': 2, 'apk': 2, 'browsers': 2, 'warrantee': 2, 'pushes': 2, 'enhance': 2, 'inconvient': 2, 'kore': 2, 'films': 2, 'appropariate': 2, 'treat': 2, 'motivate': 2, 'sprint': 2, 'inevitably': 2, 'simplest': 2, 'ipods': 2, 'tabwet': 2, 'pj': 2, 'masks': 2, 'doubled': 2, 'thks': 2, 'regulation': 2, 'attempt': 2, 'futile': 2, 'tethering': 2, 'oit': 2, 'tumblr': 2, 'magnet': 2, 'kangaroo': 2, 'pogo': 2, 'launch': 2, 'discerning': 2, 'abcs': 2, 'advancement': 2, 'stringer': 2, 'consulting': 2, 'buyshock': 2, 'firesticks': 2, 'pauses': 2, 'feaures': 2, 'crucial': 2, 'allowance': 2, 'tabletscons': 2, 'football': 2, 'ruins': 2, 'enjoyes': 2, 'folded': 2, 'arrow': 2, 'bits': 2, 'personalized': 2, 'champ': 2, 'sheets': 1, 'beeding': 1, 'towels': 1, 'doorbell': 1, 'kno': 1, 'eeeks': 1, 'experimented': 1, 'inedible': 1, 'usedd': 1, 'tthrough': 1, 'jn': 1, 'oprah': 1, 'chuckle': 1, 'integral': 1, 'thes': 1, 'xpected': 1, 'swears': 1, 'leappads': 1, 'excessive': 1, 'lieutenant': 1, 'forrest': 1, 'fluctuate': 1, 'scavenging': 1, 'stealing': 1, 'renewed': 1, 'vigor': 1, 'fueling': 1, 'gallon': 1, 'foursomes': 1, 'greaatttt': 1, 'objects': 1, 'adequately': 1, 'bht': 1, 'lrice': 1, 'theyblast': 1, 'thunking': 1, 'definitly': 1, 'wirth': 1, 'tires': 1, 'brakes': 1, 'subscdiption': 1, 'energize': 1, 'steers': 1, 'zillion': 1, 'loooooong': 1, 'anker': 1, 'poop': 1, 'uxcelplastic': 1, 'tacky': 1, 'whivh': 1, 'annually': 1, 'arrangement': 1, 'resealable': 1, 'puedo': 1, 'recomendarlo': 1, 'ampliamente': 1, 'recommendedgo': 1, 'offbrand': 1, 'garabge': 1, 'od': 1, 'fe': 1, 'sooooo': 1, 'productions': 1, 'oz': 1, 'lab': 1, 'proves': 1, 'ass': 1, 'talkie': 1, 'scotts': 1, 'evidence': 1, 'batt': 1, 'iced': 1, 'ice': 1, 'cubes': 1, 'melting': 1, 'darkness': 1, 'plentiful': 1, 'ooze': 1, 'ambition': 1, 'involving': 1, 'sieve': 1, 'rank': 1, 'toasts': 1, 'announcements': 1, 'sacked': 1, 'raters': 1, 'conclude': 1, 'taylor': 1, 'swift': 1, 'properties': 1, 'speedflash': 1, 'victim': 1, 'captured': 1, 'exposures': 1, 'macs': 1, 'retire': 1, 'internals': 1, 'ineligible': 1, 'raw': 1, 'wholesale': 1, 'multiples': 1, 'mt': 1, 'teeth': 1, 'buzz': 1, 'amazong': 1, 'alter': 1, 'earliest': 1, 'reoccurring': 1, 'branch': 1, 'woeful': 1, 'sizzling': 1, 'fizzling': 1, 'female': 1, 'violent': 1, 'nasty': 1, 'coating': 1, 'everseriously': 1, 'blinded': 1, 'diabetes': 1, 'inventory': 1, 'chinse': 1, 'dutch': 1, 'oddest': 1, 'pumpkin': 1, 'advise': 1, 'conscious': 1, 'trackballs': 1, 'terrifc': 1, 'dash': 1, 'onthese': 1, 'buddy': 1, 'convience': 1, 'kwikset': 1, 'kevo': 1, 'blinkforhome': 1, 'expenditures': 1, 'pulse': 1, 'oximeter': 1, 'cheaperand': 1, 'unbrandedbatteries': 1, 'mover': 1, 'gar': 1, 'bage': 1, 'defribrilator': 1, 'greek': 1, 'isles': 1, 'siberia': 1, 'nyet': 1, 'drift': 1, 'tripping': 1, 'respective': 1, 'cardiac': 1, 'surgeon': 1, 'suffer': 1, 'wretched': 1, 'sprayed': 1, 'furious': 1, 'unexplainably': 1, 'restocking': 1, 'bursts': 1, 'shortens': 1, 'sharpener': 1, 'manards': 1, 'wilol': 1, 'soooo': 1, 'samples': 1, 'shameful': 1, 'diminishes': 1, 'spoil': 1, 'rotten': 1, 'trump': 1, 'shoulders': 1, 'creative': 1, 'profit': 1, 'chess': 1, 'complicates': 1, 'abnormal': 1, 'disposing': 1, 'eta': 1, 'youpros': 1, 'batteriesthey': 1, 'aroundcons': 1, 'impressions': 1, 'shooted': 1, 'goofy': 1, 'excellently': 1, 'defectlve': 1, 'straighten': 1, 'alongside': 1, 'occasion': 1, 'wiggle': 1, 'pit': 1, 'buckle': 1, 'schlage': 1, 'puck': 1, 'deodorizer': 1, 'ant': 1, 'wheel': 1, 'blink': 1, 'q': 1, 'worthiness': 1, 'chineese': 1, 'rockclimbing': 1, 'variables': 1, 'wins': 1, 'experiments': 1, 'pooped': 1, 'shaky': 1, 'clam': 1, 'environmentaly': 1, 'bans': 1, 'subscribesave': 1, 'stache': 1, 'everybit': 1, 'discusses': 1, 'unselfish': 1, 'relish': 1, 'reducing': 1, 'unlikely': 1, 'dimensions': 1, 'pricecons': 1, 'noneadditional': 1, 'considerations': 1, 'starsif': 1, 'nimhs': 1, 'adventure': 1, 'averaged': 1, 'circular': 1, 'tick': 1, 'nomenclature': 1, 'realizing': 1, 'leasti': 1, 'productis': 1, 'expectedfits': 1, 'president': 1, 'thesed': 1, 'magnifying': 1, 'necessitates': 1, 'origin': 1, 'reviewd': 1, 'facemask': 1, 'blame': 1, 'drinking': 1, 'tea': 1, 'teas': 1, 'mu': 1, 'flavors': 1, 'tangy': 1, 'aftertaste': 1, 'evenings': 1, 'swissphone': 1, 'pager': 1, 'evaluations': 1, 'rout': 1, 'havnt': 1, 'pas': 1, 'abi': 1, 'wuality': 1, 'offerings': 1, 'homeless': 1, 'competitioo': 1, 'sanyo': 1, 'asdfghj': 1, 'hols': 1, 'betters': 1, 'buen': 1, 'producto': 1, 'buenos': 1, 'productos': 1, 'wrone': 1, 'battreries': 1, 'alternatibve': 1, 'refrig': 1, 'delicious': 1, 'iob': 1, 'deed': 1, 'duran': 1, 'muchisimo': 1, 'recomiendo': 1, 'apocalypse': 1, 'willbuy': 1, 'exelent': 1, 'fanastic': 1, 'doorstep': 1, 'procuct': 1, 'produc': 1, 'batteiries': 1, 'graat': 1, 'grea': 1, 'dael': 1, 'valueright': 1, 'greatf': 1, 'greatvprice': 1, 'gteat': 1, 'transmtter': 1, 'puchase': 1, 'sinister': 1, 'duraccels': 1, 'replacments': 1, 'prewrapped': 1, 'barreries': 1, 'adverised': 1, 'legit': 1, 'amanzon': 1, 'koslosky': 1, 'endorsement': 1, 'ncie': 1, 'okey': 1, 'daniel': 1, 'mauro': 1, 'savd': 1, 'squillions': 1, 'expedited': 1, 'aaaaa': 1, 'goood': 1, 'complies': 1, 'recomment': 1, 'wor': 1, 'reccoment': 1, 'chianese': 1, 'jose': 1, 'gooood': 1, 'realy': 1, 'quaility': 1, 'ther': 1, 'ecpected': 1, 'immortal': 1, 'soul': 1, 'zap': 1, 'discribed': 1, 'appease': 1, 'dollartree': 1, 'lightbulbs': 1, 'gurfr': 1, 'ner': 1, 'onggrevrf': 1, 'ng': 1, 'gur': 1, 'evtug': 1, 'cevprf': 1, 'gung': 1, 'abg': 1, 'ernyyl': 1, 'ohg': 1, 'tbbq': 1, 'rabhtu': 1, 'zr': 1, 'abj': 1, 'notation': 1, 'convent': 1, 'exxpected': 1, 'morethese': 1, 'sdfgsdfgsdfgsdfgsdfg': 1, 'jim': 1, 'sems': 1, 'batterues': 1, 'defaults': 1, 'rally': 1, 'thery': 1, 'warehouses': 1, 'expire': 1, 'hardship': 1, 'loathing': 1, 'sprained': 1, 'slice': 1, 'strait': 1, 'unwrapping': 1, 'funcitonality': 1, 'flicker': 1, 'gina': 1, 'explosions': 1, 'ranks': 1, 'excessively': 1, 'humidity': 1, 'marketplace': 1, 'maker': 1, 'boats': 1, 'aircraft': 1, 'offshore': 1, 'america': 1, 'kills': 1, 'assortment': 1, 'bascis': 1, 'fustration': 1, 'bacic': 1, 'topped': 1, 'evaluate': 1, 'thrifty': 1, 'sealable': 1, 'shortwave': 1, 'fins': 1, 'slices': 1, 'genius': 1, 'dedicate': 1, 'scads': 1, 'dumping': 1, 'heater': 1, 'blackweb': 1, 'wiimote': 1, 'discuss': 1, 'ripp': 1, 'prick': 1, 'feeders': 1, 'sso': 1, 'normall': 1, 'conair': 1, 'defuzzer': 1, 'clothing': 1, 'bogus': 1, 'appropriately': 1, 'dynex': 1, 'battey': 1, 'aficionado': 1, 'ought': 1, 'ery': 1, 'functiomal': 1, 'spaces': 1, 'backless': 1, 'multipacks': 1, 'loopy': 1, 'goof': 1, 'rounding': 1, 'minimums': 1, 'tu': 1, 'gots': 1, 'tha': 1, 'exhibiting': 1, 'sensibilities': 1, 'generates': 1, 'powder': 1, 'emergeny': 1, 'storms': 1, 'zombie': 1, 'attacks': 1, 'amir': 1, 'ziploc': 1, 'xbone': 1, 'scuf': 1, 'ecological': 1, 'exhausted': 1, 'undemanding': 1, 'minimalist': 1, 'outperform': 1, 'js': 1, 'expencted': 1, 'rush': 1, 'samsclub': 1, 'courtesy': 1, 'trusting': 1, 'functionlime': 1, 'suprisingly': 1, 'woohoo': 1, 'master': 1, 'akaline': 1, 'stb': 1, 'superbly': 1, 'ams': 1, 'miscellaneous': 1, 'freat': 1, 'themyou': 1, 'purchaed': 1, 'necessity': 1, 'producing': 1, 'desert': 1, 'degradation': 1, 'abandon': 1, 'dread': 1, 'hintgreat': 1, 'affiliate': 1, 'compensation': 1, 'integrity': 1, 'elses': 1, 'hasstle': 1, 'conjunction': 1, 'conflicted': 1, 'estimated': 1, 'dumb': 1, 'li': 1, 'chalk': 1, 'owl': 1, 'walkway': 1, 'grocers': 1, 'rollers': 1, 'supper': 1, 'infinitely': 1, 'clamshell': 1, 'deliveries': 1, 'mishaps': 1, 'unfortunetly': 1, 'possession': 1, 'makers': 1, 'aroind': 1, 'monthwill': 1, 'durecel': 1, 'eneegizer': 1, 'thier': 1, 'mobey': 1, 'compliments': 1, 'spoken': 1, 'lynordering': 1, 'mailer': 1, 'sizeable': 1, 'rattling': 1, 'tipping': 1, 'jumbled': 1, 'established': 1, 'lask': 1, 'maglight': 1, 'overlooked': 1, 'organizing': 1, 'strictly': 1, 'nintendo': 1, 'inexpressive': 1, 'ham': 1, 'egger': 1, 'fooled': 1, 'favs': 1, 'roommates': 1, 'cluster': 1, 'unrechargables': 1, 'cree': 1, 'unsurprisingly': 1, 'mord': 1, 'george': 1, 'raving': 1, 'swooped': 1, 'recharable': 1, 'alkline': 1, 'discussion': 1, 'marc': 1, 'correra': 1, 'oral': 1, 'irrigator': 1, 'praiseworthy': 1, 'alsoconveniently': 1, 'bursting': 1, 'ultrasonic': 1, 'bark': 1, 'perfer': 1, 'quanty': 1, 'fakes': 1, 'trailer': 1, 'fridge': 1, 'wel': 1, 'mane': 1, 'deny': 1, 'energerzier': 1, 'determining': 1, 'aprs': 1, 'motorcycle': 1, 'gloveboxes': 1, 'rubberbands': 1, 'mortgage': 1, 'exaggeration': 1, 'ships': 1, 'longrun': 1, 'routinely': 1, 'counters': 1, 'ifnnot': 1, 'stamp': 1, 'geotrax': 1, 'jay': 1, 'horror': 1, 'liner': 1, 'enrolled': 1, 'blowing': 1, 'nuclear': 1, 'bp': 1, 'conditioner': 1, 'hosed': 1, 'reiterate': 1, 'disservice': 1, 'vouche': 1, 'floored': 1, 'prattle': 1, 'fitbit': 1, 'battereis': 1, 'scientifically': 1, 'regulations': 1, 'parcels': 1, 'tears': 1, 'forgive': 1, 'confirms': 1, 'repurchasing': 1, 'craziest': 1, 'desided': 1, 'grass': 1, 'role': 1, 'lengthy': 1, 'ziplock': 1, 'attach': 1, 'jynger': 1, 'doggy': 1, 'suckers': 1, 'palate': 1, 'radioshack': 1, 'shift': 1, 'stingy': 1, 'kittens': 1, 'logged': 1, 'maxwells': 1, 'aug': 1, 'jan': 1, 'render': 1, 'sucker': 1, 'immense': 1, 'turnover': 1, 'formulation': 1, 'engineer': 1, 'dutifully': 1, 'frankenstein': 1, 'shaking': 1, 'hips': 1, 'bowl': 1, 'appreciative': 1, 'impacted': 1, 'encountering': 1, 'pry': 1, 'ordeal': 1, 'apples': 1, 'cartridges': 1, 'dymo': 1, 'peripheral': 1, 'ingredients': 1, 'rejected': 1, 'diminished': 1, 'clued': 1, 'mailman': 1, 'multiplack': 1, 'fulcrum': 1, 'forwarded': 1, 'spoofingamazon': 1, 'bullets': 1, 'tossing': 1, 'valve': 1, 'ahesive': 1, 'ripped': 1, 'paddle': 1, 'layman': 1, 'usages': 1, 'anythinh': 1, 'clippers': 1, 'turtle': 1, 'happiness': 1, 'muahahahahaha': 1, 'shouldnt': 1, 'wks': 1, 'reimbursement': 1, 'reaccuring': 1, 'packets': 1, 'specialists': 1, 'pawbo': 1, 'corrosive': 1, 'malfunction': 1, 'residue': 1, 'threes': 1, 'seasons': 1, 'stretched': 1, 'gunmen': 1, 'battteries': 1, 'zer': 1, 'receivers': 1, 'meters': 1, 'delightful': 1, 'consoles': 1, 'harsh': 1, 'nightlights': 1, 'fiddler': 1, 'maxx': 1, 'jamuary': 1, 'obsolescence': 1, 'wiimotes': 1, 'receipting': 1, 'dcompared': 1, 'durcaell': 1, 'meeting': 1, 'hello': 1, 'policies': 1, 'blinking': 1, 'egg': 1, 'structural': 1, 'coincidence': 1, 'crapped': 1, 'spazzed': 1, 'barking': 1, 'crawled': 1, 'brawl': 1, 'bruised': 1, 'defeated': 1, 'biz': 1, 'thy': 1, 'rinse': 1, 'lint': 1, 'smiling': 1, 'bottled': 1, 'epic': 1, 'stocks': 1, 'pest': 1, 'deterrent': 1, 'trees': 1, 'amazonbascis': 1, 'marking': 1, 'monster': 1, 'byut': 1, 'pathetic': 1, 'ashamed': 1, 'shrinkwrap': 1, 'mikes': 1, 'confusion': 1, 'expires': 1, 'defectsgreat': 1, 'contraption': 1, 'demons': 1, 'jimmie': 1, 'twisting': 1, 'causes': 1, 'undue': 1, 'apologized': 1, 'addage': 1, 'hereafter': 1, 'unoped': 1, 'sock': 1, 'snow': 1, 'pumping': 1, 'exploxed': 1, 'blankets': 1, 'newborn': 1, 'underwhelming': 1, 'appeal': 1, 'warned': 1, 'turbo': 1, 'brew': 1, 'grinds': 1, 'pot': 1, 'extraordinary': 1, 'costlywas': 1, 'peers': 1, 'electricians': 1, 'pole': 1, 'pins': 1, 'poles': 1, 'speedlites': 1, 'fujitsu': 1, 'fouled': 1, 'deceptively': 1, 'energized': 1, 'ut': 1, 'booooo': 1, 'substandard': 1, 'jk': 1, 'ina': 1, 'dissappintes': 1, 'ceases': 1, 'amaze': 1, 'thee': 1, 'lytes': 1, 'packagedwell': 1, 'moreamazonbasics': 1, 'da': 1, 'hyp': 1, 'telephone': 1, 'pitched': 1, 'ergomatic': 1, 'vibrate': 1, 'veru': 1, 'buttuns': 1, 'probe': 1, 'tighten': 1, 'prope': 1, 'scew': 1, 'manufators': 1, 'controler': 1, 'hsve': 1, 'shook': 1, 'learner': 1, 'duracels': 1, 'hallway': 1, 'perf': 1, 'adaquate': 1, 'cheper': 1, 'nimh': 1, 'rounded': 1, 'chewing': 1, 'newly': 1, 'possitive': 1, 'damaging': 1, 'frys': 1, 'grandkid': 1, 'sometine': 1, 'unremarkable': 1, 'assess': 1, 'linus': 1, 'sebastian': 1, 'frugal': 1, 'reassures': 1, 'sth': 1, 'tarnished': 1, 'rusty': 1, 'valuecons': 1, 'ouststanding': 1, 'cart': 1, 'displeased': 1, 'mo': 1, 'bashing': 1, 'groans': 1, 'bfrnd': 1, 'fulfillment': 1, 'bettery': 1, 'electrician': 1, 'andvreallyninportant': 1, 'countertop': 1, 'flatter': 1, 'ourth': 1, 'roller': 1, 'thingy': 1, 'yelled': 1, 'fades': 1, 'static': 1, 'shoe': 1, 'quicly': 1, 'affordably': 1, 'west': 1, 'rocky': 1, 'mountains': 1, 'collectors': 1, 'attacked': 1, 'swoosh': 1, 'swing': 1, 'hurriedly': 1, 'swooshing': 1, 'escaped': 1, 'josecards': 1, 'strategically': 1, 'addicting': 1, 'cordstained': 1, 'remotesnot': 1, 'thentakes': 1, 'lst': 1, 'wallymart': 1, 'maxcell': 1, 'leapster': 1, 'gs': 1, 'explorers': 1, 'touchpad': 1, 'deeper': 1, 'peak': 1, 'retention': 1, 'zippo': 1, 'compensated': 1, 'separating': 1, 'lifted': 1, 'tumbled': 1, 'removal': 1, 'vowed': 1, 'revenge': 1, 'furniture': 1, 'petty': 1, 'pains': 1, 'shipments': 1, 'containers': 1, 'utter': 1, 'ruleshaha': 1, 'bilingual': 1, 'leakers': 1, 'calculated': 1, 'memorex': 1, 'theseboth': 1, 'pedi': 1, 'callused': 1, 'grinder': 1, 'workoutamazon': 1, 'differencei': 1, 'finepix': 1, 'counted': 1, 'einstein': 1, 'lousy': 1, 'royally': 1, 'indication': 1, 'resolves': 1, 'warrants': 1, 'fence': 1, 'contains': 1, 'attending': 1, 'conforms': 1, 'widely': 1, 'incurred': 1, 'hip': 1, 'glance': 1, 'powerexcellent': 1, 'freshly': 1, 'bettter': 1, 'disconnects': 1, 'mist': 1, 'diffuser': 1, 'discharges': 1, 'locals': 1, 'prolonged': 1, 'bacterias': 1, 'prepackaged': 1, 'mars': 1, 'traxxas': 1, 'rustler': 1, 'thess': 1, 'int': 1, 'na': 1, 'ammount': 1, 'fallout': 1, 'excursions': 1, 'raider': 1, 'smashing': 1, 'unsubscribed': 1, 'otber': 1, 'ski': 1, 'wilderness': 1, 'dummy': 1, 'mulit': 1, 'recorders': 1, 'alcaline': 1, 'ni': 1, 'mh': 1, 'tray': 1, 'officer': 1, 'afforadable': 1, 'malice': 1, 'unconditionally': 1, 'property': 1, 'temperamental': 1, 'trustworthy': 1, 'neighbors': 1, 'chatty': 1, 'fl': 1, 'liberal': 1, 'arts': 1, 'stander': 1, 'suckered': 1, 'chicken': 1, 'coop': 1, 'habitually': 1, 'unequalled': 1, 'remained': 1, 'tripped': 1, 'bargains': 1, 'chalking': 1, 'rundown': 1, 'ensures': 1, 'shove': 1, 'storebrand': 1, 'unstable': 1, 'skimping': 1, 'insufficent': 1, 'monkey': 1, 'verses': 1, 'heavyweight': 1, 'fairy': 1, 'pointers': 1, 'timeframe': 1, 'sand': 1, 'leaker': 1, 'walgreen': 1, 'lije': 1, 'whooping': 1, 'batteriers': 1, 'runout': 1, 'gadgetsremotes': 1, 'qualifty': 1, 'shine': 1, 'puppy': 1, 'antifreeze': 1, 'jackpot': 1, 'analysis': 1, 'lll': 1, 'voltages': 1, 'professor': 1, 'cheapdon': 1, 'heckuva': 1, 'grandtoddler': 1, 'rotation': 1, 'comperitive': 1, 'piling': 1, 'slipped': 1, 'cery': 1, 'wud': 1, 'rendering': 1, 'garmin': 1, 'etrex': 1, 'snack': 1, 'classroom': 1, 'ammo': 1, 'asap': 1, 'morepretty': 1, 'valuation': 1, 'police': 1, 'slimy': 1, 'suite': 1, 'excelentproduct': 1, 'exhaust': 1, 'regularl': 1, 'reciept': 1, 'lastedn': 1, 'ahh': 1, 'untrustworthy': 1, 'unopened': 1, 'formally': 1, 'unsurpassed': 1, 'consensus': 1, 'gp': 1, 'pdp': 1, 'h': 1, 'csg': 1, 'refcmcrdppdp': 1, 'eyelash': 1, 'curler': 1, 'opting': 1, 'tampered': 1, 'z': 1, 'ladder': 1, 'liver': 1, 'onions': 1, 'themeslves': 1, 'descovering': 1, 'cumulative': 1, 'tricked': 1, 'grasp': 1, 'cello': 1, 'batteriesdon': 1, 'longdon': 1, 'theseyou': 1, 'eliminated': 1, 'snuck': 1, 'theseas': 1, 'unlucky': 1, 'umm': 1, 'likeany': 1, 'differents': 1, 'supposedly': 1, 'predecessors': 1, 'contacting': 1, 'idigital': 1, 'born': 1, 'encompasses': 1, 'giver': 1, 'entity': 1, 'onslaught': 1, 'prisrob': 1, 'outweigh': 1, 'wth': 1, 'nickle': 1, 'diming': 1, 'flyers': 1, 'noti': 1, 'bob': 1, 'spells': 1, 'triedi': 1, 'decline': 1, 'coupons': 1, 'human': 1, 'nocturnal': 1, 'digiscale': 1, 'infrared': 1, 'batteres': 1, 'anecdotal': 1, 'rightand': 1, 'farhighly': 1, 'sceptical': 1, 'tease': 1, 'alleged': 1, 'addiction': 1, 'subsequently': 1, 'consistentl': 1, 'neighborhood': 1, 'listof': 1, 'circumference': 1, 'fri': 1, 'vendors': 1, 'propose': 1, 'placements': 1, 'forgetful': 1, 'storesquality': 1, 'comparatively': 1, 'grooming': 1, 'avaiable': 1, 'branching': 1, 'mouseses': 1, 'aluminumun': 1, 'pecker': 1, 'hmmmm': 1, 'financial': 1, 'advisor': 1, 'wagging': 1, 'jurys': 1, 'containment': 1, 'sealer': 1, 'grr': 1, 'speechless': 1, 'discarding': 1, 'favourite': 1, 'dvds': 1, 'donate': 1, 'towers': 1, 'boycotting': 1, 'netting': 1, 'trim': 1, 'attachment': 1, 'lies': 1, 'anchor': 1, 'arch': 1, 'tatty': 1, 'spreads': 1, 'eared': 1, 'overally': 1, 'sloppy': 1, 'cope': 1, 'trendy': 1, 'island': 1, 'hasle': 1, 'coworker': 1, 'compaints': 1, 'un': 1, 'metered': 1, 'optic': 1, 'addon': 1, 'poorer': 1, 'exploted': 1, 'jazzed': 1, 'goods': 1, 'comprehensively': 1, 'zerg': 1, 'supermarket': 1, 'cuter': 1, 'skinny': 1, 'flow': 1, 'snail': 1, 'multiply': 1, 'scattered': 1, 'appreciable': 1, 'holy': 1, 'moly': 1, 'bam': 1, 'tucked': 1, 'wand': 1, 'theamazon': 1, 'mystical': 1, 'guitars': 1, 'boombox': 1, 'lifestyle': 1, 'deterioration': 1, 'batteriesi': 1, 'newi': 1, 'calculate': 1, 'steroids': 1, 'males': 1, 'cobtroller': 1, 'chains': 1, 'shorting': 1, 'differ': 1, 'bulbs': 1, 'thea': 1, 'nymph': 1, 'thwy': 1, 'remite': 1, 'arelucky': 1, 'wasteyour': 1, 'contracted': 1, 'harbour': 1, 'dissappointed': 1, 'weels': 1, 'bv': 1, 'taillight': 1, 'intensity': 1, 'attracted': 1, 'energiser': 1, 'returnable': 1, 'configure': 1, 'bi': 1, 'latley': 1, 'batteires': 1, 'expiring': 1, 'scuba': 1, 'areal': 1, 'depicted': 1, 'tightest': 1, 'clearances': 1, 'powr': 1, 'amazes': 1, 'haveing': 1, 'accurately': 1, 'muchlovegratitude': 1, 'decorating': 1, 'dealgreat': 1, 'wat': 1, 'maglite': 1, 'captain': 1, 'okk': 1, 'organical': 1, 'paperboard': 1, 'shockingly': 1, 'anxious': 1, 'powerfull': 1, 'agaib': 1, 'ware': 1, 'ful': 1, 'rechargebles': 1, 'artwork': 1, 'valued': 1, 'wll': 1, 'defintiely': 1, 'nuf': 1, 'meanwhile': 1, 'outdid': 1, 'distinguished': 1, 'countduracell': 1, 'dammit': 1, 'fml': 1, 'dela': 1, 'lifecycle': 1, 'yassss': 1, 'walkies': 1, 'bonknbatteries': 1, 'cnadles': 1, 'celo': 1, 'fart': 1, 'robotics': 1, 'nxt': 1, 'clipping': 1, 'luna': 1, 'formance': 1, 'jumper': 1, 'distorted': 1, 'packagethese': 1, 'wraps': 1, 'imprinted': 1, 'accented': 1, 'protruding': 1, 'descriptions': 1, 'lr': 1, 'symbols': 1, 'circuited': 1, 'improperly': 1, 'arrows': 1, 'speedlite': 1, 'barbie': 1, 'autoship': 1, 'junkies': 1, 'shredder': 1, 'wager': 1, 'buyng': 1, 'mybaby': 1, 'homedics': 1, 'soundspa': 1, 'achieving': 1, 'strands': 1, 'ceremony': 1, 'memorable': 1, 'formed': 1, 'partitions': 1, 'theorize': 1, 'applicable': 1, 'conjecture': 1, 'quibble': 1, 'batteriessize': 1, 'noneoverall': 1, 'bargainwould': 1, 'seam': 1, 'ext': 1, 'odds': 1, 'helicopter': 1, 'chewed': 1, 'batreries': 1, 'battries': 1, 'thailand': 1, 'recloseable': 1, 'canisters': 1, 'evil': 1, 'abroad': 1, 'forego': 1, 'consumable': 1, 'rayb': 1, 'sweeeeeeeeet': 1, 'batches': 1, 'separates': 1, 'tamiya': 1, 'harry': 1, 'potter': 1, 'wondered': 1, 'retract': 1, 'calvin': 1, 'lightsaber': 1, 'expensivewith': 1, 'thisthe': 1, 'respectively': 1, 'hundredth': 1, 'electrochemistry': 1, 'corrode': 1, 'flickering': 1, 'stems': 1, 'grins': 1, 'repeated': 1, 'lined': 1, 'terminals': 1, 'squat': 1, 'solidly': 1, 'firmly': 1, 'concluding': 1, 'firm': 1, 'piddle': 1, 'absorbent': 1, 'arena': 1, 'column': 1, 'emphasizing': 1, 'approximate': 1, 'carbon': 1, 'monoxide': 1, 'listnever': 1, 'dateevery': 1, 'brandsi': 1, 'indiana': 1, 'everteady': 1, 'cans': 1, 'killed': 1, 'semi': 1, 'ehh': 1, 'estimation': 1, 'pumpkins': 1, 'brightly': 1, 'fry': 1, 'streamlight': 1, 'microstream': 1, 'greatcame': 1, 'woke': 1, 'forbid': 1, 'pricr': 1, 'promote': 1, 'shoppers': 1, 'freakin': 1, 'stripping': 1, 'costoco': 1, 'attest': 1, 'sizing': 1, 'visibly': 1, 'snice': 1, 'forthcoming': 1, 'camcorder': 1, 'magically': 1, 'boo': 1, 'betterthan': 1, 'topay': 1, 'cannon': 1, 'wipes': 1, 'sings': 1, 'holter': 1, 'monitors': 1, 'patients': 1, 'reschedule': 1, 'dung': 1, 'migrated': 1, 'savers': 1, 'doodads': 1, 'trst': 1, 'reluctantly': 1, 'speedlight': 1, 'techy': 1, 'chase': 1, 'shuttle': 1, 'moon': 1, 'junkiest': 1, 'propellent': 1, 'rummaging': 1, 'desperation': 1, 'eternity': 1, 'earbleeding': 1, 'menopausal': 1, 'torpedo': 1, 'john': 1, 'induced': 1, 'ytd': 1, 'av': 1, 'touchee': 1, 'effiency': 1, 'dooooo': 1, 'amore': 1, 'possessions': 1, 'mama': 1, 'isolated': 1, 'kudos': 1, 'needlessly': 1, 'ned': 1, 'dor': 1, 'lat': 1, 'probley': 1, 'reconsider': 1, 'turkeys': 1, 'idisappointed': 1, 'batterieswith': 1, 'pak': 1, 'paks': 1, 'whywouldamazonbother': 1, 'century': 1, 'duper': 1, 'records': 1, 'drama': 1, 'amazonbasicis': 1, 'bases': 1, 'cursing': 1, 'gods': 1, 'forsaking': 1, 'rage': 1, 'grossed': 1, 'hiding': 1, 'dosappointed': 1, 'smoothest': 1, 'ownded': 1, 'yards': 1, 'stressful': 1, 'elevated': 1, 'tilting': 1, 'ventilated': 1, 'typewriter': 1, 'ibm': 1, 'selectrics': 1, 'royals': 1, 'sight': 1, 'rise': 1, 'slanting': 1, 'inward': 1, 'worker': 1, 'spillage': 1, 'wrists': 1, 'perforated': 1, 'peripherals': 1, 'subject': 1, 'rivets': 1, 'welded': 1, 'touched': 1, 'envy': 1, 'snuggly': 1, 'accessory': 1, 'nalgene': 1, 'destinations': 1, 'constructioncompares': 1, 'favorably': 1, 'packsno': 1, 'brandinggreat': 1, 'detaillarge': 1, 'compartmentlots': 1, 'subcompartmentsorganizer': 1, 'sundries': 1, 'compartmentcons': 1, 'lookstop': 1, 'perfunctorystiff': 1, 'movedthe': 1, 'piping': 1, 'embossed': 1, 'slippage': 1, 'sufficiently': 1, 'generously': 1, 'jansport': 1, 'bean': 1, 'manilla': 1, 'paraphernalia': 1, 'obligatory': 1, 'zippered': 1, 'ballistic': 1, 'earing': 1, 'dividers': 1, 'manipulated': 1, 'walking': 1, 'sewn': 1, 'caliber': 1, 'anticipation': 1, 'studios': 1, 'royal': 1, 'caribbean': 1, 'extraneous': 1, 'pouch': 1, 'punctured': 1, 'pencils': 1, 'cinch': 1, 'width': 1, 'loosened': 1, 'lining': 1, 'idems': 1, 'rains': 1, 'timberline': 1, 'classified': 1, 'sturdiness': 1, 'tumbles': 1, 'lunchbox': 1, 'bulges': 1, 'rigidly': 1, 'posture': 1, 'organizational': 1, 'remembering': 1, 'diminish': 1, 'ouch': 1, 'lifelong': 1, 'ww': 1, 'outfitted': 1, 'snowshoe': 1, 'mildew': 1, 'fittings': 1, 'ergonomicshere': 1, 'contemporary': 1, 'tradeoff': 1, 'tekkie': 1, 'fabrics': 1, 'tugs': 1, 'wrestle': 1, 'shekels': 1, 'inspiron': 1, 'diary': 1, 'technician': 1, 'paperwork': 1, 'sandwiches': 1, 'western': 1, 'tb': 1, 'aesthetics': 1, 'passports': 1, 'reassuring': 1, 'cm': 1, 'ruggedised': 1, 'usefully': 1, 'netted': 1, 'commuting': 1, 'women': 1, 'sked': 1, 'hollow': 1, 'internationally': 1, 'changeable': 1, 'norway': 1, 'worded': 1, 'converter': 1, 'norwegian': 1, 'criticisms': 1, 'abv': 1, 'miracles': 1, 'outliers': 1, 'israel': 1, 'interchangeable': 1, 'powerfast': 1, 'slippes': 1, 'pan': 1, 'bedridden': 1, 'configured': 1, 'intervals': 1, 'fitting': 1, 'usbs': 1, 'scrabble': 1, 'intercom': 1, 'questionso': 1, 'instrumentals': 1, 'mantovani': 1, 'paul': 1, 'mauriat': 1, 'herb': 1, 'alpert': 1, 'diamond': 1, 'petula': 1, 'clark': 1, 'cubs': 1, 'motels': 1, 'dubuque': 1, 'ia': 1, 'singing': 1, 'rainforest': 1, 'mississippi': 1, 'mood': 1, 'anyones': 1, 'queries': 1, 'phrased': 1, 'agreeing': 1, 'copyright': 1, 'promt': 1, 'apposed': 1, 'robotic': 1, 'departure': 1, 'owen': 1, 'disconnect': 1, 'skill': 1, 'mariachi': 1, 'avarage': 1, 'draugther': 1, 'ganes': 1, 'aws': 1, 'interaction': 1, 'innovation': 1, 'uncanny': 1, 'horoscope': 1, 'portablebility': 1, 'sweden': 1, 'portugal': 1, 'lake': 1, 'jokes': 1, 'lifx': 1, 'satchel': 1, 'ittt': 1, 'wirelessly': 1, 'iheartradio': 1, 'woken': 1, 'mike': 1, 'hectic': 1, 'coll': 1, 'interactions': 1, 'retrieves': 1, 'valid': 1, 'gor': 1, 'bluetoothdecent': 1, 'excess': 1, 'informs': 1, 'forcast': 1, 'prouducts': 1, 'conpack': 1, 'adoptor': 1, 'usefule': 1, 'highway': 1, 'batterey': 1, 'worldwide': 1, 'iceberg': 1, 'compensate': 1, 'andespn': 1, 'tethered': 1, 'upholstery': 1, 'fave': 1, 'fot': 1, 'comprehensive': 1, 'unclear': 1, 'disconnecting': 1, 'toggle': 1, 'thruout': 1, 'understood': 1, 'existent': 1, 'mids': 1, 'duly': 1, 'luke': 1, 'distortion': 1, 'amazement': 1, 'amzon': 1, 'inbuilt': 1, 'inna': 1, 'playlist': 1, 'yearbook': 1, 'cnet': 1, 'frustrations': 1, 'requesting': 1, 'commandscons': 1, 'speakersoverall': 1, 'greatdifficult': 1, 'sseems': 1, 'weary': 1, 'exercising': 1, 'verbally': 1, 'genre': 1, 'forecast': 1, 'namesake': 1, 'chagrin': 1, 'intro': 1, 'outdside': 1, 'yell': 1, 'acoustics': 1, 'booming': 1, 'domino': 1, 'pf': 1, 'summon': 1, 'spy': 1, 'independant': 1, 'playlists': 1, 'forecasts': 1, 'indefinite': 1, 'og': 1, 'merely': 1, 'belkin': 1, 'boughy': 1, 'alezxa': 1, 'algorithms': 1, 'coolest': 1, 'inventions': 1, 'innovative': 1, 'committed': 1, 'paradigm': 1, 'gain': 1, 'expenses': 1, 'treble': 1, 'recognizes': 1, 'novelty': 1, 'scratchy': 1, 'execution': 1, 'interconnected': 1, 'circlers': 1, 'dystopia': 1, 'eggers': 1, 'escape': 1, 'prompts': 1, 'pizza': 1, 'hail': 1, 'uber': 1, 'npr': 1, 'likenit': 1, 'intimidated': 1, 'safer': 1, 'balcony': 1, 'productive': 1, 'dorms': 1, 'tappy': 1, 'configuration': 1, 'avaliable': 1, 'alley': 1, 'audiophiles': 1, 'instructive': 1, 'ft': 1, 'tx': 1, 'mimi': 1, 'kdis': 1, 'interruptions': 1, 'hut': 1, 'gizmo': 1, 'interpreting': 1, 'guam': 1, 'plagued': 1, 'memorize': 1, 'pill': 1, 'flexible': 1, 'graduated': 1, 'vis': 1, 'renders': 1, 'forgets': 1, 'conveniences': 1, 'heaper': 1, 'announcement': 1, 'marino': 1, 'briefs': 1, 'fishing': 1, 'linking': 1, 'deaf': 1, 'surroundings': 1, 'surreptitiously': 1, 'communicate': 1, 'defeat': 1, 'stages': 1, 'smartness': 1, 'usd': 1, 'tin': 1, 'covenient': 1, 'relation': 1, 'handsyou': 1, 'bemoaning': 1, 'scoop': 1, 'smartthings': 1, 'ifttt': 1, 'multipurpose': 1, 'balanced': 1, 'tuning': 1, 'detect': 1, 'smarthome': 1, 'artist': 1, 'someways': 1, 'michael': 1, 'bolton': 1, 'bruce': 1, 'springsteen': 1, 'cult': 1, 'trashing': 1, 'triby': 1, 'partnerships': 1, 'sonos': 1, 'hvac': 1, 'trivia': 1, 'ijnfo': 1, 'repository': 1, 'instructio': 1, 'caveats': 1, 'forte': 1, 'honeywell': 1, 'pits': 1, 'wold': 1, 'hmmm': 1, 'printable': 1, 'evolve': 1, 'schedules': 1, 'unknowingly': 1, 'responded': 1, 'siriusxm': 1, 'howard': 1, 'stern': 1, 'nfl': 1, 'mlb': 1, 'satellite': 1, 'solo': 1, 'rice': 1, 'solves': 1, 'bones': 1, 'county': 1, 'ignorance': 1, 'paperwite': 1, 'kindler': 1, 'pixles': 1, 'lengths': 1, 'seagate': 1, 'bottleneck': 1, 'shielded': 1, 'rectangle': 1, 'motherboard': 1, 'shielding': 1, 'upholds': 1, 'throughput': 1, 'lifts': 1, 'lean': 1, 'whites': 1, 'chairs': 1, 'concentrate': 1, 'invent': 1, 'mountain': 1, 'stroke': 1, 'mystery': 1, 'copywriter': 1, 'understandfor': 1, 'nap': 1, 'replies': 1, 'satistfy': 1, 'eink': 1, 'christ': 1, 'nazareth': 1, 'voyages': 1, 'bless': 1, 'crank': 1, 'gloves': 1, 'disliking': 1, 'rocking': 1, 'minimize': 1, 'shud': 1, 'ttry': 1, 'sensation': 1, 'costliest': 1, 'helium': 1, 'balloon': 1, 'paris': 1, 'dominance': 1, 'hepatic': 1, 'earning': 1, 'tone': 1, 'distracts': 1, 'matte': 1, 'specialized': 1, 'consult': 1, 'situ': 1, 'trading': 1, 'urge': 1, 'evolution': 1, 'adverse': 1, 'disrupts': 1, 'melatonin': 1, 'king': 1, 'avaiailable': 1, 'res': 1, 'taxes': 1, 'georgia': 1, 'qualifying': 1, 'whiter': 1, 'crumb': 1, 'catcher': 1, 'batterry': 1, 'exactlo': 1, 'nooks': 1, 'cadillac': 1, 'whip': 1, 'receives': 1, 'handbag': 1, 'conistent': 1, 'adopter': 1, 'resisted': 1, 'brightens': 1, 'pol': 1, 'madman': 1, 'vacations': 1, 'sulight': 1, 'frankfort': 1, 'welcomed': 1, 'builder': 1, 'confused': 1, 'specialties': 1, 'bitten': 1, 'supporter': 1, 'baggie': 1, 'duck': 1, 'gathers': 1, 'manages': 1, 'basket': 1, 'pending': 1, 'addresses': 1, 'toldpeople': 1, 'wishes': 1, 'blackscreen': 1, 'concentration': 1, 'warentee': 1, 'scratch': 1, 'blueish': 1, 'defense': 1, 'mighty': 1, 'copperish': 1, 'toned': 1, 'prettymuch': 1, 'thelarge': 1, 'ofmaking': 1, 'havefound': 1, 'buyhas': 1, 'thestore': 1, 'enlarges': 1, 'resize': 1, 'transportability': 1, 'adoption': 1, 'aura': 1, 'ditch': 1, 'aquired': 1, 'browny': 1, 'dimming': 1, 'pagesif': 1, 'ligths': 1, 'encyclopedia': 1, 'indigenous': 1, 'utilizes': 1, 'restaurants': 1, 'planes': 1, 'dallas': 1, 'overheat': 1, 'andy': 1, 'remarked': 1, 'habits': 1, 'mandates': 1, 'variations': 1, 'sticked': 1, 'appreciates': 1, 'voraciously': 1, 'tjis': 1, 'readin': 1, 'bookmarks': 1, 'lightness': 1, 'recommendable': 1, 'remarkable': 1, 'compensates': 1, 'ghost': 1, 'backlot': 1, 'spills': 1, 'adjuster': 1, 'homepage': 1, 'ipadmini': 1, 'hardcover': 1, 'pannier': 1, 'facedown': 1, 'apprehensive': 1, 'nicest': 1, 'reallllllllllllllllllllllllllllllllllllllllllllllly': 1, 'reimagined': 1, 'nailed': 1, 'hy': 1, 'detachment': 1, 'theft': 1, 'seattle': 1, 'fear': 1, 'achieved': 1, 'bias': 1, 'breakcons': 1, 'animation': 1, 'powerpoint': 1, 'tinged': 1, 'forums': 1, 'sued': 1, 'antenna': 1, 'gradient': 1, 'visualize': 1, 'downgrade': 1, 'addressed': 1, 'distressed': 1, 'adapts': 1, 'lightlove': 1, 'resume': 1, 'luddite': 1, 'biggie': 1, 'fluidity': 1, 'impact': 1, 'dirtying': 1, 'suffers': 1, 'operator': 1, 'borders': 1, 'diagram': 1, 'bookmark': 1, 'clippings': 1, 'otter': 1, 'ver': 1, 'defunct': 1, 'disassembling': 1, 'crimp': 1, 'rhyme': 1, 'pinging': 1, 'turners': 1, 'splurged': 1, 'owners': 1, 'effortless': 1, 'formats': 1, 'stage': 1, 'archive': 1, 'symbol': 1, 'easliy': 1, 'resets': 1, 'thhought': 1, 'noe': 1, 'littlebit': 1, 'hards': 1, 'respect': 1, 'screencons': 1, 'frustratingwith': 1, 'binged': 1, 'boundbook': 1, 'upcharge': 1, 'interfaceneeds': 1, 'passion': 1, 'flatness': 1, 'hep': 1, 'gradually': 1, 'lowering': 1, 'unparalleled': 1, 'tract': 1, 'longing': 1, 'proposition': 1, 'prefered': 1, 'loyalty': 1, 'nonexistent': 1, 'movers': 1, 'produ': 1, 'ct': 1, 'freind': 1, 'shadows': 1, 'bound': 1, 'mentioning': 1, 'horizontally': 1, 'efficacy': 1, 'humbly': 1, 'submit': 1, 'notches': 1, 'indispensable': 1, 'paperbacks': 1, 'tackle': 1, 'character': 1, 'nespresso': 1, 'capsules': 1, 'capsule': 1, 'piled': 1, 'amusing': 1, 'messaging': 1, 'nightstand': 1, 'rape': 1, 'mount': 1, 'copes': 1, 'calming': 1, 'modes': 1, 'homemade': 1, 'nordic': 1, 'outs': 1, 'thangs': 1, 'impede': 1, 'kf': 1, 'panicked': 1, 'hogs': 1, 'cookbook': 1, 'slowest': 1, 'recipe': 1, 'slarts': 1, 'althought': 1, 'unpredictable': 1, 'futon': 1, 'wood': 1, 'beastly': 1, 'deceased': 1, 'gecksqd': 1, 'painstakingly': 1, 'honeycomb': 1, 'contenders': 1, 'crowd': 1, 'educate': 1, 'educating': 1, 'marketamazon': 1, 'sw': 1, 'deems': 1, 'tryout': 1, 'friendas': 1, 'doc': 1, 'grandaughters': 1, 'scan': 1, 'qr': 1, 'codes': 1, 'multitude': 1, 'tapes': 1, 'technilogical': 1, 'pime': 1, 'clothes': 1, 'shaping': 1, 'overages': 1, 'manipulate': 1, 'doin': 1, 'extensively': 1, 'yoga': 1, 'assessible': 1, 'ownership': 1, 'clinicals': 1, 'techny': 1, 'captable': 1, 'timing': 1, 'grandboy': 1, 'moto': 1, 'discussing': 1, 'promos': 1, 'ehhh': 1, 'explandable': 1, 'unaceptable': 1, 'tones': 1, 'vulcans': 1, 'manuals': 1, 'acrobat': 1, 'otoh': 1, 'offended': 1, 'philips': 1, 'suster': 1, 'docs': 1, 'performant': 1, 'ilovemy': 1, 'clamps': 1, 'pie': 1, 'ook': 1, 'preserve': 1, 'replay': 1, 'transportable': 1, 'fugured': 1, 'ringer': 1, 'hipsters': 1, 'buds': 1, 'improvments': 1, 'unorganized': 1, 'cease': 1, 'surpassed': 1, 'preoccupied': 1, 'programmed': 1, 'shoves': 1, 'hroat': 1, 'haveit': 1, 'girly': 1, 'fears': 1, 'pict': 1, 'recuperating': 1, 'saleman': 1, 'hilariously': 1, 'warrenty': 1, 'wry': 1, 'byee': 1, 'server': 1, 'misled': 1, 'captivated': 1, 'gui': 1, 'nad': 1, 'lightings': 1, 'completly': 1, 'polarized': 1, 'sunglasses': 1, 'satisfiedeasier': 1, 'caring': 1, 'es': 1, 'scrutiny': 1, 'purses': 1, 'seatmate': 1, 'overhead': 1, 'writes': 1, 'margins': 1, 'clearness': 1, 'seated': 1, 'sky': 1, 'detached': 1, 'preffered': 1, 'stuffers': 1, 'veeery': 1, 'mostle': 1, 'somthing': 1, 'fas': 1, 'wfi': 1, 'soundbar': 1, 'affodable': 1, 'seventh': 1, 'disrupt': 1, 'wasthe': 1, 'criticize': 1, 'breath': 1, 'hasnt': 1, 'kindergarteners': 1, 'ignorant': 1, 'putin': 1, 'secured': 1, 'pound': 1, 'yetfastestand': 1, 'relaxation': 1, 'usefulto': 1, 'transfered': 1, 'griendly': 1, 'kerplot': 1, 'gona': 1, 'squenting': 1, 'ph': 1, 'ne': 1, 'overwhelming': 1, 'piggyback': 1, 'megapixels': 1, 'accounting': 1, 'lagging': 1, 'novel': 1, 'feather': 1, 'prints': 1, 'qwerks': 1, 'onternet': 1, 'workmanship': 1, 'abysmal': 1, 'shorted': 1, 'kicking': 1, 'dwarfs': 1, 'cream': 1, 'stark': 1, 'intent': 1, 'flavor': 1, 'coexist': 1, 'ztotop': 1, 'backstrap': 1, 'playbooks': 1, 'tempted': 1, 'mil': 1, 'confess': 1, 'universe': 1, 'andriod': 1, 'hardwark': 1, 'needy': 1, 'lawrence': 1, 'buffalo': 1, 'recommenf': 1, 'creation': 1, 'history': 1, 'dptrp': 1, 'longshot': 1, 'actuality': 1, 'reportedly': 1, 'bookworms': 1, 'cages': 1, 'gates': 1, 'drastic': 1, 'appple': 1, 'fora': 1, 'solitary': 1, 'axis': 1, 'tosed': 1, 'screan': 1, 'soundresponsivealexa': 1, 'awesomebest': 1, 'pricebattery': 1, 'mygirlfriend': 1, 'smeary': 1, 'featuring': 1, 'extract': 1, 'copied': 1, 'blade': 1, 'netbooks': 1, 'zillionth': 1, 'egad': 1, 'sadvertisement': 1, 'scree': 1, 'heavyweights': 1, 'carseat': 1, 'everyway': 1, 'mamy': 1, 'outgrown': 1, 'permits': 1, 'permit': 1, 'evidenced': 1, 'hating': 1, 'terrified': 1, 'deductible': 1, 'kindie': 1, 'chency': 1, 'cellphones': 1, 'strangers': 1, 'xd': 1, 'preview': 1, 'baseline': 1, 'hotmail': 1, 'banks': 1, 'surfuring': 1, 'wil': 1, 'surel': 1, 'surfs': 1, 'hound': 1, 'hobby': 1, 'interms': 1, 'tokens': 1, 'debit': 1, 'nightmare': 1, 'delivering': 1, 'dents': 1, 'provider': 1, 'hokey': 1, 'beefy': 1, 'coloer': 1, 'specify': 1, 'coarse': 1, 'transcribe': 1, 'handwriting': 1, 'suggests': 1, 'conferencing': 1, 'gran': 1, 'unbreakable': 1, 'adicting': 1, 'youse': 1, 'uncomplicated': 1, 'wieght': 1, 'compelling': 1, 'slowed': 1, 'startup': 1, 'clogged': 1, 'promoting': 1, 'weakness': 1, 'ignored': 1, 'dismissed': 1, 'promo': 1, 'folio': 1, 'complications': 1, 'emailing': 1, 'sametime': 1, 'buyand': 1, 'renowned': 1, 'predecessor': 1, 'howtogeek': 1, 'fav': 1, 'victory': 1, 'varying': 1, 'forsee': 1, 'hoopla': 1, 'wit': 1, 'xxxx': 1, 'gbs': 1, 'customizing': 1, 'hardest': 1, 'arguably': 1, 'humming': 1, 'wash': 1, 'conneseiur': 1, 'matches': 1, 'lifting': 1, 'weights': 1, 'tongift': 1, 'enought': 1, 'setback': 1, 'ypu': 1, 'tou': 1, 'netlfix': 1, 'woeks': 1, 'lounging': 1, 'fragile': 1, 'couples': 1, 'streamming': 1, 'workscons': 1, 'agps': 1, 'choppy': 1, 'starte': 1, 'gramps': 1, 'tike': 1, 'carpet': 1, 'intentions': 1, 'forum': 1, 'planing': 1, 'asd': 1, 'meltdowns': 1, 'meltdown': 1, 'vga': 1, 'turnoff': 1, 'outlook': 1, 'client': 1, 'sitters': 1, 'multiwindow': 1, 'authorize': 1, 'theon': 1, 'droppable': 1, 'moblie': 1, 'hotspots': 1, 'dearly': 1, 'availablility': 1, 'ranging': 1, 'maximized': 1, 'westland': 1, 'missouri': 1, 'mossouri': 1, 'jefferson': 1, 'hassles': 1, 'successfully': 1, 'blessing': 1, 'downs': 1, 'spec': 1, 'atmos': 1, 'soundstage': 1, 'straw': 1, 'lamented': 1, 'slamming': 1, 'crafting': 1, 'cricut': 1, 'producteasy': 1, 'compainion': 1, 'gagets': 1, 'pursued': 1, 'swiped': 1, 'changer': 1, 'furthermore': 1, 'mentally': 1, 'fledged': 1, 'primaril': 1, 'resilience': 1, 'heights': 1, 'strengths': 1, 'discretely': 1, 'minors': 1, 'sporting': 1, 'dea': 1, 'sideloaded': 1, 'fastand': 1, 'kuds': 1, 'impressing': 1, 'knowledged': 1, 'bumps': 1, 'expressions': 1, 'willbe': 1, 'transports': 1, 'prine': 1, 'tabletwould': 1, 'fro': 1, 'everwhere': 1, 'serving': 1, 'aim': 1, 'preset': 1, 'showtime': 1, 'cheesy': 1, 'multitasks': 1, 'iseasy': 1, 'mami': 1, 'kurios': 1, 'resists': 1, 'purchashed': 1, 'asset': 1, 'precision': 1, 'fuller': 1, 'ki': 1, 'brained': 1, 'diagnosed': 1, 'encephalitis': 1, 'regain': 1, 'ta': 1, 'replacinglove': 1, 'freeplay': 1, 'goddaughter': 1, 'grin': 1, 'baked': 1, 'bbc': 1, 'huh': 1, 'ghj': 1, 'purely': 1, 'eagerly': 1, 'arguing': 1, 'aforementioned': 1, 'experimenting': 1, 'crummy': 1, 'retains': 1, 'awkwardly': 1, 'shoddy': 1, 'viewwhere': 1, 'documentaries': 1, 'nowe': 1, 'rmv': 1, 'vstates': 1, 'abusive': 1, 'teachers': 1, 'incase': 1, 'potty': 1, 'schoolwork': 1, 'appointment': 1, 'panted': 1, 'mario': 1, 'chocked': 1, 'mission': 1, 'slippy': 1, 'attribute': 1, 'ands': 1, 'fritz': 1, 'nauseum': 1, 'crashing': 1, 'dive': 1, 'quickness': 1, 'avery': 1, 'sincemy': 1, 'serviceman': 1, 'sudoku': 1, 'mymom': 1, 'stall': 1, 'tabley': 1, 'brorher': 1, 'instrument': 1, 'easey': 1, 'improvents': 1, 'absolutelt': 1, 'ise': 1, 'enhances': 1, 'withstood': 1, 'stool': 1, 'kindleeasy': 1, 'staggering': 1, 'boggles': 1, 'bug': 1, 'verygood': 1, 'muted': 1, 'bulkiness': 1, 'resonable': 1, 'transitioning': 1, 'runnig': 1, 'mi': 1, 'averything': 1, 'forcibly': 1, 'demonstrated': 1, 'macular': 1, 'degeneration': 1, 'flashiest': 1, 'youself': 1, 'tempeture': 1, 'detailing': 1, 'crafty': 1, 'http': 1, 'saintlad': 1, 'serviceskindle': 1, 'amazonbut': 1, 'skinned': 1, 'lolipop': 1, 'nougat': 1, 'semitransparent': 1, 'blackish': 1, 'pefect': 1, 'iimited': 1, 'comixology': 1, 'pixilated': 1, 'deivce': 1, 'vet': 1, 'buffered': 1, 'reaching': 1, 'youd': 1, 'modded': 1, 'filters': 1, 'doh': 1, 'juvenile': 1, 'meantime': 1, 'alerting': 1, 'outta': 1, 'compaired': 1, 'qualitygreat': 1, 'screenshot': 1, 'possibilty': 1, 'callinh': 1, 'firstly': 1, 'persons': 1, 'adept': 1, 'cushion': 1, 'wheels': 1, 'spinning': 1, 'incapabilities': 1, 'populated': 1, 'unexplained': 1, 'elders': 1, 'gbyte': 1, 'header': 1, 'cyber': 1, 'insistence': 1, 'subsequent': 1, 'complex': 1, 'troublesome': 1, 'ponying': 1, 'contaced': 1, 'concluded': 1, 'framework': 1, 'painless': 1, 'daycare': 1, 'divice': 1, 'clud': 1, 'thur': 1, 'calm': 1, 'imposed': 1, 'voices': 1, 'kissing': 1, 'forkids': 1, 'prep': 1, 'deregistered': 1, 'jeep': 1, 'buggin': 1, 'manny': 1, 'comeon': 1, 'fulfills': 1, 'britbox': 1, 'dementia': 1, 'overwhelmed': 1, 'connivence': 1, 'sake': 1, 'wacky': 1, 'crashes': 1, 'bouncing': 1, 'vast': 1, 'coverts': 1, 'happend': 1, 'adapting': 1, 'aluminium': 1, 'oven': 1, 'convection': 1, 'blemish': 1, 'detract': 1, 'slash': 1, 'sweaty': 1, 'capturing': 1, 'stanby': 1, 'backside': 1, 'grippy': 1, 'epaper': 1, 'unreasonable': 1, 'whispersync': 1, 'airpod': 1, 'emailed': 1, 'inquiring': 1, 'registration': 1, 'submitted': 1, 'slowness': 1, 'loooooove': 1, 'grandniece': 1, 'gravitated': 1, 'certainty': 1, 'ttje': 1, 'backpacking': 1, 'haul': 1, 'pigeon': 1, 'holed': 1, 'declines': 1, 'monopoly': 1, 'cutting': 1, 'zooms': 1, 'notification': 1, 'reminded': 1, 'doesnot': 1, 'compacted': 1, 'brighten': 1, 'flickers': 1, 'battary': 1, 'curriculum': 1, 'glear': 1, 'oss': 1, 'demerit': 1, 'thereafter': 1, 'kns': 1, 'daytime': 1, 'beech': 1, 'bookworm': 1, 'simplistic': 1, 'suprises': 1, 'thouroughly': 1, 'adventures': 1, 'unbelievably': 1, 'delay': 1, 'completion': 1, 'highlighted': 1, 'compiled': 1, 'optimist': 1, 'se': 1, 'rad': 1, 'lovit': 1, 'caveman': 1, 'silicone': 1, 'touchable': 1, 'worms': 1, 'touchy': 1, 'sicnce': 1, 'dmv': 1, 'bifocals': 1, 'migraines': 1, 'crossed': 1, 'headaches': 1, 'understandably': 1, 'defected': 1, 'reverse': 1, 'realise': 1, 'wwan': 1, 'matted': 1, 'illiterate': 1, 'bled': 1, 'phrases': 1, 'collected': 1, 'inadvertant': 1, 'twitchy': 1, 'erasing': 1, 'dreregistering': 1, 'prompted': 1, 'deduct': 1, 'calibre': 1, 'plugging': 1, 'unknown': 1, 'cycled': 1, 'corrupted': 1, 'infinite': 1, 'loop': 1, 'refurbishment': 1, 'gigabit': 1, 'severely': 1, 'handicapped': 1, 'armchair': 1, 'bathtub': 1, 'baths': 1, 'tulsa': 1, 'struggled': 1, 'theory': 1, 'desperate': 1, 'oddly': 1, 'gingerbread': 1, 'inputting': 1, 'domke': 1, 'lenses': 1, 'tailor': 1, 'sewed': 1, 'paring': 1, 'hid': 1, 'blackberry': 1, 'playbook': 1, 'transformer': 1, 'digit': 1, 'viewable': 1, 'alphanumeric': 1, 'omissions': 1, 'spaced': 1, 'spacious': 1, 'smallish': 1, 'sparse': 1, 'hzdc': 1, 'ampsthis': 1, 'flextronics': 1, 'condo': 1, 'nothin': 1, 'intermittently': 1, 'preferably': 1, 'disintegrating': 1, 'isulation': 1, 'slave': 1, 'imported': 1, 'cablesanyonei': 1, 'donuts': 1, 'bloom': 1, 'mature': 1, 'undergo': 1, 'radioactive': 1, 'decay': 1, 'sequin': 1, 'nashville': 1, 'congrats': 1, 'recommendations': 1, 'indicators': 1, 'asesome': 1, 'begrudge': 1, 'genuinely': 1, 'miro': 1, 'dizzying': 1, 'delegating': 1, 'foremost': 1, 'alleviating': 1, 'considerate': 1, 'trifold': 1, 'dishes': 1, 'cook': 1, 'willynilly': 1, 'inexspensive': 1, 'recreation': 1, 'negotiate': 1, 'reclining': 1, 'inthe': 1, 'simplty': 1, 'graduate': 1, 'twitch': 1, 'crews': 1, 'boggling': 1, 'restarts': 1, 'jazz': 1, 'muss': 1, 'prettier': 1, 'deployment': 1, 'ew': 1, 'blueray': 1, 'twhat': 1, 'relable': 1, 'darkens': 1, 'bothersome': 1, 'awesomely': 1, 'amout': 1, 'highlygreat': 1, 'tbe': 1, 'tbey': 1, 'casino': 1, 'moneyenough': 1, 'gamesdecent': 1, 'lifecons': 1, 'weekslow': 1, 'grest': 1, 'roots': 1, 'woudl': 1, 'coclors': 1, 'mixture': 1, 'goggles': 1, 'frienday': 1, 'morei': 1, 'fsntastic': 1, 'settling': 1, 'qualitygood': 1, 'moneycan': 1, 'awesomeness': 1, 'xan': 1, 'microtransactions': 1, 'childthis': 1, 'fide': 1, 'overjoyed': 1, 'weighted': 1, 'imy': 1, 'becazuse': 1, 'haf': 1, 'stoeage': 1, 'babysit': 1, 'disappointments': 1, 'unimpressive': 1, 'drawbacks': 1, 'humans': 1, 'perpetually': 1, 'stickum': 1, 'anxiety': 1, 'inducing': 1, 'demonstrate': 1, 'murphy': 1, 'economic': 1, 'truely': 1, 'narration': 1, 'graded': 1, 'customet': 1, 'tabket': 1, 'featuers': 1, 'malfunctioning': 1, 'wen': 1, 'lounger': 1, 'paretal': 1, 'probobly': 1, 'lagginess': 1, 'cortonna': 1, 'hates': 1, 'camer': 1, 'costed': 1, 'mayday': 1, 'gateway': 1, 'reaction': 1, 'sooooooo': 1, 'slowwwwww': 1, 'shades': 1, 'scheduling': 1, 'alertanative': 1, 'pearl': 1, 'rearvision': 1, 'mounts': 1, 'magnetically': 1, 'vent': 1, 'kindlelishous': 1, 'competent': 1, 'relies': 1, 'readi': 1, 'blanking': 1, 'moztly': 1, 'bookreader': 1})\n"
     ]
    }
   ],
   "source": [
    "from collections import Counter\n",
    "results = Counter()\n",
    "df['reviews.text'].str.split().apply(results.update)\n",
    "print(results)"
   ]
  },
  {
   "cell_type": "code",
   "execution_count": 20,
   "metadata": {},
   "outputs": [
    {
     "data": {
      "text/plain": [
       "9809"
      ]
     },
     "execution_count": 20,
     "metadata": {},
     "output_type": "execute_result"
    }
   ],
   "source": [
    "len(results)"
   ]
  },
  {
   "cell_type": "code",
   "execution_count": 21,
   "metadata": {},
   "outputs": [
    {
     "data": {
      "text/plain": [
       "count    28332.000000\n",
       "mean        17.140583\n",
       "std         24.035439\n",
       "min          1.000000\n",
       "25%          7.000000\n",
       "50%         11.000000\n",
       "75%         20.000000\n",
       "max        913.000000\n",
       "Name: reviews.text, dtype: float64"
      ]
     },
     "execution_count": 21,
     "metadata": {},
     "output_type": "execute_result"
    }
   ],
   "source": [
    "(df['reviews.text'].str.count(' ') + 1).describe()"
   ]
  },
  {
   "cell_type": "code",
   "execution_count": 22,
   "metadata": {},
   "outputs": [
    {
     "data": {
      "text/html": [
       "<div>\n",
       "<style scoped>\n",
       "    .dataframe tbody tr th:only-of-type {\n",
       "        vertical-align: middle;\n",
       "    }\n",
       "\n",
       "    .dataframe tbody tr th {\n",
       "        vertical-align: top;\n",
       "    }\n",
       "\n",
       "    .dataframe thead th {\n",
       "        text-align: right;\n",
       "    }\n",
       "</style>\n",
       "<table border=\"1\" class=\"dataframe\">\n",
       "  <thead>\n",
       "    <tr style=\"text-align: right;\">\n",
       "      <th></th>\n",
       "      <th>reviews.rating</th>\n",
       "      <th>reviews.text</th>\n",
       "      <th>sentiment</th>\n",
       "    </tr>\n",
       "  </thead>\n",
       "  <tbody>\n",
       "    <tr>\n",
       "      <th>0</th>\n",
       "      <td>3</td>\n",
       "      <td>order   one item bad quality  missing backup s...</td>\n",
       "      <td>0</td>\n",
       "    </tr>\n",
       "    <tr>\n",
       "      <th>1</th>\n",
       "      <td>4</td>\n",
       "      <td>bulk always less expensive way go products like</td>\n",
       "      <td>1</td>\n",
       "    </tr>\n",
       "    <tr>\n",
       "      <th>2</th>\n",
       "      <td>5</td>\n",
       "      <td>well not duracell price happy</td>\n",
       "      <td>1</td>\n",
       "    </tr>\n",
       "    <tr>\n",
       "      <th>3</th>\n",
       "      <td>5</td>\n",
       "      <td>seem work well name brand batteries much bette...</td>\n",
       "      <td>1</td>\n",
       "    </tr>\n",
       "    <tr>\n",
       "      <th>4</th>\n",
       "      <td>5</td>\n",
       "      <td>batteries long lasting price great</td>\n",
       "      <td>1</td>\n",
       "    </tr>\n",
       "    <tr>\n",
       "      <th>...</th>\n",
       "      <td>...</td>\n",
       "      <td>...</td>\n",
       "      <td>...</td>\n",
       "    </tr>\n",
       "    <tr>\n",
       "      <th>28327</th>\n",
       "      <td>5</td>\n",
       "      <td>got     yr old twins     yr old one one better...</td>\n",
       "      <td>1</td>\n",
       "    </tr>\n",
       "    <tr>\n",
       "      <th>28328</th>\n",
       "      <td>4</td>\n",
       "      <td>bought niece christmas gift   years old love</td>\n",
       "      <td>1</td>\n",
       "    </tr>\n",
       "    <tr>\n",
       "      <th>28329</th>\n",
       "      <td>5</td>\n",
       "      <td>nice light internet browsing  keeping top emai...</td>\n",
       "      <td>1</td>\n",
       "    </tr>\n",
       "    <tr>\n",
       "      <th>28330</th>\n",
       "      <td>5</td>\n",
       "      <td>tablet absolutely everything want  watch tv sh...</td>\n",
       "      <td>1</td>\n",
       "    </tr>\n",
       "    <tr>\n",
       "      <th>28331</th>\n",
       "      <td>4</td>\n",
       "      <td>ninety dollars  expectionations low  still goo...</td>\n",
       "      <td>1</td>\n",
       "    </tr>\n",
       "  </tbody>\n",
       "</table>\n",
       "<p>28332 rows × 3 columns</p>\n",
       "</div>"
      ],
      "text/plain": [
       "       reviews.rating                                       reviews.text  \\\n",
       "0                   3  order   one item bad quality  missing backup s...   \n",
       "1                   4    bulk always less expensive way go products like   \n",
       "2                   5                     well not duracell price happy    \n",
       "3                   5  seem work well name brand batteries much bette...   \n",
       "4                   5                batteries long lasting price great    \n",
       "...               ...                                                ...   \n",
       "28327               5  got     yr old twins     yr old one one better...   \n",
       "28328               4      bought niece christmas gift   years old love    \n",
       "28329               5  nice light internet browsing  keeping top emai...   \n",
       "28330               5  tablet absolutely everything want  watch tv sh...   \n",
       "28331               4  ninety dollars  expectionations low  still goo...   \n",
       "\n",
       "       sentiment  \n",
       "0              0  \n",
       "1              1  \n",
       "2              1  \n",
       "3              1  \n",
       "4              1  \n",
       "...          ...  \n",
       "28327          1  \n",
       "28328          1  \n",
       "28329          1  \n",
       "28330          1  \n",
       "28331          1  \n",
       "\n",
       "[28332 rows x 3 columns]"
      ]
     },
     "execution_count": 22,
     "metadata": {},
     "output_type": "execute_result"
    }
   ],
   "source": [
    "df"
   ]
  },
  {
   "cell_type": "code",
   "execution_count": 19,
   "metadata": {},
   "outputs": [
    {
     "data": {
      "text/plain": [
       "TfidfVectorizer()"
      ]
     },
     "execution_count": 19,
     "metadata": {},
     "output_type": "execute_result"
    }
   ],
   "source": [
    "from sklearn.feature_extraction.text import TfidfVectorizer\n",
    "tfidf = TfidfVectorizer()\n",
    "tfidf.fit(df['reviews.text'])"
   ]
  },
  {
   "cell_type": "code",
   "execution_count": 20,
   "metadata": {},
   "outputs": [
    {
     "data": {
      "text/html": [
       "<div>\n",
       "<style scoped>\n",
       "    .dataframe tbody tr th:only-of-type {\n",
       "        vertical-align: middle;\n",
       "    }\n",
       "\n",
       "    .dataframe tbody tr th {\n",
       "        vertical-align: top;\n",
       "    }\n",
       "\n",
       "    .dataframe thead th {\n",
       "        text-align: right;\n",
       "    }\n",
       "</style>\n",
       "<table border=\"1\" class=\"dataframe\">\n",
       "  <thead>\n",
       "    <tr style=\"text-align: right;\">\n",
       "      <th></th>\n",
       "      <th>reviews.rating</th>\n",
       "      <th>reviews.text</th>\n",
       "      <th>sentiment</th>\n",
       "    </tr>\n",
       "  </thead>\n",
       "  <tbody>\n",
       "    <tr>\n",
       "      <th>0</th>\n",
       "      <td>3</td>\n",
       "      <td>order one item bad quality missing backup spri...</td>\n",
       "      <td>0</td>\n",
       "    </tr>\n",
       "    <tr>\n",
       "      <th>1</th>\n",
       "      <td>4</td>\n",
       "      <td>bulk always less expensive way go products like</td>\n",
       "      <td>1</td>\n",
       "    </tr>\n",
       "    <tr>\n",
       "      <th>2</th>\n",
       "      <td>5</td>\n",
       "      <td>well not_duracell price happy</td>\n",
       "      <td>1</td>\n",
       "    </tr>\n",
       "    <tr>\n",
       "      <th>3</th>\n",
       "      <td>5</td>\n",
       "      <td>seem work well name brand batteries much bette...</td>\n",
       "      <td>1</td>\n",
       "    </tr>\n",
       "    <tr>\n",
       "      <th>4</th>\n",
       "      <td>5</td>\n",
       "      <td>batteries long lasting price great</td>\n",
       "      <td>1</td>\n",
       "    </tr>\n",
       "    <tr>\n",
       "      <th>...</th>\n",
       "      <td>...</td>\n",
       "      <td>...</td>\n",
       "      <td>...</td>\n",
       "    </tr>\n",
       "    <tr>\n",
       "      <th>28327</th>\n",
       "      <td>5</td>\n",
       "      <td>got yr old twins yr old one one better perfect...</td>\n",
       "      <td>1</td>\n",
       "    </tr>\n",
       "    <tr>\n",
       "      <th>28328</th>\n",
       "      <td>4</td>\n",
       "      <td>bought niece christmas gift years old love</td>\n",
       "      <td>1</td>\n",
       "    </tr>\n",
       "    <tr>\n",
       "      <th>28329</th>\n",
       "      <td>5</td>\n",
       "      <td>nice light internet browsing keeping top email...</td>\n",
       "      <td>1</td>\n",
       "    </tr>\n",
       "    <tr>\n",
       "      <th>28330</th>\n",
       "      <td>5</td>\n",
       "      <td>tablet absolutely everything want watch tv sho...</td>\n",
       "      <td>1</td>\n",
       "    </tr>\n",
       "    <tr>\n",
       "      <th>28331</th>\n",
       "      <td>4</td>\n",
       "      <td>ninety dollars expectionations low still good ...</td>\n",
       "      <td>1</td>\n",
       "    </tr>\n",
       "  </tbody>\n",
       "</table>\n",
       "<p>28332 rows × 3 columns</p>\n",
       "</div>"
      ],
      "text/plain": [
       "       reviews.rating                                       reviews.text  \\\n",
       "0                   3  order one item bad quality missing backup spri...   \n",
       "1                   4    bulk always less expensive way go products like   \n",
       "2                   5                      well not_duracell price happy   \n",
       "3                   5  seem work well name brand batteries much bette...   \n",
       "4                   5                 batteries long lasting price great   \n",
       "...               ...                                                ...   \n",
       "28327               5  got yr old twins yr old one one better perfect...   \n",
       "28328               4         bought niece christmas gift years old love   \n",
       "28329               5  nice light internet browsing keeping top email...   \n",
       "28330               5  tablet absolutely everything want watch tv sho...   \n",
       "28331               4  ninety dollars expectionations low still good ...   \n",
       "\n",
       "       sentiment  \n",
       "0              0  \n",
       "1              1  \n",
       "2              1  \n",
       "3              1  \n",
       "4              1  \n",
       "...          ...  \n",
       "28327          1  \n",
       "28328          1  \n",
       "28329          1  \n",
       "28330          1  \n",
       "28331          1  \n",
       "\n",
       "[28332 rows x 3 columns]"
      ]
     },
     "execution_count": 20,
     "metadata": {},
     "output_type": "execute_result"
    }
   ],
   "source": [
    "df"
   ]
  },
  {
   "cell_type": "raw",
   "metadata": {},
   "source": [
    "from wordcloud import STOPWORDS\n",
    "\n",
    "from sklearn.feature_extraction.text import TfidfTransformer\n",
    "from sklearn.feature_extraction.text import CountVectorizer\n",
    "stopwords = set(STOPWORDS)\n",
    "stopwords.remove(\"not\")\n",
    "\n",
    "count_vect = CountVectorizer(min_df=2 ,stop_words=stopwords , ngram_range=(1,2))\n",
    "tfidf_transformer = TfidfTransformer()\n",
    "\n",
    "df_cv = count_vect.fit_transform(df[\"reviews.text\"])        \n",
    "\n",
    "df_tf = tfidf_transformer.fit_transform(df_cv)"
   ]
  },
  {
   "cell_type": "code",
   "execution_count": 23,
   "metadata": {},
   "outputs": [
    {
     "name": "stderr",
     "output_type": "stream",
     "text": [
      "C:\\Users\\Asus\\Anaconda3\\lib\\site-packages\\keras_preprocessing\\text.py:180: UserWarning: The `nb_words` argument in `Tokenizer` has been renamed `num_words`.\n",
      "  warnings.warn('The `nb_words` argument in `Tokenizer` '\n"
     ]
    },
    {
     "name": "stdout",
     "output_type": "stream",
     "text": [
      "(21249, 30) (21249,)\n",
      "(7083, 30) (7083,)\n",
      "Model: \"sequential\"\n",
      "_________________________________________________________________\n",
      "Layer (type)                 Output Shape              Param #   \n",
      "=================================================================\n",
      "embedding (Embedding)        (None, 30, 30)            300000    \n",
      "_________________________________________________________________\n",
      "lstm (LSTM)                  (None, 50)                16200     \n",
      "_________________________________________________________________\n",
      "dense (Dense)                (None, 1)                 51        \n",
      "=================================================================\n",
      "Total params: 316,251\n",
      "Trainable params: 316,251\n",
      "Non-trainable params: 0\n",
      "_________________________________________________________________\n",
      "None\n"
     ]
    }
   ],
   "source": [
    "from sklearn.feature_extraction.text import CountVectorizer\n",
    "from tensorflow.keras.preprocessing.text import Tokenizer\n",
    "from tensorflow.keras.preprocessing.sequence import pad_sequences\n",
    "from tensorflow.keras.models import Sequential\n",
    "from tensorflow.keras.layers import Dense, Embedding, LSTM\n",
    "from sklearn.model_selection import train_test_split\n",
    "from tensorflow.keras.utils import to_categorical\n",
    "import re\n",
    "\n",
    "max_fatures = 10000\n",
    "tokenizer = Tokenizer(nb_words=max_fatures, split=' ')\n",
    "tokenizer.fit_on_texts(df['reviews.text'].values)\n",
    "X1 = tokenizer.texts_to_sequences(df['reviews.text'].values)\n",
    "X1 = pad_sequences(X1,maxlen=30)\n",
    "\n",
    "#Y1 = pd.get_dummies(df['sentiment']).values\n",
    "\n",
    "\n",
    "Y1=df['sentiment'].values\n",
    "X1_train, X1_test, Y1_train, Y1_test = train_test_split(X1,Y1, random_state = 42)\n",
    "print(X1_train.shape,Y1_train.shape)\n",
    "print(X1_test.shape,Y1_test.shape)\n",
    "\n",
    "embed_dim = 30\n",
    "lstm_out = 50\n",
    "\n",
    "model = Sequential()\n",
    "model.add(Embedding(max_fatures, embed_dim,input_length = X1.shape[1]))\n",
    "model.add(LSTM(lstm_out,dropout=0.2))\n",
    "model.add(Dense(1,activation='sigmoid'))\n",
    "model.compile(loss = 'binary_crossentropy', optimizer='adam',metrics = ['accuracy'])\n",
    "print(model.summary())"
   ]
  },
  {
   "cell_type": "code",
   "execution_count": 24,
   "metadata": {},
   "outputs": [
    {
     "name": "stdout",
     "output_type": "stream",
     "text": [
      "Epoch 1/10\n",
      "465/465 [==============================] - 9s 14ms/step - loss: 0.3499 - accuracy: 0.8866 - val_loss: 0.1812 - val_accuracy: 0.9319\n",
      "Epoch 2/10\n",
      "465/465 [==============================] - 10s 21ms/step - loss: 0.1584 - accuracy: 0.9451 - val_loss: 0.1631 - val_accuracy: 0.9431\n",
      "Epoch 3/10\n",
      "465/465 [==============================] - 10s 21ms/step - loss: 0.1172 - accuracy: 0.9613 - val_loss: 0.1704 - val_accuracy: 0.9446\n",
      "Epoch 4/10\n",
      "465/465 [==============================] - 9s 20ms/step - loss: 0.0955 - accuracy: 0.9697 - val_loss: 0.1719 - val_accuracy: 0.9360\n",
      "Epoch 5/10\n",
      "465/465 [==============================] - 10s 20ms/step - loss: 0.0800 - accuracy: 0.9751 - val_loss: 0.1915 - val_accuracy: 0.9321\n",
      "Epoch 6/10\n",
      "465/465 [==============================] - 9s 20ms/step - loss: 0.0711 - accuracy: 0.9791 - val_loss: 0.2017 - val_accuracy: 0.9379\n",
      "Epoch 7/10\n",
      "465/465 [==============================] - 10s 21ms/step - loss: 0.0584 - accuracy: 0.9829 - val_loss: 0.2117 - val_accuracy: 0.9332\n",
      "Epoch 8/10\n",
      "465/465 [==============================] - 10s 22ms/step - loss: 0.0509 - accuracy: 0.9840 - val_loss: 0.2095 - val_accuracy: 0.9399\n",
      "Epoch 9/10\n",
      "465/465 [==============================] - 10s 21ms/step - loss: 0.0495 - accuracy: 0.9853 - val_loss: 0.2269 - val_accuracy: 0.9387\n",
      "Epoch 10/10\n",
      "465/465 [==============================] - 10s 21ms/step - loss: 0.0494 - accuracy: 0.9845 - val_loss: 0.2311 - val_accuracy: 0.9388\n"
     ]
    },
    {
     "data": {
      "text/plain": [
       "<tensorflow.python.keras.callbacks.History at 0x1a23dc342c8>"
      ]
     },
     "execution_count": 24,
     "metadata": {},
     "output_type": "execute_result"
    }
   ],
   "source": [
    "batch_size = 32\n",
    "\n",
    "\n",
    "\n",
    "model.fit(X1_train, Y1_train, epochs = 10, batch_size=batch_size,validation_split=0.3,verbose=1)\n"
   ]
  },
  {
   "cell_type": "code",
   "execution_count": 25,
   "metadata": {},
   "outputs": [],
   "source": [
    "y_pred=model.predict(X1_test)"
   ]
  },
  {
   "cell_type": "code",
   "execution_count": 26,
   "metadata": {},
   "outputs": [
    {
     "data": {
      "text/plain": [
       "array([[0.9993241 ],\n",
       "       [0.00528648],\n",
       "       [0.98856676],\n",
       "       ...,\n",
       "       [0.87009823],\n",
       "       [0.9997022 ],\n",
       "       [0.9996918 ]], dtype=float32)"
      ]
     },
     "execution_count": 26,
     "metadata": {},
     "output_type": "execute_result"
    }
   ],
   "source": [
    "y_pred"
   ]
  },
  {
   "cell_type": "code",
   "execution_count": 27,
   "metadata": {},
   "outputs": [],
   "source": [
    "y_pred2 = (y_pred > 0.5)"
   ]
  },
  {
   "cell_type": "code",
   "execution_count": 28,
   "metadata": {},
   "outputs": [],
   "source": [
    "from sklearn.metrics import classification_report"
   ]
  },
  {
   "cell_type": "code",
   "execution_count": 29,
   "metadata": {},
   "outputs": [
    {
     "name": "stdout",
     "output_type": "stream",
     "text": [
      "              precision    recall  f1-score   support\n",
      "\n",
      "           0       0.66      0.67      0.66       699\n",
      "           1       0.96      0.96      0.96      6384\n",
      "\n",
      "    accuracy                           0.93      7083\n",
      "   macro avg       0.81      0.82      0.81      7083\n",
      "weighted avg       0.93      0.93      0.93      7083\n",
      "\n"
     ]
    }
   ],
   "source": [
    "print(classification_report(Y1_test,y_pred2))"
   ]
  },
  {
   "cell_type": "code",
   "execution_count": 51,
   "metadata": {},
   "outputs": [
    {
     "name": "stdout",
     "output_type": "stream",
     "text": [
      "(21249, 36) (21249,)\n",
      "(7083, 36) (7083,)\n",
      "Model: \"sequential_6\"\n",
      "_________________________________________________________________\n",
      "Layer (type)                 Output Shape              Param #   \n",
      "=================================================================\n",
      "embedding_6 (Embedding)      (None, 36, 36)            360000    \n",
      "_________________________________________________________________\n",
      "simple_rnn (SimpleRNN)       (None, 50)                4350      \n",
      "_________________________________________________________________\n",
      "dense_5 (Dense)              (None, 1)                 51        \n",
      "=================================================================\n",
      "Total params: 364,401\n",
      "Trainable params: 364,401\n",
      "Non-trainable params: 0\n",
      "_________________________________________________________________\n",
      "None\n"
     ]
    }
   ],
   "source": [
    "from sklearn.feature_extraction.text import CountVectorizer\n",
    "from tensorflow.keras.preprocessing.text import Tokenizer\n",
    "from tensorflow.keras.preprocessing.sequence import pad_sequences\n",
    "from tensorflow.keras.models import Sequential\n",
    "from tensorflow.keras.layers import Dense, Embedding, LSTM,SimpleRNN\n",
    "from sklearn.model_selection import train_test_split\n",
    "from tensorflow.keras.utils import to_categorical\n",
    "import re\n",
    "\n",
    "max_fatures = 10000\n",
    "tokenizer = Tokenizer(nb_words=max_fatures, split=' ')\n",
    "tokenizer.fit_on_texts(df['reviews.text'].values)\n",
    "X1 = tokenizer.texts_to_sequences(df['reviews.text'].values)\n",
    "X1 = pad_sequences(X1,maxlen=36)\n",
    "\n",
    "#Y1 = pd.get_dummies(df['sentiment']).values\n",
    "\n",
    "\n",
    "Y1=df['sentiment'].values\n",
    "X1_train, X1_test, Y1_train, Y1_test = train_test_split(X1,Y1, random_state = 42)\n",
    "print(X1_train.shape,Y1_train.shape)\n",
    "print(X1_test.shape,Y1_test.shape)\n",
    "\n",
    "embed_dim = 36\n",
    "lstm_out = 50\n",
    "\n",
    "model = Sequential()\n",
    "model.add(Embedding(max_fatures, embed_dim,input_length = X1.shape[1]))\n",
    "model.add(SimpleRNN(lstm_out,dropout=0.2))\n",
    "model.add(Dense(1,activation='sigmoid'))\n",
    "model.compile(loss = 'binary_crossentropy', optimizer='adam',metrics = ['accuracy'])\n",
    "print(model.summary())"
   ]
  },
  {
   "cell_type": "code",
   "execution_count": 52,
   "metadata": {},
   "outputs": [
    {
     "name": "stdout",
     "output_type": "stream",
     "text": [
      "Epoch 1/10\n",
      "465/465 [==============================] - 6s 10ms/step - loss: 0.3399 - accuracy: 0.8872 - val_loss: 0.2465 - val_accuracy: 0.9137\n",
      "Epoch 2/10\n",
      "465/465 [==============================] - 7s 15ms/step - loss: 0.1753 - accuracy: 0.9385 - val_loss: 0.1835 - val_accuracy: 0.9346\n",
      "Epoch 3/10\n",
      "465/465 [==============================] - 8s 16ms/step - loss: 0.0884 - accuracy: 0.9714 - val_loss: 0.1797 - val_accuracy: 0.9420\n",
      "Epoch 4/10\n",
      "465/465 [==============================] - 7s 16ms/step - loss: 0.0497 - accuracy: 0.9850 - val_loss: 0.1926 - val_accuracy: 0.9471\n",
      "Epoch 5/10\n",
      "465/465 [==============================] - 7s 15ms/step - loss: 0.0311 - accuracy: 0.9907 - val_loss: 0.2002 - val_accuracy: 0.9429\n",
      "Epoch 6/10\n",
      "465/465 [==============================] - 8s 17ms/step - loss: 0.0238 - accuracy: 0.9934 - val_loss: 0.2300 - val_accuracy: 0.9322\n",
      "Epoch 7/10\n",
      "465/465 [==============================] - 8s 16ms/step - loss: 0.0213 - accuracy: 0.9942 - val_loss: 0.2417 - val_accuracy: 0.9412\n",
      "Epoch 8/10\n",
      "465/465 [==============================] - 8s 16ms/step - loss: 0.0150 - accuracy: 0.9960 - val_loss: 0.2337 - val_accuracy: 0.9387\n",
      "Epoch 9/10\n",
      "465/465 [==============================] - 8s 17ms/step - loss: 0.0140 - accuracy: 0.9960 - val_loss: 0.2504 - val_accuracy: 0.9384\n",
      "Epoch 10/10\n",
      "465/465 [==============================] - 7s 16ms/step - loss: 0.0174 - accuracy: 0.9947 - val_loss: 0.2850 - val_accuracy: 0.9373\n"
     ]
    },
    {
     "data": {
      "text/plain": [
       "<tensorflow.python.keras.callbacks.History at 0x2391f950b48>"
      ]
     },
     "execution_count": 52,
     "metadata": {},
     "output_type": "execute_result"
    }
   ],
   "source": [
    "batch_size = 32\n",
    "\n",
    "\n",
    "\n",
    "model.fit(X1_train, Y1_train, epochs = 10, batch_size=batch_size,validation_split=0.3,verbose=1)\n"
   ]
  },
  {
   "cell_type": "code",
   "execution_count": 53,
   "metadata": {},
   "outputs": [],
   "source": [
    "y_pred=model.predict(X1_test)"
   ]
  },
  {
   "cell_type": "code",
   "execution_count": 54,
   "metadata": {},
   "outputs": [],
   "source": [
    "y_pred2 = (y_pred > 0.5)"
   ]
  },
  {
   "cell_type": "code",
   "execution_count": 55,
   "metadata": {},
   "outputs": [
    {
     "name": "stdout",
     "output_type": "stream",
     "text": [
      "              precision    recall  f1-score   support\n",
      "\n",
      "           0       0.67      0.64      0.65       699\n",
      "           1       0.96      0.97      0.96      6384\n",
      "\n",
      "    accuracy                           0.93      7083\n",
      "   macro avg       0.81      0.80      0.81      7083\n",
      "weighted avg       0.93      0.93      0.93      7083\n",
      "\n"
     ]
    }
   ],
   "source": [
    "print(classification_report(Y1_test,y_pred2))"
   ]
  }
 ],
 "metadata": {
  "kernelspec": {
   "display_name": "Python 3",
   "language": "python",
   "name": "python3"
  },
  "language_info": {
   "codemirror_mode": {
    "name": "ipython",
    "version": 3
   },
   "file_extension": ".py",
   "mimetype": "text/x-python",
   "name": "python",
   "nbconvert_exporter": "python",
   "pygments_lexer": "ipython3",
   "version": "3.8.5"
  }
 },
 "nbformat": 4,
 "nbformat_minor": 4
}
